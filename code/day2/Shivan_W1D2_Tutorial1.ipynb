{
  "cells": [
    {
      "cell_type": "markdown",
      "metadata": {
        "execution": {},
        "id": "h7VeTalCXFOl"
      },
      "source": [
        "# Tutorial 1: Linear regression with MSE\n",
        "\n",
        "**Week 1, Day 2: Model Fitting**\n",
        "\n",
        "**By Neuromatch Academy**\n",
        "\n",
        "**Content creators**: Pierre-Étienne Fiquet, Anqi Wu, Alex Hyafil with help from Byron Galbraith\n",
        "\n",
        "**Content reviewers**: Lina Teichmann, Saeed Salehi, Patrick Mineault,  Ella Batty, Michael Waskom\n",
        "\n",
        "**Production editors**: Spiros Chavlis"
      ]
    },
    {
      "cell_type": "markdown",
      "metadata": {
        "execution": {},
        "id": "-i5rv-AhXFOp"
      },
      "source": [
        "___\n",
        "# Tutorial Objectives\n",
        "\n",
        "*Estimated timing of tutorial: 30 minutes*\n",
        "\n",
        "This is Tutorial 1 of a series on fitting models to data. We start with simple linear regression, using least squares optimization (Tutorial 1) and Maximum Likelihood Estimation (Tutorial 2). We will use bootstrapping to build confidence intervals around the inferred linear model parameters (Tutorial 3). We'll finish our exploration of regression models by generalizing to multiple linear regression and polynomial regression (Tutorial 4). We end by learning how to choose between these various models. We discuss the bias-variance trade-off (Tutorial 5) and Cross Validation for model selection (Tutorial 6).\n",
        "\n",
        "In this tutorial, we will learn how to fit simple linear models to data.\n",
        "- Learn how to calculate the mean-squared error (MSE)\n",
        "- Explore how model parameters (slope) influence the MSE\n",
        "- Learn how to find the optimal model parameter using least-squares optimization\n",
        "\n",
        "<br>\n",
        "\n",
        "**Acknowledgements:**\n",
        "- We thank Eero Simoncelli. Much of today's tutorials are inspired by exercises assigned in his mathtools class."
      ]
    },
    {
      "cell_type": "code",
      "execution_count": null,
      "metadata": {
        "cellView": "form",
        "execution": {},
        "id": "MW_Pr4KDXFOq",
        "colab": {
          "base_uri": "https://localhost:8080/",
          "height": 518
        },
        "outputId": "78a2e096-f06c-4d7f-aeec-c850710073a0"
      },
      "outputs": [
        {
          "output_type": "stream",
          "name": "stdout",
          "text": [
            "If you want to download the slides: https://osf.io/download/2mkq4/\n"
          ]
        },
        {
          "output_type": "execute_result",
          "data": {
            "text/plain": [
              "<IPython.lib.display.IFrame at 0x7b9cdfdf8190>"
            ],
            "text/html": [
              "\n",
              "        <iframe\n",
              "            width=\"854\"\n",
              "            height=\"480\"\n",
              "            src=\"https://mfr.ca-1.osf.io/render?url=https://osf.io/2mkq4/?direct%26mode=render%26action=download%26mode=render\"\n",
              "            frameborder=\"0\"\n",
              "            allowfullscreen\n",
              "            \n",
              "        ></iframe>\n",
              "        "
            ]
          },
          "metadata": {},
          "execution_count": 1
        }
      ],
      "source": [
        "# @title Tutorial slides\n",
        "# @markdown These are the slides for the videos in all tutorials today\n",
        "from IPython.display import IFrame\n",
        "link_id = \"2mkq4\"\n",
        "print(f\"If you want to download the slides: https://osf.io/download/{link_id}/\")\n",
        "IFrame(src=f\"https://mfr.ca-1.osf.io/render?url=https://osf.io/{link_id}/?direct%26mode=render%26action=download%26mode=render\", width=854, height=480)"
      ]
    },
    {
      "cell_type": "markdown",
      "metadata": {
        "execution": {},
        "id": "h9h_DgmCXFOs"
      },
      "source": [
        "---\n",
        "# Setup"
      ]
    },
    {
      "cell_type": "code",
      "execution_count": null,
      "metadata": {
        "cellView": "form",
        "execution": {},
        "id": "Nh0AnnOMXFOs",
        "colab": {
          "base_uri": "https://localhost:8080/"
        },
        "outputId": "36382053-85cc-4fc0-f0e2-7d1d47231878"
      },
      "outputs": [
        {
          "output_type": "stream",
          "name": "stdout",
          "text": [
            "  Preparing metadata (setup.py) ... \u001b[?25l\u001b[?25hdone\n",
            "  Preparing metadata (setup.py) ... \u001b[?25l\u001b[?25hdone\n",
            "\u001b[2K   \u001b[90m━━━━━━━━━━━━━━━━━━━━━━━━━━━━━━━━━━━━━━━━\u001b[0m \u001b[32m1.6/1.6 MB\u001b[0m \u001b[31m17.4 MB/s\u001b[0m eta \u001b[36m0:00:00\u001b[0m\n",
            "\u001b[?25h  Building wheel for vibecheck (setup.py) ... \u001b[?25l\u001b[?25hdone\n",
            "  Building wheel for datatops (setup.py) ... \u001b[?25l\u001b[?25hdone\n"
          ]
        }
      ],
      "source": [
        "# @title Install and import feedback gadget\n",
        "\n",
        "!pip3 install vibecheck datatops --quiet\n",
        "\n",
        "from vibecheck import DatatopsContentReviewContainer\n",
        "def content_review(notebook_section: str):\n",
        "    return DatatopsContentReviewContainer(\n",
        "        \"\",  # No text prompt\n",
        "        notebook_section,\n",
        "        {\n",
        "            \"url\": \"https://pmyvdlilci.execute-api.us-east-1.amazonaws.com/klab\",\n",
        "            \"name\": \"neuromatch_cn\",\n",
        "            \"user_key\": \"y1x3mpx5\",\n",
        "        },\n",
        "    ).render()\n",
        "\n",
        "\n",
        "feedback_prefix = \"W1D2_T1\""
      ]
    },
    {
      "cell_type": "code",
      "execution_count": null,
      "metadata": {
        "cellView": "both",
        "execution": {},
        "id": "KlkyeRmJXFOs"
      },
      "outputs": [],
      "source": [
        "import numpy as np\n",
        "import matplotlib.pyplot as plt"
      ]
    },
    {
      "cell_type": "code",
      "execution_count": null,
      "metadata": {
        "cellView": "form",
        "execution": {},
        "id": "Q6D5fXOGXFOs"
      },
      "outputs": [],
      "source": [
        "# @title Figure Settings\n",
        "import logging\n",
        "logging.getLogger('matplotlib.font_manager').disabled = True\n",
        "\n",
        "import ipywidgets as widgets  # interactive display\n",
        "%config InlineBackend.figure_format = 'retina'\n",
        "plt.style.use(\"https://raw.githubusercontent.com/NeuromatchAcademy/course-content/main/nma.mplstyle\")"
      ]
    },
    {
      "cell_type": "code",
      "execution_count": null,
      "metadata": {
        "execution": {},
        "id": "d52WIUqqXFOt"
      },
      "outputs": [],
      "source": [
        "# @title Plotting Functions\n",
        "\n",
        "def plot_observed_vs_predicted(x, y, y_hat, theta_hat):\n",
        "  \"\"\" Plot observed vs predicted data\n",
        "\n",
        "  Args:\n",
        "    x (ndarray): observed x values\n",
        "    y (ndarray): observed y values\n",
        "    y_hat (ndarray): predicted y values\n",
        "    theta_hat (ndarray):\n",
        "  \"\"\"\n",
        "  fig, ax = plt.subplots()\n",
        "  ax.scatter(x, y, label='Observed')  # our data scatter plot\n",
        "  ax.plot(x, y_hat, color='r', label='Fit')  # our estimated model\n",
        "  # plot residuals\n",
        "  ymin = np.minimum(y, y_hat)\n",
        "  ymax = np.maximum(y, y_hat)\n",
        "  ax.vlines(x, ymin, ymax, 'g', alpha=0.5, label='Residuals')\n",
        "  ax.set(\n",
        "      title=fr\"$\\hat{{\\theta}}$ = {theta_hat:0.2f}, MSE = {np.mean((y - y_hat)**2):.2f}\",\n",
        "      xlabel='x',\n",
        "      ylabel='y'\n",
        "  )\n",
        "  ax.legend()\n",
        "  plt.show()"
      ]
    },
    {
      "cell_type": "markdown",
      "metadata": {
        "execution": {},
        "id": "LekU2IYDXFOu"
      },
      "source": [
        "---\n",
        "# Section 1: Mean Squared Error (MSE)"
      ]
    },
    {
      "cell_type": "code",
      "execution_count": null,
      "metadata": {
        "cellView": "form",
        "execution": {},
        "id": "dyEjMpvpXFOu",
        "colab": {
          "base_uri": "https://localhost:8080/",
          "height": 580,
          "referenced_widgets": [
            "ec417c1a77f349c78611e6fabbb5c052",
            "4437496e1fd4418d82df6dcab4e87ed3",
            "c13f0632f9484caab79d4840c6bba8c1",
            "29955ff9a9d84b7fbbc68c95cc9c51b6",
            "f7c8e5bb42124baa859c2b0b28f74af9",
            "ebf2973e0a994c97a183c94d09c36032"
          ]
        },
        "outputId": "d44884d5-4c24-44dc-c46e-b434f72f034e"
      },
      "outputs": [
        {
          "output_type": "display_data",
          "data": {
            "text/plain": [
              "Tab(children=(Output(), Output()), _titles={'0': 'Youtube', '1': 'Bilibili'})"
            ],
            "application/vnd.jupyter.widget-view+json": {
              "version_major": 2,
              "version_minor": 0,
              "model_id": "ec417c1a77f349c78611e6fabbb5c052"
            }
          },
          "metadata": {}
        }
      ],
      "source": [
        "# @title Video 1: Linear Regression & Mean Squared Error\n",
        "from ipywidgets import widgets\n",
        "from IPython.display import YouTubeVideo\n",
        "from IPython.display import IFrame\n",
        "from IPython.display import display\n",
        "\n",
        "\n",
        "class PlayVideo(IFrame):\n",
        "  def __init__(self, id, source, page=1, width=400, height=300, **kwargs):\n",
        "    self.id = id\n",
        "    if source == 'Bilibili':\n",
        "      src = f'https://player.bilibili.com/player.html?bvid={id}&page={page}'\n",
        "    elif source == 'Osf':\n",
        "      src = f'https://mfr.ca-1.osf.io/render?url=https://osf.io/download/{id}/?direct%26mode=render'\n",
        "    super(PlayVideo, self).__init__(src, width, height, **kwargs)\n",
        "\n",
        "\n",
        "def display_videos(video_ids, W=400, H=300, fs=1):\n",
        "  tab_contents = []\n",
        "  for i, video_id in enumerate(video_ids):\n",
        "    out = widgets.Output()\n",
        "    with out:\n",
        "      if video_ids[i][0] == 'Youtube':\n",
        "        video = YouTubeVideo(id=video_ids[i][1], width=W,\n",
        "                             height=H, fs=fs, rel=0)\n",
        "        print(f'Video available at https://youtube.com/watch?v={video.id}')\n",
        "      else:\n",
        "        video = PlayVideo(id=video_ids[i][1], source=video_ids[i][0], width=W,\n",
        "                          height=H, fs=fs, autoplay=False)\n",
        "        if video_ids[i][0] == 'Bilibili':\n",
        "          print(f'Video available at https://www.bilibili.com/video/{video.id}')\n",
        "        elif video_ids[i][0] == 'Osf':\n",
        "          print(f'Video available at https://osf.io/{video.id}')\n",
        "      display(video)\n",
        "    tab_contents.append(out)\n",
        "  return tab_contents\n",
        "\n",
        "\n",
        "video_ids = [('Youtube', 'HumajfjJ37E'), ('Bilibili', 'BV1tA411e7NW')]\n",
        "tab_contents = display_videos(video_ids, W=854, H=480)\n",
        "tabs = widgets.Tab()\n",
        "tabs.children = tab_contents\n",
        "for i in range(len(tab_contents)):\n",
        "  tabs.set_title(i, video_ids[i][0])\n",
        "display(tabs)"
      ]
    },
    {
      "cell_type": "code",
      "execution_count": null,
      "metadata": {
        "cellView": "form",
        "execution": {},
        "id": "pjb9bsSEXFOv",
        "colab": {
          "base_uri": "https://localhost:8080/",
          "height": 62,
          "referenced_widgets": [
            "fed10c1ce96e49e18ea32d07ca9ee099",
            "c47f9b6d4cc3480fbd0e7a6168853654",
            "790d2255815742698df94036d03133c8",
            "94069c69c2aa45e48b46f32259c2f328",
            "b887759e48f54445b3cfa05967102607",
            "e050e74d3b724edfa389e695ff4fb69e",
            "12a778f968af49dfb38cc3135bbc6841",
            "011157d2f361430d9d93a666a8da1e23",
            "a2aa35e4534b4466b1494d573a20dc8a",
            "23912bafdb054f8a80b50632889b0758",
            "9d1542190de0436b88c552c8b9b8056a",
            "51000c1fcb64401b92d9f8f9c8895e85",
            "018fd16adbda40ed80b64fc88feee0a3",
            "1877732a26524bd48b37b03c47d849aa",
            "d47ee24a50c44fc796aa37e08d04d646",
            "c369c0679056410799282da44fd2efd9",
            "ffb049fc455d440e96cfb5b708c6942a",
            "03b639bd17cc4fe8b308e9f22cd1535b",
            "d9466d3d21384eb38a67b391a795cfbe",
            "a74291dd33bc423db0f05af62628fb84",
            "5235738d51044754a2249e33ac7a227b",
            "e886e3f185484176b246530cc2829b4a",
            "f03b2dd8b8634940a623778c5362bdf5",
            "49bf0865b8244f2f8118448051d222a3",
            "437a780abef8420faabe1071e31a595d",
            "ab8fffc5d9e54c8cbdb67347edb7cf1a"
          ]
        },
        "outputId": "5ef98afe-1f93-468e-cf94-ac7f6dd58d97"
      },
      "outputs": [
        {
          "output_type": "display_data",
          "data": {
            "text/plain": [
              "VBox(children=(VBox(children=(HBox(children=(Button(description='🙂', layout=Layout(height='auto', padding='0.5…"
            ],
            "application/vnd.jupyter.widget-view+json": {
              "version_major": 2,
              "version_minor": 0,
              "model_id": "fed10c1ce96e49e18ea32d07ca9ee099"
            }
          },
          "metadata": {}
        }
      ],
      "source": [
        "# @title Submit your feedback\n",
        "content_review(f\"{feedback_prefix}_Mean_Squared_Error_Video\")"
      ]
    },
    {
      "cell_type": "markdown",
      "metadata": {
        "execution": {},
        "id": "l058wbs3XFOw"
      },
      "source": [
        "This video covers a 1D linear regression and mean squared error.\n",
        "\n",
        "<details>\n",
        "<summary> <font color='blue'>Click here for text recap of video </font></summary>\n",
        "\n",
        "**Linear least squares regression** is an old but gold  optimization procedure that we are going to use for data fitting. Least squares (LS) optimization problems are those in which the objective function is a quadratic function of the\n",
        "parameter(s) being optimized.\n",
        "\n",
        "Suppose you have a set of measurements: for each data point or measurement, you have $y_{i}$ (the \"dependent\" variable) obtained for a different input value, $x_{i}$ (the \"independent\" or \"explanatory\" variable).  Suppose we believe the measurements are proportional to the input values, but are corrupted by some (random) measurement errors, $\\epsilon_{i}$, that is:\n",
        "\n",
        "\\begin{equation}\n",
        "y_{i}= \\theta x_{i}+\\epsilon_{i}\n",
        "\\end{equation}\n",
        "\n",
        "for some unknown slope parameter $\\theta.$ The least squares regression problem uses **mean squared error (MSE)** as its objective function, it aims to find the value of the parameter $\\theta$ by minimizing the average of squared errors:\n",
        "\n",
        "\\begin{equation}\n",
        "\\min _{\\theta} \\frac{1}{N}\\sum_{i=1}^{N}\\left(y_{i}-\\theta x_{i}\\right)^{2}\n",
        "\\end{equation}"
      ]
    },
    {
      "cell_type": "markdown",
      "metadata": {
        "execution": {},
        "id": "6yTGqivmXFOx"
      },
      "source": [
        "We will now explore how MSE is used in fitting a linear regression model to data. For illustrative purposes, we will create a simple synthetic dataset where we know the true underlying model. This will allow us to see how our estimation efforts compare in uncovering the real model (though in practice we rarely have this luxury).\n",
        "\n",
        "First we will generate some noisy samples $x$ from [0, 10) along the line $y = 1.2x$ as our dataset we wish to fit a model to."
      ]
    },
    {
      "cell_type": "code",
      "execution_count": null,
      "metadata": {
        "execution": {},
        "id": "aINSRuHrXFOx",
        "colab": {
          "base_uri": "https://localhost:8080/",
          "height": 592
        },
        "outputId": "eaf6826a-1c0e-400c-a0f6-ed50d1431633"
      },
      "outputs": [
        {
          "output_type": "display_data",
          "data": {
            "text/plain": [
              "<Figure size 800x600 with 1 Axes>"
            ],
            "image/png": "[encoded data removed]"
          },
          "metadata": {
            "image/png": {
              "width": 774,
              "height": 575
            }
          }
        }
      ],
      "source": [
        "# @title\n",
        "\n",
        "# @markdown Execute this cell to generate some simulated data\n",
        "\n",
        "# setting a fixed seed to our random number generator ensures we will always\n",
        "# get the same psuedorandom number sequence\n",
        "np.random.seed(121)\n",
        "\n",
        "# Let's set some parameters\n",
        "theta = 1.2\n",
        "n_samples = 30\n",
        "\n",
        "# Draw x and then calculate y\n",
        "x = 10 * np.random.rand(n_samples)  # sample from a uniform distribution over [0,10)\n",
        "noise = np.random.randn(n_samples)  # sample from a standard normal distribution\n",
        "y = theta * x + noise\n",
        "\n",
        "# Plot the results\n",
        "fig, ax = plt.subplots()\n",
        "ax.scatter(x, y)  # produces a scatter plot\n",
        "ax.set(xlabel='x', ylabel='y');"
      ]
    },
    {
      "cell_type": "markdown",
      "metadata": {
        "execution": {},
        "id": "WP3HgrWOXFOy"
      },
      "source": [
        "Now that we have our suitably noisy dataset, we can start trying to estimate the underlying model that produced it. We use MSE to evaluate how successful a particular slope estimate $\\hat{\\theta}$ is for explaining the data, with the closer to 0 the MSE is, the better our estimate fits the data."
      ]
    },
    {
      "cell_type": "markdown",
      "metadata": {
        "execution": {},
        "id": "_hXujdZjXFOy"
      },
      "source": [
        "## Coding Exercise 1: Compute MSE\n",
        "\n",
        "In this exercise you will implement a method to compute the mean squared error for a set of inputs $\\mathbf{x}$, measurements $\\mathbf{y}$, and slope estimate $\\hat{\\theta}$. Here, $\\mathbf{x}$ and $\\mathbf{y}$ are vectors of data points. We will then compute and print the mean squared error for 3 different choices of theta.\n",
        "\n",
        "As a reminder, the equation for computing the estimated y for a single data point is:\n",
        "\n",
        "\\begin{equation}\n",
        "\\hat{y}_{i}= \\theta x_{i}\n",
        "\\end{equation}\n",
        "\n",
        "and for mean squared error is:\n",
        "\n",
        "\\begin{equation}\n",
        "\\min _{\\theta} \\frac{1}{N}\\sum_{i=1}^{N}\\left(y_{i}-\\hat{y}_i\\right)^{2}\n",
        "\\end{equation}"
      ]
    },
    {
      "cell_type": "code",
      "execution_count": null,
      "metadata": {
        "execution": {},
        "id": "VLTqpds6XFOy",
        "colab": {
          "base_uri": "https://localhost:8080/"
        },
        "outputId": "1a89b0d2-cb91-4d68-eb97-642023517e1b"
      },
      "outputs": [
        {
          "output_type": "stream",
          "name": "stdout",
          "text": [
            "theta_hat of 0.75 has an MSE of 9.08\n",
            "theta_hat of 1.0 has an MSE of 3.01\n",
            "theta_hat of 1.5 has an MSE of 4.52\n"
          ]
        }
      ],
      "source": [
        "def mse(x, y, theta_hat):\n",
        "  \"\"\"Compute the mean squared error\n",
        "\n",
        "  Args:\n",
        "    x (ndarray): An array of shape (samples,) that contains the input values.\n",
        "    y (ndarray): An array of shape (samples,) that contains the corresponding\n",
        "      measurement values to the inputs.\n",
        "    theta_hat (float): An estimate of the slope parameter\n",
        "\n",
        "  Returns:\n",
        "    float: The mean squared error of the data with the estimated parameter.\n",
        "  \"\"\"\n",
        "  ####################################################\n",
        "  ## TODO for students: compute the mean squared error\n",
        "  # Fill out function and remove\n",
        "  # print(\"Student exercise: compute the mean squared error\")\n",
        "  ####################################################\n",
        "\n",
        "  # Compute the estimated y\n",
        "  y_hat = theta_hat * x\n",
        "\n",
        "  # Compute mean squared error\n",
        "  mse = np.mean((y- y_hat)**2)\n",
        "\n",
        "  return mse\n",
        "\n",
        "\n",
        "theta_hats = [0.75, 1.0, 1.5]\n",
        "for theta_hat in theta_hats:\n",
        "  print(f\"theta_hat of {theta_hat} has an MSE of {mse(x, y, theta_hat):.2f}\")"
      ]
    },
    {
      "cell_type": "markdown",
      "metadata": {
        "execution": {},
        "id": "FoRPisrgXFOz"
      },
      "source": [
        "The result should be:\n",
        "\n",
        "```\n",
        "theta_hat of 0.75 has an MSE of 9.08\\\n",
        "theta_hat of 1.0 has an MSE of 3.0\\\n",
        "theta_hat of 1.5 has an MSE of 4.52\n",
        "```\n",
        "\n",
        "\n"
      ]
    },
    {
      "cell_type": "markdown",
      "metadata": {
        "cellView": "both",
        "execution": {},
        "id": "uS-TVsO_XFOz"
      },
      "source": [
        "[*Click for solution*](https://github.com/NeuromatchAcademy/course-content/tree/main/tutorials/W1D2_ModelFitting/solutions/W1D2_Tutorial1_Solution_12a57de0.py)\n",
        "\n"
      ]
    },
    {
      "cell_type": "code",
      "execution_count": null,
      "metadata": {
        "cellView": "form",
        "execution": {},
        "id": "t7gZj7yiXFO0",
        "colab": {
          "base_uri": "https://localhost:8080/",
          "height": 62,
          "referenced_widgets": [
            "7d46f84d9a4c4e2ba9aff285c3018d23",
            "96a8f326c2444bd4a8a0c6fe46d1b7dc",
            "43cd4dc856ff453783401252938c2f7c",
            "6b3d3317dca848b18782888f56dba98a",
            "6a6f27b3e9d24408bf115837006a823d",
            "0ada549e131a478b9ce63596699981a4",
            "d65230522fb94c81ab28d0314e9de300",
            "5984f67331624b00a26504048514a81c",
            "c7d27b037a6f4a9da085528f7c9d71a4",
            "08d80a715fc0415895c15b4d8872b17d",
            "8edf8bbeb63f4bafb5f61419df201eaf",
            "a307a453693b47f1ac182488c26edbfa",
            "a477fddf89f14ee298e2a93dbccb3648",
            "89fc3ef9bc9d4be7bd1af9c90d49caad",
            "367dbaf522f04e2dabbdc89bb24963d2",
            "0e9f468b2801415fbea8adfdb21df904",
            "b533de53c4f24cf2af1e066632381120",
            "9232f963635f4928a8cba5cdbb40b733",
            "eb9499acd5f442879192390546c4f2eb",
            "2384afa678954484977a4223c99586d6",
            "2fc6f7dd2b8c42518a84f73df91c2d55",
            "c61cac927f904021908f09f375eb79b2",
            "83439ca2c65f4215a2c8682636dfffdc",
            "f72bfb42e2c641d8b9335013d153e46c",
            "e570cd7428ab4699999cea2559dc92aa",
            "e1541e23f4f842ba89956a631342f032"
          ]
        },
        "outputId": "3a6120cc-7913-4782-83c0-809195a2b1e9"
      },
      "outputs": [
        {
          "output_type": "display_data",
          "data": {
            "text/plain": [
              "VBox(children=(VBox(children=(HBox(children=(Button(description='🙂', layout=Layout(height='auto', padding='0.5…"
            ],
            "application/vnd.jupyter.widget-view+json": {
              "version_major": 2,
              "version_minor": 0,
              "model_id": "7d46f84d9a4c4e2ba9aff285c3018d23"
            }
          },
          "metadata": {}
        }
      ],
      "source": [
        "# @title Submit your feedback\n",
        "content_review(f\"{feedback_prefix}_Compute_MSE_Exercise\")"
      ]
    },
    {
      "cell_type": "markdown",
      "metadata": {
        "execution": {},
        "id": "IuNW9v6rXFO0"
      },
      "source": [
        "We see that $\\hat{\\theta} = 1.0$ is our best estimate from the three we tried. Looking just at the raw numbers, however, isn't always satisfying, so let's visualize what our estimated model looks like over the data.\n",
        "\n"
      ]
    },
    {
      "cell_type": "code",
      "execution_count": null,
      "metadata": {
        "execution": {},
        "id": "MxOosumgXFO1",
        "colab": {
          "base_uri": "https://localhost:8080/",
          "height": 492
        },
        "outputId": "1df328a7-3723-46aa-f239-89e3d5c6596c"
      },
      "outputs": [
        {
          "output_type": "display_data",
          "data": {
            "text/plain": [
              "<Figure size 1500x500 with 3 Axes>"
            ],
            "image/png": "[encoded data removed]"
          },
          "metadata": {
            "image/png": {
              "width": 1474,
              "height": 475
            }
          }
        }
      ],
      "source": [
        "# @markdown Execute this cell to visualize estimated models\n",
        "\n",
        "fig, axes = plt.subplots(ncols=3, figsize=(15, 5))\n",
        "for theta_hat, ax in zip(theta_hats, axes):\n",
        "\n",
        "  # True data\n",
        "  ax.scatter(x, y, label='Observed')  # our data scatter plot\n",
        "\n",
        "  # Compute and plot predictions\n",
        "  y_hat = theta_hat * x\n",
        "  ax.plot(x, y_hat, color='r', label='Fit')  # our estimated model\n",
        "\n",
        "  ax.set(\n",
        "      title= fr'$\\hat{{\\theta}}$= {theta_hat}, MSE = {np.mean((y - y_hat)**2):.2f}',\n",
        "      xlabel='x',\n",
        "      ylabel='y'\n",
        "  );\n",
        "\n",
        "axes[0].legend()\n",
        "plt.show()"
      ]
    },
    {
      "cell_type": "markdown",
      "metadata": {
        "execution": {},
        "id": "3JomF-fSXFO2"
      },
      "source": [
        "## Interactive Demo 1: MSE Explorer\n",
        "\n",
        "Using an interactive widget, we can easily see how changing our slope estimate changes our model fit. We display the **residuals**, the differences between observed and predicted data, as line segments between the data point (observed response) and the corresponding predicted response on the model fit line.\n",
        "\n",
        "- What value of $\\hat{\\theta}$ results in the lowest MSE?\n",
        "- Is this a good way of estimating $\\theta$?\n"
      ]
    },
    {
      "cell_type": "code",
      "execution_count": null,
      "metadata": {
        "cellView": "form",
        "execution": {},
        "id": "3ruNs45sXFO2",
        "colab": {
          "base_uri": "https://localhost:8080/",
          "height": 624,
          "referenced_widgets": [
            "8df97e93a3cc4d688cb6fdd52cad8ac3",
            "3047c47d514a45b3b3c12f4ebf5aef02",
            "7d493eb954b140ab81c9340faf4a21fb",
            "09ba6ade6ccd41e89928e8a49cb899b3",
            "8a00e7b33fcb4f68ab59bf2316f7bb7a",
            "05f217272ac94f509b52b3fdfc36f8f1",
            "d3759a4adc084e87b8ab74a042cc10f2"
          ]
        },
        "outputId": "6ee1e2ff-c351-4e8b-d599-af247e234975"
      },
      "outputs": [
        {
          "output_type": "display_data",
          "data": {
            "text/plain": [
              "interactive(children=(FloatSlider(value=1.0, description='theta_hat', max=2.0), Output()), _dom_classes=('widg…"
            ],
            "application/vnd.jupyter.widget-view+json": {
              "version_major": 2,
              "version_minor": 0,
              "model_id": "8df97e93a3cc4d688cb6fdd52cad8ac3"
            }
          },
          "metadata": {}
        }
      ],
      "source": [
        "# @markdown Make sure you execute this cell to enable the widget!\n",
        "@widgets.interact(theta_hat=widgets.FloatSlider(1.0, min=0.0, max=2.0))\n",
        "def plot_data_estimate(theta_hat):\n",
        "  y_hat = theta_hat * x\n",
        "  plot_observed_vs_predicted(x, y, y_hat, theta_hat)"
      ]
    },
    {
      "cell_type": "markdown",
      "metadata": {
        "execution": {},
        "id": "TDpNJTVnXFO3"
      },
      "source": [
        "[*Click for solution*](https://github.com/NeuromatchAcademy/course-content/tree/main/tutorials/W1D2_ModelFitting/solutions/W1D2_Tutorial1_Solution_dff242e7.py)\n",
        "\n"
      ]
    },
    {
      "cell_type": "code",
      "execution_count": null,
      "metadata": {
        "cellView": "form",
        "execution": {},
        "id": "UGl2Z5rxXFO3",
        "colab": {
          "base_uri": "https://localhost:8080/",
          "height": 62,
          "referenced_widgets": [
            "db18ab12781542399b0f4250a5406519",
            "e2247f978a794eee8927d61266355138",
            "18ce5d014c1e480aa5ba3b80c185c46c",
            "8b96ea4a71bd4cc4a4badada39ed01d8",
            "afa11c65c114407db649ec9bd59cc0ad",
            "426b744043364bdb986848e9c19ccae8",
            "4542aadbea3542d2b1c4db7a22ff0625",
            "9235941630e74f79b82aade2e5d9b68c",
            "9a5fb125eef64dffa99efbabc44d36a7",
            "74a03e702e6f43a1805c582132a9d394",
            "be0afda1e83c49d1b880ec534942efdc",
            "47716f8ec08c4d8388a52870d35bb02b",
            "0eae68935db14dcc8786949f9d53d0f2",
            "b171f70254664c80b4435bea5188ca01",
            "3f8a7c5fe0b9440cbd19b5fba2e64cc3",
            "60c627192a274ecfa6a126a31a57dd4e",
            "f0869301006845c69248463a2c9d751d",
            "ddae92cfe25a43e1ae96f2c831752a47",
            "4a912828d4054b1d8aba98195a6f3387",
            "a6a95824029e4ff1b73f84ff5725be55",
            "9f6f35047b384e21ab43974cf03349aa",
            "4c2a8ed1c8bb4e1ba2aef7ba44462eae",
            "a2549279826f40fdbfd9af30de54705c",
            "df03da9863174f1d8d622c2c53c7d747",
            "3e2d127e89b44342a64e3a6bada987aa",
            "e3b8df566b244ffe9c903dd0c82d4856"
          ]
        },
        "outputId": "2ef8187d-f431-4cd1-a881-fe9c254fcd6a"
      },
      "outputs": [
        {
          "output_type": "display_data",
          "data": {
            "text/plain": [
              "VBox(children=(VBox(children=(HBox(children=(Button(description='🙂', layout=Layout(height='auto', padding='0.5…"
            ],
            "application/vnd.jupyter.widget-view+json": {
              "version_major": 2,
              "version_minor": 0,
              "model_id": "db18ab12781542399b0f4250a5406519"
            }
          },
          "metadata": {}
        }
      ],
      "source": [
        "# @title Submit your feedback\n",
        "content_review(f\"{feedback_prefix}_MSE_explorer_Interactive_Demo_Discussion\")"
      ]
    },
    {
      "cell_type": "markdown",
      "metadata": {
        "execution": {},
        "id": "FxrR7FnfXFO4"
      },
      "source": [
        "While visually exploring several estimates can be instructive, it's not the most efficient for finding the best estimate to fit our data. Another technique we can use is to choose a reasonable range of parameter values and compute the MSE at several values in that interval. This allows us to plot the error against the parameter value (this is also called an **error landscape**, especially when we deal with more than one parameter). We can select the final $\\hat{\\theta}$  ($\\hat{\\theta}_\\textrm{MSE}$) as the one which results in the lowest error."
      ]
    },
    {
      "cell_type": "code",
      "execution_count": null,
      "metadata": {
        "execution": {},
        "id": "jWvyBE8UXFO4",
        "colab": {
          "base_uri": "https://localhost:8080/",
          "height": 592
        },
        "outputId": "0f9363e2-577f-4a2c-c2fc-c70ec85d31ce"
      },
      "outputs": [
        {
          "output_type": "display_data",
          "data": {
            "text/plain": [
              "<Figure size 800x600 with 1 Axes>"
            ],
            "image/png": "[encoded data removed]"
          },
          "metadata": {
            "image/png": {
              "width": 775,
              "height": 575
            }
          }
        }
      ],
      "source": [
        "# @markdown Execute this cell to loop over theta_hats, compute MSE, and plot results\n",
        "\n",
        "# Loop over different thetas, compute MSE for each\n",
        "theta_hat_grid = np.linspace(-2.0, 4.0)\n",
        "errors = np.zeros(len(theta_hat_grid))\n",
        "for i, theta_hat in enumerate(theta_hat_grid):\n",
        "  errors[i] = mse(x, y, theta_hat)\n",
        "\n",
        "# Find theta that results in lowest error\n",
        "best_error = np.min(errors)\n",
        "theta_hat = theta_hat_grid[np.argmin(errors)]\n",
        "\n",
        "\n",
        "# Plot results\n",
        "fig, ax = plt.subplots()\n",
        "ax.plot(theta_hat_grid, errors, '-o', label='MSE', c='C1')\n",
        "ax.axvline(theta, color='g', ls='--', label=r\"$\\theta_{True}$\")\n",
        "ax.axvline(theta_hat, color='r', ls='-', label=r\"$\\hat{{\\theta}}_{MSE}$\")\n",
        "ax.set(\n",
        "  title=fr\"Best fit: $\\hat{{\\theta}}$ = {theta_hat:.2f}, MSE = {best_error:.2f}\",\n",
        "  xlabel=r\"$\\hat{{\\theta}}$\",\n",
        "  ylabel='MSE')\n",
        "ax.legend()\n",
        "plt.show()"
      ]
    },
    {
      "cell_type": "markdown",
      "metadata": {
        "execution": {},
        "id": "RwFcYnXkXFO5"
      },
      "source": [
        "We can see that our best fit is $\\hat{\\theta}=1.18$ with an MSE of 1.45. This is quite close to the original true value $\\theta=1.2$!\n"
      ]
    },
    {
      "cell_type": "markdown",
      "metadata": {
        "execution": {},
        "id": "Cg2s8TPrXFO5"
      },
      "source": [
        "---\n",
        "# Section 2: Least-squares optimization\n",
        "\n",
        "*Estimated timing to here from start of tutorial: 20 min*\n",
        "\n",
        "While the approach detailed above (computing MSE at various values of $\\hat\\theta$) quickly got us to a good estimate, it still relied on evaluating the MSE value across a grid of hand-specified values. If we didn't pick a good range to begin with, or with enough granularity, we might miss the best possible estimator. Let's go one step further, and instead of finding the minimum MSE from a set of candidate estimates, let's solve for it analytically.\n",
        "\n",
        "We can do this by minimizing the cost function. Mean squared error is a convex objective function, therefore we can compute its minimum using calculus. Please see video or Bonus Section 1 for this derivation! After computing the minimum, we find that:\n",
        "\n",
        "\\begin{equation}\n",
        "\\hat\\theta = \\frac{\\mathbf{x}^\\top \\mathbf{y}}{\\mathbf{x}^\\top \\mathbf{x}}\n",
        "\\end{equation}\n",
        "\n",
        "where $\\mathbf{x}$ and $\\mathbf{y}$ are vectors of data points.\n",
        "\n",
        "This is known as solving the normal equations. For different ways of obtaining the solution, see the notes on [Least Squares Optimization](https://www.cns.nyu.edu/~eero/NOTES/leastSquares.pdf) by Eero Simoncelli."
      ]
    },
    {
      "cell_type": "markdown",
      "metadata": {
        "execution": {},
        "id": "mQfiRm6EXFO6"
      },
      "source": [
        "## Coding Exercise 2: Solve for the Optimal Estimator\n",
        "\n",
        "In this exercise, you will write a function that finds the optimal $\\hat{\\theta}$ value using the least squares optimization approach (the equation above) to solve MSE minimization. It should take arguments $x$ and $y$ and return the solution $\\hat{\\theta}$.\n",
        "\n",
        "We will then use your function to compute $\\hat{\\theta}$ and plot the resulting prediction on top of the data."
      ]
    },
    {
      "cell_type": "code",
      "execution_count": null,
      "metadata": {
        "execution": {},
        "id": "6292wKWCXFO6",
        "colab": {
          "base_uri": "https://localhost:8080/",
          "height": 592
        },
        "outputId": "bb1e7a40-ea56-4b8b-c8a2-74842d1b528d"
      },
      "outputs": [
        {
          "output_type": "display_data",
          "data": {
            "text/plain": [
              "<Figure size 800x600 with 1 Axes>"
            ],
            "image/png": "[encoded data removed]"
          },
          "metadata": {
            "image/png": {
              "width": 773,
              "height": 575
            }
          }
        }
      ],
      "source": [
        "def solve_normal_eqn(x, y):\n",
        "  \"\"\"Solve the normal equations to produce the value of theta_hat that minimizes\n",
        "    MSE.\n",
        "\n",
        "    Args:\n",
        "    x (ndarray): An array of shape (samples,) that contains the input values.\n",
        "    y (ndarray): An array of shape (samples,) that contains the corresponding\n",
        "      measurement values to the inputs.\n",
        "\n",
        "  Returns:\n",
        "    float: the value for theta_hat arrived from minimizing MSE\n",
        "  \"\"\"\n",
        "\n",
        "  ################################################################################\n",
        "  ## TODO for students: solve for the best parameter using least squares\n",
        "  # Fill out function and remove\n",
        "  # print(\"Student exercise: solve for theta_hat using least squares\")\n",
        "  ################################################################################\n",
        "\n",
        "  # Compute theta_hat analytically\n",
        "  theta_hat = np.sum(x*y)/np.sum(x**2)\n",
        "\n",
        "  return theta_hat\n",
        "\n",
        "\n",
        "theta_hat = solve_normal_eqn(x, y)\n",
        "y_hat = theta_hat * x\n",
        "plot_observed_vs_predicted(x, y, y_hat, theta_hat)"
      ]
    },
    {
      "cell_type": "markdown",
      "metadata": {
        "cellView": "both",
        "execution": {},
        "id": "RI2CznuTXFO6"
      },
      "source": [
        "[*Click for solution*](https://github.com/NeuromatchAcademy/course-content/tree/main/tutorials/W1D2_ModelFitting/solutions/W1D2_Tutorial1_Solution_7a89ba24.py)\n",
        "\n",
        "*Example output:*\n",
        "\n",
        "<img alt='Solution hint' align='left' width=777.0 height=577.0 src=https://raw.githubusercontent.com/NeuromatchAcademy/course-content/main/tutorials/W1D2_ModelFitting/static/W1D2_Tutorial1_Solution_7a89ba24_0.png>\n",
        "\n"
      ]
    },
    {
      "cell_type": "code",
      "execution_count": null,
      "metadata": {
        "cellView": "form",
        "execution": {},
        "id": "rQ5vvX6_XFO8"
      },
      "outputs": [],
      "source": [
        "# @title Submit your feedback\n",
        "content_review(f\"{feedback_prefix}_Solve_for_the_Optimal_Estimator_Exercise\")"
      ]
    },
    {
      "cell_type": "markdown",
      "metadata": {
        "execution": {},
        "id": "C7hh09hqXFO8"
      },
      "source": [
        "We see that the analytic solution produces an even better result than our grid search from before, producing $\\hat{\\theta} = 1.21$ with $\\text{MSE} = 1.43$!"
      ]
    },
    {
      "cell_type": "markdown",
      "metadata": {
        "execution": {},
        "id": "-tm7IdkAXFO8"
      },
      "source": [
        "---\n",
        "# Summary\n",
        "\n",
        "*Estimated timing of tutorial: 30 minutes*\n",
        "\n",
        "Linear least squares regression is an optimization procedure that can be used for data fitting:\n",
        "\n",
        "  - Task: predict a value for $y_i$ given $x_i$\n",
        "  - Performance measure: $\\textrm{MSE}$\n",
        "  - Procedure: minimize $\\textrm{MSE}$ by solving the normal equations\n",
        "\n",
        "**Key point**: We fit the model by defining an *objective function* and minimizing it.\n",
        "\n",
        "**Note**: In this case, there is an *analytical* solution to the minimization problem and in practice, this solution can be computed using *linear algebra*. This is *extremely* powerful and forms the basis for much of numerical computation throughout the sciences."
      ]
    },
    {
      "cell_type": "markdown",
      "metadata": {
        "execution": {},
        "id": "ybkEzUh8XFO9"
      },
      "source": [
        "---\n",
        "# Notation\n",
        "\n",
        "\\begin{align}\n",
        "x_{i} &\\quad \\text{input, independent variable}\\\\\n",
        "y_{i} &\\quad \\text{measurement, dependent variable}\\\\\n",
        "\\mathbf{x} &\\quad \\text{vector of input values}\\\\\n",
        "\\mathbf{y} &\\quad \\text{vector of measurements}\\\\\n",
        "\\hat{y}_{i} &\\quad \\text{estimate of dependent variable}\\\\\n",
        "\\epsilon_{i} &\\quad \\text{measurement error}\\\\\n",
        "\\theta &\\quad \\text{slope parameter}\\\\\n",
        "\\hat{\\theta} &\\quad \\text{estimated slope parameter}\\\\\n",
        "\\hat{\\theta}_\\text{MSE} &\\quad \\text{slope parameter estimated via the mean squared error}\\\\\n",
        "\\textrm{MSE} &\\quad \\text{mean squared error}\\\\\n",
        "\\end{align}"
      ]
    },
    {
      "cell_type": "markdown",
      "metadata": {
        "execution": {},
        "id": "ambo4JexXFO9"
      },
      "source": [
        "---\n",
        "# Bonus"
      ]
    },
    {
      "cell_type": "markdown",
      "metadata": {
        "execution": {},
        "id": "mVIxYSvSXFO9"
      },
      "source": [
        "## Bonus Section 1: Least Squares Optimization Derivation\n",
        "\n",
        "We will outline here the derivation of the least squares solution.\n",
        "\n",
        "We first set the derivative of the error expression with respect to $\\theta$ equal to zero,\n",
        "\n",
        "\\begin{align}\n",
        "\\frac{d}{d\\theta}\\frac{1}{N}\\sum_{i=1}^N(y_i - \\theta x_i)^2 &= 0 \\\\\n",
        "\\frac{1}{N}\\sum_{i=1}^N-2x_i(y_i - \\theta x_i) &= 0\n",
        "\\end{align}\n",
        "\n",
        "where we used the chain rule. Now solving for $\\theta$, we obtain an optimal value of:\n",
        "\n",
        "\\begin{equation}\n",
        "\\hat\\theta = \\frac{\\sum_{i=1}^N x_i y_i}{\\sum_{i=1}^N x_i^2}\n",
        "\\end{equation}\n",
        "\n",
        "Which we can write in vector notation as:\n",
        "\n",
        "\\begin{equation}\n",
        "\\hat\\theta = \\frac{\\mathbf{x}^\\top \\mathbf{y}}{\\mathbf{x}^\\top \\mathbf{x}}\n",
        "\\end{equation}\n",
        "\n",
        "<br>\n",
        "\n",
        "This is known as solving the *normal equations*. For different ways of obtaining the solution, see the notes on [Least Squares Optimization](https://www.cns.nyu.edu/~eero/NOTES/leastSquares.pdf) by Eero Simoncelli."
      ]
    },
    {
      "cell_type": "code",
      "source": [],
      "metadata": {
        "id": "u39M-gBDadEV"
      },
      "execution_count": null,
      "outputs": []
    }
  ],
  "metadata": {
    "celltoolbar": "Slideshow",
    "colab": {
      "provenance": [],
      "toc_visible": true
    },
    "kernel": {
      "display_name": "Python 3",
      "language": "python",
      "name": "python3"
    },
    "kernelspec": {
      "display_name": "Python 3",
      "language": "python",
      "name": "python3"
    },
    "language_info": {
      "codemirror_mode": {
        "name": "ipython",
        "version": 3
      },
      "file_extension": ".py",
      "mimetype": "text/x-python",
      "name": "python",
      "nbconvert_exporter": "python",
      "pygments_lexer": "ipython3",
      "version": "3.9.21"
    },
    "widgets": {
      "application/vnd.jupyter.widget-state+json": {
        "ec417c1a77f349c78611e6fabbb5c052": {
          "model_module": "@jupyter-widgets/controls",
          "model_name": "TabModel",
          "model_module_version": "1.5.0",
          "state": {
            "_dom_classes": [],
            "_model_module": "@jupyter-widgets/controls",
            "_model_module_version": "1.5.0",
            "_model_name": "TabModel",
            "_titles": {
              "0": "Youtube",
              "1": "Bilibili"
            },
            "_view_count": null,
            "_view_module": "@jupyter-widgets/controls",
            "_view_module_version": "1.5.0",
            "_view_name": "TabView",
            "box_style": "",
            "children": [
              "IPY_MODEL_4437496e1fd4418d82df6dcab4e87ed3",
              "IPY_MODEL_c13f0632f9484caab79d4840c6bba8c1"
            ],
            "layout": "IPY_MODEL_29955ff9a9d84b7fbbc68c95cc9c51b6",
            "selected_index": 0
          }
        },
        "4437496e1fd4418d82df6dcab4e87ed3": {
          "model_module": "@jupyter-widgets/output",
          "model_name": "OutputModel",
          "model_module_version": "1.0.0",
          "state": {
            "_dom_classes": [],
            "_model_module": "@jupyter-widgets/output",
            "_model_module_version": "1.0.0",
            "_model_name": "OutputModel",
            "_view_count": null,
            "_view_module": "@jupyter-widgets/output",
            "_view_module_version": "1.0.0",
            "_view_name": "OutputView",
            "layout": "IPY_MODEL_f7c8e5bb42124baa859c2b0b28f74af9",
            "msg_id": "",
            "outputs": [
              {
                "output_type": "stream",
                "name": "stdout",
                "text": [
                  "Video available at https://youtube.com/watch?v=HumajfjJ37E\n"
                ]
              },
              {
                "output_type": "display_data",
                "data": {
                  "text/plain": "<IPython.lib.display.YouTubeVideo at 0x7b9cc64d4310>",
                  "text/html": "\n        <iframe\n            width=\"854\"\n            height=\"480\"\n            src=\"https://www.youtube.com/embed/HumajfjJ37E?fs=1&rel=0\"\n            frameborder=\"0\"\n            allowfullscreen\n            \n        ></iframe>\n        ",
                  "image/jpeg": "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\n"
                },
                "metadata": {}
              }
            ]
          }
        },
        "c13f0632f9484caab79d4840c6bba8c1": {
          "model_module": "@jupyter-widgets/output",
          "model_name": "OutputModel",
          "model_module_version": "1.0.0",
          "state": {
            "_dom_classes": [],
            "_model_module": "@jupyter-widgets/output",
            "_model_module_version": "1.0.0",
            "_model_name": "OutputModel",
            "_view_count": null,
            "_view_module": "@jupyter-widgets/output",
            "_view_module_version": "1.0.0",
            "_view_name": "OutputView",
            "layout": "IPY_MODEL_ebf2973e0a994c97a183c94d09c36032",
            "msg_id": "",
            "outputs": [
              {
                "output_type": "stream",
                "name": "stdout",
                "text": [
                  "Video available at https://www.bilibili.com/video/BV1tA411e7NW\n"
                ]
              },
              {
                "output_type": "display_data",
                "data": {
                  "text/plain": "<__main__.PlayVideo at 0x7b9cc64d66d0>",
                  "text/html": "\n        <iframe\n            width=\"854\"\n            height=\"480\"\n            src=\"https://player.bilibili.com/player.html?bvid=BV1tA411e7NW&page=1?fs=1&autoplay=False\"\n            frameborder=\"0\"\n            allowfullscreen\n            \n        ></iframe>\n        "
                },
                "metadata": {}
              }
            ]
          }
        },
        "29955ff9a9d84b7fbbc68c95cc9c51b6": {
          "model_module": "@jupyter-widgets/base",
          "model_name": "LayoutModel",
          "model_module_version": "1.2.0",
          "state": {
            "_model_module": "@jupyter-widgets/base",
            "_model_module_version": "1.2.0",
            "_model_name": "LayoutModel",
            "_view_count": null,
            "_view_module": "@jupyter-widgets/base",
            "_view_module_version": "1.2.0",
            "_view_name": "LayoutView",
            "align_content": null,
            "align_items": null,
            "align_self": null,
            "border": null,
            "bottom": null,
            "display": null,
            "flex": null,
            "flex_flow": null,
            "grid_area": null,
            "grid_auto_columns": null,
            "grid_auto_flow": null,
            "grid_auto_rows": null,
            "grid_column": null,
            "grid_gap": null,
            "grid_row": null,
            "grid_template_areas": null,
            "grid_template_columns": null,
            "grid_template_rows": null,
            "height": null,
            "justify_content": null,
            "justify_items": null,
            "left": null,
            "margin": null,
            "max_height": null,
            "max_width": null,
            "min_height": null,
            "min_width": null,
            "object_fit": null,
            "object_position": null,
            "order": null,
            "overflow": null,
            "overflow_x": null,
            "overflow_y": null,
            "padding": null,
            "right": null,
            "top": null,
            "visibility": null,
            "width": null
          }
        },
        "f7c8e5bb42124baa859c2b0b28f74af9": {
          "model_module": "@jupyter-widgets/base",
          "model_name": "LayoutModel",
          "model_module_version": "1.2.0",
          "state": {
            "_model_module": "@jupyter-widgets/base",
            "_model_module_version": "1.2.0",
            "_model_name": "LayoutModel",
            "_view_count": null,
            "_view_module": "@jupyter-widgets/base",
            "_view_module_version": "1.2.0",
            "_view_name": "LayoutView",
            "align_content": null,
            "align_items": null,
            "align_self": null,
            "border": null,
            "bottom": null,
            "display": null,
            "flex": null,
            "flex_flow": null,
            "grid_area": null,
            "grid_auto_columns": null,
            "grid_auto_flow": null,
            "grid_auto_rows": null,
            "grid_column": null,
            "grid_gap": null,
            "grid_row": null,
            "grid_template_areas": null,
            "grid_template_columns": null,
            "grid_template_rows": null,
            "height": null,
            "justify_content": null,
            "justify_items": null,
            "left": null,
            "margin": null,
            "max_height": null,
            "max_width": null,
            "min_height": null,
            "min_width": null,
            "object_fit": null,
            "object_position": null,
            "order": null,
            "overflow": null,
            "overflow_x": null,
            "overflow_y": null,
            "padding": null,
            "right": null,
            "top": null,
            "visibility": null,
            "width": null
          }
        },
        "ebf2973e0a994c97a183c94d09c36032": {
          "model_module": "@jupyter-widgets/base",
          "model_name": "LayoutModel",
          "model_module_version": "1.2.0",
          "state": {
            "_model_module": "@jupyter-widgets/base",
            "_model_module_version": "1.2.0",
            "_model_name": "LayoutModel",
            "_view_count": null,
            "_view_module": "@jupyter-widgets/base",
            "_view_module_version": "1.2.0",
            "_view_name": "LayoutView",
            "align_content": null,
            "align_items": null,
            "align_self": null,
            "border": null,
            "bottom": null,
            "display": null,
            "flex": null,
            "flex_flow": null,
            "grid_area": null,
            "grid_auto_columns": null,
            "grid_auto_flow": null,
            "grid_auto_rows": null,
            "grid_column": null,
            "grid_gap": null,
            "grid_row": null,
            "grid_template_areas": null,
            "grid_template_columns": null,
            "grid_template_rows": null,
            "height": null,
            "justify_content": null,
            "justify_items": null,
            "left": null,
            "margin": null,
            "max_height": null,
            "max_width": null,
            "min_height": null,
            "min_width": null,
            "object_fit": null,
            "object_position": null,
            "order": null,
            "overflow": null,
            "overflow_x": null,
            "overflow_y": null,
            "padding": null,
            "right": null,
            "top": null,
            "visibility": null,
            "width": null
          }
        },
        "fed10c1ce96e49e18ea32d07ca9ee099": {
          "model_module": "@jupyter-widgets/controls",
          "model_name": "VBoxModel",
          "model_module_version": "1.5.0",
          "state": {
            "_dom_classes": [],
            "_model_module": "@jupyter-widgets/controls",
            "_model_module_version": "1.5.0",
            "_model_name": "VBoxModel",
            "_view_count": null,
            "_view_module": "@jupyter-widgets/controls",
            "_view_module_version": "1.5.0",
            "_view_name": "VBoxView",
            "box_style": "",
            "children": [
              "IPY_MODEL_c47f9b6d4cc3480fbd0e7a6168853654"
            ],
            "layout": "IPY_MODEL_790d2255815742698df94036d03133c8"
          }
        },
        "c47f9b6d4cc3480fbd0e7a6168853654": {
          "model_module": "@jupyter-widgets/controls",
          "model_name": "VBoxModel",
          "model_module_version": "1.5.0",
          "state": {
            "_dom_classes": [],
            "_model_module": "@jupyter-widgets/controls",
            "_model_module_version": "1.5.0",
            "_model_name": "VBoxModel",
            "_view_count": null,
            "_view_module": "@jupyter-widgets/controls",
            "_view_module_version": "1.5.0",
            "_view_name": "VBoxView",
            "box_style": "",
            "children": [
              "IPY_MODEL_94069c69c2aa45e48b46f32259c2f328",
              "IPY_MODEL_b887759e48f54445b3cfa05967102607",
              "IPY_MODEL_e050e74d3b724edfa389e695ff4fb69e"
            ],
            "layout": "IPY_MODEL_12a778f968af49dfb38cc3135bbc6841"
          }
        },
        "790d2255815742698df94036d03133c8": {
          "model_module": "@jupyter-widgets/base",
          "model_name": "LayoutModel",
          "model_module_version": "1.2.0",
          "state": {
            "_model_module": "@jupyter-widgets/base",
            "_model_module_version": "1.2.0",
            "_model_name": "LayoutModel",
            "_view_count": null,
            "_view_module": "@jupyter-widgets/base",
            "_view_module_version": "1.2.0",
            "_view_name": "LayoutView",
            "align_content": null,
            "align_items": null,
            "align_self": null,
            "border": null,
            "bottom": null,
            "display": null,
            "flex": null,
            "flex_flow": null,
            "grid_area": null,
            "grid_auto_columns": null,
            "grid_auto_flow": null,
            "grid_auto_rows": null,
            "grid_column": null,
            "grid_gap": null,
            "grid_row": null,
            "grid_template_areas": null,
            "grid_template_columns": null,
            "grid_template_rows": null,
            "height": null,
            "justify_content": null,
            "justify_items": null,
            "left": null,
            "margin": null,
            "max_height": null,
            "max_width": null,
            "min_height": null,
            "min_width": null,
            "object_fit": null,
            "object_position": null,
            "order": null,
            "overflow": null,
            "overflow_x": null,
            "overflow_y": null,
            "padding": null,
            "right": null,
            "top": null,
            "visibility": null,
            "width": null
          }
        },
        "94069c69c2aa45e48b46f32259c2f328": {
          "model_module": "@jupyter-widgets/controls",
          "model_name": "HBoxModel",
          "model_module_version": "1.5.0",
          "state": {
            "_dom_classes": [],
            "_model_module": "@jupyter-widgets/controls",
            "_model_module_version": "1.5.0",
            "_model_name": "HBoxModel",
            "_view_count": null,
            "_view_module": "@jupyter-widgets/controls",
            "_view_module_version": "1.5.0",
            "_view_name": "HBoxView",
            "box_style": "",
            "children": [
              "IPY_MODEL_011157d2f361430d9d93a666a8da1e23",
              "IPY_MODEL_a2aa35e4534b4466b1494d573a20dc8a",
              "IPY_MODEL_23912bafdb054f8a80b50632889b0758"
            ],
            "layout": "IPY_MODEL_9d1542190de0436b88c552c8b9b8056a"
          }
        },
        "b887759e48f54445b3cfa05967102607": {
          "model_module": "@jupyter-widgets/controls",
          "model_name": "HBoxModel",
          "model_module_version": "1.5.0",
          "state": {
            "_dom_classes": [],
            "_model_module": "@jupyter-widgets/controls",
            "_model_module_version": "1.5.0",
            "_model_name": "HBoxModel",
            "_view_count": null,
            "_view_module": "@jupyter-widgets/controls",
            "_view_module_version": "1.5.0",
            "_view_name": "HBoxView",
            "box_style": "",
            "children": [
              "IPY_MODEL_51000c1fcb64401b92d9f8f9c8895e85",
              "IPY_MODEL_018fd16adbda40ed80b64fc88feee0a3"
            ],
            "layout": "IPY_MODEL_1877732a26524bd48b37b03c47d849aa"
          }
        },
        "e050e74d3b724edfa389e695ff4fb69e": {
          "model_module": "@jupyter-widgets/controls",
          "model_name": "LabelModel",
          "model_module_version": "1.5.0",
          "state": {
            "_dom_classes": [],
            "_model_module": "@jupyter-widgets/controls",
            "_model_module_version": "1.5.0",
            "_model_name": "LabelModel",
            "_view_count": null,
            "_view_module": "@jupyter-widgets/controls",
            "_view_module_version": "1.5.0",
            "_view_name": "LabelView",
            "description": "",
            "description_tooltip": null,
            "layout": "IPY_MODEL_d47ee24a50c44fc796aa37e08d04d646",
            "placeholder": "​",
            "style": "IPY_MODEL_c369c0679056410799282da44fd2efd9",
            "value": "Thanks for your feedback!"
          }
        },
        "12a778f968af49dfb38cc3135bbc6841": {
          "model_module": "@jupyter-widgets/base",
          "model_name": "LayoutModel",
          "model_module_version": "1.2.0",
          "state": {
            "_model_module": "@jupyter-widgets/base",
            "_model_module_version": "1.2.0",
            "_model_name": "LayoutModel",
            "_view_count": null,
            "_view_module": "@jupyter-widgets/base",
            "_view_module_version": "1.2.0",
            "_view_name": "LayoutView",
            "align_content": null,
            "align_items": null,
            "align_self": null,
            "border": null,
            "bottom": null,
            "display": null,
            "flex": null,
            "flex_flow": null,
            "grid_area": null,
            "grid_auto_columns": null,
            "grid_auto_flow": null,
            "grid_auto_rows": null,
            "grid_column": null,
            "grid_gap": null,
            "grid_row": null,
            "grid_template_areas": null,
            "grid_template_columns": null,
            "grid_template_rows": null,
            "height": null,
            "justify_content": null,
            "justify_items": null,
            "left": null,
            "margin": null,
            "max_height": null,
            "max_width": null,
            "min_height": null,
            "min_width": null,
            "object_fit": null,
            "object_position": null,
            "order": null,
            "overflow": null,
            "overflow_x": null,
            "overflow_y": null,
            "padding": null,
            "right": null,
            "top": null,
            "visibility": null,
            "width": null
          }
        },
        "011157d2f361430d9d93a666a8da1e23": {
          "model_module": "@jupyter-widgets/controls",
          "model_name": "ButtonModel",
          "model_module_version": "1.5.0",
          "state": {
            "_dom_classes": [
              "happy"
            ],
            "_model_module": "@jupyter-widgets/controls",
            "_model_module_version": "1.5.0",
            "_model_name": "ButtonModel",
            "_view_count": null,
            "_view_module": "@jupyter-widgets/controls",
            "_view_module_version": "1.5.0",
            "_view_name": "ButtonView",
            "button_style": "",
            "description": "🙂",
            "disabled": false,
            "icon": "",
            "layout": "IPY_MODEL_ffb049fc455d440e96cfb5b708c6942a",
            "style": "IPY_MODEL_03b639bd17cc4fe8b308e9f22cd1535b",
            "tooltip": "happy"
          }
        },
        "a2aa35e4534b4466b1494d573a20dc8a": {
          "model_module": "@jupyter-widgets/controls",
          "model_name": "ButtonModel",
          "model_module_version": "1.5.0",
          "state": {
            "_dom_classes": [
              "medium"
            ],
            "_model_module": "@jupyter-widgets/controls",
            "_model_module_version": "1.5.0",
            "_model_name": "ButtonModel",
            "_view_count": null,
            "_view_module": "@jupyter-widgets/controls",
            "_view_module_version": "1.5.0",
            "_view_name": "ButtonView",
            "button_style": "",
            "description": "😐",
            "disabled": false,
            "icon": "",
            "layout": "IPY_MODEL_d9466d3d21384eb38a67b391a795cfbe",
            "style": "IPY_MODEL_a74291dd33bc423db0f05af62628fb84",
            "tooltip": "medium"
          }
        },
        "23912bafdb054f8a80b50632889b0758": {
          "model_module": "@jupyter-widgets/controls",
          "model_name": "ButtonModel",
          "model_module_version": "1.5.0",
          "state": {
            "_dom_classes": [
              "sad"
            ],
            "_model_module": "@jupyter-widgets/controls",
            "_model_module_version": "1.5.0",
            "_model_name": "ButtonModel",
            "_view_count": null,
            "_view_module": "@jupyter-widgets/controls",
            "_view_module_version": "1.5.0",
            "_view_name": "ButtonView",
            "button_style": "",
            "description": "🙁",
            "disabled": false,
            "icon": "",
            "layout": "IPY_MODEL_5235738d51044754a2249e33ac7a227b",
            "style": "IPY_MODEL_e886e3f185484176b246530cc2829b4a",
            "tooltip": "sad"
          }
        },
        "9d1542190de0436b88c552c8b9b8056a": {
          "model_module": "@jupyter-widgets/base",
          "model_name": "LayoutModel",
          "model_module_version": "1.2.0",
          "state": {
            "_model_module": "@jupyter-widgets/base",
            "_model_module_version": "1.2.0",
            "_model_name": "LayoutModel",
            "_view_count": null,
            "_view_module": "@jupyter-widgets/base",
            "_view_module_version": "1.2.0",
            "_view_name": "LayoutView",
            "align_content": null,
            "align_items": null,
            "align_self": null,
            "border": null,
            "bottom": null,
            "display": null,
            "flex": null,
            "flex_flow": null,
            "grid_area": null,
            "grid_auto_columns": null,
            "grid_auto_flow": null,
            "grid_auto_rows": null,
            "grid_column": null,
            "grid_gap": null,
            "grid_row": null,
            "grid_template_areas": null,
            "grid_template_columns": null,
            "grid_template_rows": null,
            "height": null,
            "justify_content": null,
            "justify_items": null,
            "left": null,
            "margin": null,
            "max_height": null,
            "max_width": null,
            "min_height": null,
            "min_width": null,
            "object_fit": null,
            "object_position": null,
            "order": null,
            "overflow": null,
            "overflow_x": null,
            "overflow_y": null,
            "padding": null,
            "right": null,
            "top": null,
            "visibility": null,
            "width": null
          }
        },
        "51000c1fcb64401b92d9f8f9c8895e85": {
          "model_module": "@jupyter-widgets/controls",
          "model_name": "TextareaModel",
          "model_module_version": "1.5.0",
          "state": {
            "_dom_classes": [],
            "_model_module": "@jupyter-widgets/controls",
            "_model_module_version": "1.5.0",
            "_model_name": "TextareaModel",
            "_view_count": null,
            "_view_module": "@jupyter-widgets/controls",
            "_view_module_version": "1.5.0",
            "_view_name": "TextareaView",
            "continuous_update": true,
            "description": "",
            "description_tooltip": null,
            "disabled": false,
            "layout": "IPY_MODEL_f03b2dd8b8634940a623778c5362bdf5",
            "placeholder": "We want your feedback!",
            "rows": null,
            "style": "IPY_MODEL_49bf0865b8244f2f8118448051d222a3",
            "value": ""
          }
        },
        "018fd16adbda40ed80b64fc88feee0a3": {
          "model_module": "@jupyter-widgets/controls",
          "model_name": "ButtonModel",
          "model_module_version": "1.5.0",
          "state": {
            "_dom_classes": [],
            "_model_module": "@jupyter-widgets/controls",
            "_model_module_version": "1.5.0",
            "_model_name": "ButtonModel",
            "_view_count": null,
            "_view_module": "@jupyter-widgets/controls",
            "_view_module_version": "1.5.0",
            "_view_name": "ButtonView",
            "button_style": "",
            "description": "Submit",
            "disabled": false,
            "icon": "",
            "layout": "IPY_MODEL_437a780abef8420faabe1071e31a595d",
            "style": "IPY_MODEL_ab8fffc5d9e54c8cbdb67347edb7cf1a",
            "tooltip": ""
          }
        },
        "1877732a26524bd48b37b03c47d849aa": {
          "model_module": "@jupyter-widgets/base",
          "model_name": "LayoutModel",
          "model_module_version": "1.2.0",
          "state": {
            "_model_module": "@jupyter-widgets/base",
            "_model_module_version": "1.2.0",
            "_model_name": "LayoutModel",
            "_view_count": null,
            "_view_module": "@jupyter-widgets/base",
            "_view_module_version": "1.2.0",
            "_view_name": "LayoutView",
            "align_content": null,
            "align_items": null,
            "align_self": null,
            "border": null,
            "bottom": null,
            "display": "none",
            "flex": null,
            "flex_flow": null,
            "grid_area": null,
            "grid_auto_columns": null,
            "grid_auto_flow": null,
            "grid_auto_rows": null,
            "grid_column": null,
            "grid_gap": null,
            "grid_row": null,
            "grid_template_areas": null,
            "grid_template_columns": null,
            "grid_template_rows": null,
            "height": null,
            "justify_content": null,
            "justify_items": null,
            "left": null,
            "margin": null,
            "max_height": null,
            "max_width": null,
            "min_height": null,
            "min_width": null,
            "object_fit": null,
            "object_position": null,
            "order": null,
            "overflow": null,
            "overflow_x": null,
            "overflow_y": null,
            "padding": null,
            "right": null,
            "top": null,
            "visibility": null,
            "width": null
          }
        },
        "d47ee24a50c44fc796aa37e08d04d646": {
          "model_module": "@jupyter-widgets/base",
          "model_name": "LayoutModel",
          "model_module_version": "1.2.0",
          "state": {
            "_model_module": "@jupyter-widgets/base",
            "_model_module_version": "1.2.0",
            "_model_name": "LayoutModel",
            "_view_count": null,
            "_view_module": "@jupyter-widgets/base",
            "_view_module_version": "1.2.0",
            "_view_name": "LayoutView",
            "align_content": null,
            "align_items": null,
            "align_self": null,
            "border": null,
            "bottom": null,
            "display": "none",
            "flex": null,
            "flex_flow": null,
            "grid_area": null,
            "grid_auto_columns": null,
            "grid_auto_flow": null,
            "grid_auto_rows": null,
            "grid_column": null,
            "grid_gap": null,
            "grid_row": null,
            "grid_template_areas": null,
            "grid_template_columns": null,
            "grid_template_rows": null,
            "height": null,
            "justify_content": null,
            "justify_items": null,
            "left": null,
            "margin": null,
            "max_height": null,
            "max_width": null,
            "min_height": null,
            "min_width": null,
            "object_fit": null,
            "object_position": null,
            "order": null,
            "overflow": null,
            "overflow_x": null,
            "overflow_y": null,
            "padding": null,
            "right": null,
            "top": null,
            "visibility": null,
            "width": null
          }
        },
        "c369c0679056410799282da44fd2efd9": {
          "model_module": "@jupyter-widgets/controls",
          "model_name": "DescriptionStyleModel",
          "model_module_version": "1.5.0",
          "state": {
            "_model_module": "@jupyter-widgets/controls",
            "_model_module_version": "1.5.0",
            "_model_name": "DescriptionStyleModel",
            "_view_count": null,
            "_view_module": "@jupyter-widgets/base",
            "_view_module_version": "1.2.0",
            "_view_name": "StyleView",
            "description_width": ""
          }
        },
        "ffb049fc455d440e96cfb5b708c6942a": {
          "model_module": "@jupyter-widgets/base",
          "model_name": "LayoutModel",
          "model_module_version": "1.2.0",
          "state": {
            "_model_module": "@jupyter-widgets/base",
            "_model_module_version": "1.2.0",
            "_model_name": "LayoutModel",
            "_view_count": null,
            "_view_module": "@jupyter-widgets/base",
            "_view_module_version": "1.2.0",
            "_view_name": "LayoutView",
            "align_content": null,
            "align_items": null,
            "align_self": null,
            "border": null,
            "bottom": null,
            "display": null,
            "flex": null,
            "flex_flow": null,
            "grid_area": null,
            "grid_auto_columns": null,
            "grid_auto_flow": null,
            "grid_auto_rows": null,
            "grid_column": null,
            "grid_gap": null,
            "grid_row": null,
            "grid_template_areas": null,
            "grid_template_columns": null,
            "grid_template_rows": null,
            "height": "auto",
            "justify_content": null,
            "justify_items": null,
            "left": null,
            "margin": null,
            "max_height": null,
            "max_width": null,
            "min_height": null,
            "min_width": null,
            "object_fit": null,
            "object_position": null,
            "order": null,
            "overflow": null,
            "overflow_x": null,
            "overflow_y": null,
            "padding": "0.5em",
            "right": null,
            "top": null,
            "visibility": null,
            "width": "auto"
          }
        },
        "03b639bd17cc4fe8b308e9f22cd1535b": {
          "model_module": "@jupyter-widgets/controls",
          "model_name": "ButtonStyleModel",
          "model_module_version": "1.5.0",
          "state": {
            "_model_module": "@jupyter-widgets/controls",
            "_model_module_version": "1.5.0",
            "_model_name": "ButtonStyleModel",
            "_view_count": null,
            "_view_module": "@jupyter-widgets/base",
            "_view_module_version": "1.2.0",
            "_view_name": "StyleView",
            "button_color": "#aaffaa",
            "font_weight": ""
          }
        },
        "d9466d3d21384eb38a67b391a795cfbe": {
          "model_module": "@jupyter-widgets/base",
          "model_name": "LayoutModel",
          "model_module_version": "1.2.0",
          "state": {
            "_model_module": "@jupyter-widgets/base",
            "_model_module_version": "1.2.0",
            "_model_name": "LayoutModel",
            "_view_count": null,
            "_view_module": "@jupyter-widgets/base",
            "_view_module_version": "1.2.0",
            "_view_name": "LayoutView",
            "align_content": null,
            "align_items": null,
            "align_self": null,
            "border": null,
            "bottom": null,
            "display": null,
            "flex": null,
            "flex_flow": null,
            "grid_area": null,
            "grid_auto_columns": null,
            "grid_auto_flow": null,
            "grid_auto_rows": null,
            "grid_column": null,
            "grid_gap": null,
            "grid_row": null,
            "grid_template_areas": null,
            "grid_template_columns": null,
            "grid_template_rows": null,
            "height": "auto",
            "justify_content": null,
            "justify_items": null,
            "left": null,
            "margin": null,
            "max_height": null,
            "max_width": null,
            "min_height": null,
            "min_width": null,
            "object_fit": null,
            "object_position": null,
            "order": null,
            "overflow": null,
            "overflow_x": null,
            "overflow_y": null,
            "padding": "0.5em",
            "right": null,
            "top": null,
            "visibility": null,
            "width": "auto"
          }
        },
        "a74291dd33bc423db0f05af62628fb84": {
          "model_module": "@jupyter-widgets/controls",
          "model_name": "ButtonStyleModel",
          "model_module_version": "1.5.0",
          "state": {
            "_model_module": "@jupyter-widgets/controls",
            "_model_module_version": "1.5.0",
            "_model_name": "ButtonStyleModel",
            "_view_count": null,
            "_view_module": "@jupyter-widgets/base",
            "_view_module_version": "1.2.0",
            "_view_name": "StyleView",
            "button_color": "#dddd77",
            "font_weight": ""
          }
        },
        "5235738d51044754a2249e33ac7a227b": {
          "model_module": "@jupyter-widgets/base",
          "model_name": "LayoutModel",
          "model_module_version": "1.2.0",
          "state": {
            "_model_module": "@jupyter-widgets/base",
            "_model_module_version": "1.2.0",
            "_model_name": "LayoutModel",
            "_view_count": null,
            "_view_module": "@jupyter-widgets/base",
            "_view_module_version": "1.2.0",
            "_view_name": "LayoutView",
            "align_content": null,
            "align_items": null,
            "align_self": null,
            "border": null,
            "bottom": null,
            "display": null,
            "flex": null,
            "flex_flow": null,
            "grid_area": null,
            "grid_auto_columns": null,
            "grid_auto_flow": null,
            "grid_auto_rows": null,
            "grid_column": null,
            "grid_gap": null,
            "grid_row": null,
            "grid_template_areas": null,
            "grid_template_columns": null,
            "grid_template_rows": null,
            "height": "auto",
            "justify_content": null,
            "justify_items": null,
            "left": null,
            "margin": null,
            "max_height": null,
            "max_width": null,
            "min_height": null,
            "min_width": null,
            "object_fit": null,
            "object_position": null,
            "order": null,
            "overflow": null,
            "overflow_x": null,
            "overflow_y": null,
            "padding": "0.5em",
            "right": null,
            "top": null,
            "visibility": null,
            "width": "auto"
          }
        },
        "e886e3f185484176b246530cc2829b4a": {
          "model_module": "@jupyter-widgets/controls",
          "model_name": "ButtonStyleModel",
          "model_module_version": "1.5.0",
          "state": {
            "_model_module": "@jupyter-widgets/controls",
            "_model_module_version": "1.5.0",
            "_model_name": "ButtonStyleModel",
            "_view_count": null,
            "_view_module": "@jupyter-widgets/base",
            "_view_module_version": "1.2.0",
            "_view_name": "StyleView",
            "button_color": "#ffaaaa",
            "font_weight": ""
          }
        },
        "f03b2dd8b8634940a623778c5362bdf5": {
          "model_module": "@jupyter-widgets/base",
          "model_name": "LayoutModel",
          "model_module_version": "1.2.0",
          "state": {
            "_model_module": "@jupyter-widgets/base",
            "_model_module_version": "1.2.0",
            "_model_name": "LayoutModel",
            "_view_count": null,
            "_view_module": "@jupyter-widgets/base",
            "_view_module_version": "1.2.0",
            "_view_name": "LayoutView",
            "align_content": null,
            "align_items": null,
            "align_self": null,
            "border": null,
            "bottom": null,
            "display": null,
            "flex": null,
            "flex_flow": null,
            "grid_area": null,
            "grid_auto_columns": null,
            "grid_auto_flow": null,
            "grid_auto_rows": null,
            "grid_column": null,
            "grid_gap": null,
            "grid_row": null,
            "grid_template_areas": null,
            "grid_template_columns": null,
            "grid_template_rows": null,
            "height": "auto",
            "justify_content": null,
            "justify_items": null,
            "left": null,
            "margin": null,
            "max_height": null,
            "max_width": null,
            "min_height": null,
            "min_width": null,
            "object_fit": null,
            "object_position": null,
            "order": null,
            "overflow": null,
            "overflow_x": null,
            "overflow_y": null,
            "padding": null,
            "right": null,
            "top": null,
            "visibility": null,
            "width": "auto"
          }
        },
        "49bf0865b8244f2f8118448051d222a3": {
          "model_module": "@jupyter-widgets/controls",
          "model_name": "DescriptionStyleModel",
          "model_module_version": "1.5.0",
          "state": {
            "_model_module": "@jupyter-widgets/controls",
            "_model_module_version": "1.5.0",
            "_model_name": "DescriptionStyleModel",
            "_view_count": null,
            "_view_module": "@jupyter-widgets/base",
            "_view_module_version": "1.2.0",
            "_view_name": "StyleView",
            "description_width": ""
          }
        },
        "437a780abef8420faabe1071e31a595d": {
          "model_module": "@jupyter-widgets/base",
          "model_name": "LayoutModel",
          "model_module_version": "1.2.0",
          "state": {
            "_model_module": "@jupyter-widgets/base",
            "_model_module_version": "1.2.0",
            "_model_name": "LayoutModel",
            "_view_count": null,
            "_view_module": "@jupyter-widgets/base",
            "_view_module_version": "1.2.0",
            "_view_name": "LayoutView",
            "align_content": null,
            "align_items": null,
            "align_self": null,
            "border": null,
            "bottom": null,
            "display": null,
            "flex": null,
            "flex_flow": null,
            "grid_area": null,
            "grid_auto_columns": null,
            "grid_auto_flow": null,
            "grid_auto_rows": null,
            "grid_column": null,
            "grid_gap": null,
            "grid_row": null,
            "grid_template_areas": null,
            "grid_template_columns": null,
            "grid_template_rows": null,
            "height": "auto",
            "justify_content": null,
            "justify_items": null,
            "left": null,
            "margin": null,
            "max_height": null,
            "max_width": null,
            "min_height": null,
            "min_width": null,
            "object_fit": null,
            "object_position": null,
            "order": null,
            "overflow": null,
            "overflow_x": null,
            "overflow_y": null,
            "padding": null,
            "right": null,
            "top": null,
            "visibility": null,
            "width": "auto"
          }
        },
        "ab8fffc5d9e54c8cbdb67347edb7cf1a": {
          "model_module": "@jupyter-widgets/controls",
          "model_name": "ButtonStyleModel",
          "model_module_version": "1.5.0",
          "state": {
            "_model_module": "@jupyter-widgets/controls",
            "_model_module_version": "1.5.0",
            "_model_name": "ButtonStyleModel",
            "_view_count": null,
            "_view_module": "@jupyter-widgets/base",
            "_view_module_version": "1.2.0",
            "_view_name": "StyleView",
            "button_color": null,
            "font_weight": ""
          }
        },
        "7d46f84d9a4c4e2ba9aff285c3018d23": {
          "model_module": "@jupyter-widgets/controls",
          "model_name": "VBoxModel",
          "model_module_version": "1.5.0",
          "state": {
            "_dom_classes": [],
            "_model_module": "@jupyter-widgets/controls",
            "_model_module_version": "1.5.0",
            "_model_name": "VBoxModel",
            "_view_count": null,
            "_view_module": "@jupyter-widgets/controls",
            "_view_module_version": "1.5.0",
            "_view_name": "VBoxView",
            "box_style": "",
            "children": [
              "IPY_MODEL_96a8f326c2444bd4a8a0c6fe46d1b7dc"
            ],
            "layout": "IPY_MODEL_43cd4dc856ff453783401252938c2f7c"
          }
        },
        "96a8f326c2444bd4a8a0c6fe46d1b7dc": {
          "model_module": "@jupyter-widgets/controls",
          "model_name": "VBoxModel",
          "model_module_version": "1.5.0",
          "state": {
            "_dom_classes": [],
            "_model_module": "@jupyter-widgets/controls",
            "_model_module_version": "1.5.0",
            "_model_name": "VBoxModel",
            "_view_count": null,
            "_view_module": "@jupyter-widgets/controls",
            "_view_module_version": "1.5.0",
            "_view_name": "VBoxView",
            "box_style": "",
            "children": [
              "IPY_MODEL_6b3d3317dca848b18782888f56dba98a",
              "IPY_MODEL_6a6f27b3e9d24408bf115837006a823d",
              "IPY_MODEL_0ada549e131a478b9ce63596699981a4"
            ],
            "layout": "IPY_MODEL_d65230522fb94c81ab28d0314e9de300"
          }
        },
        "43cd4dc856ff453783401252938c2f7c": {
          "model_module": "@jupyter-widgets/base",
          "model_name": "LayoutModel",
          "model_module_version": "1.2.0",
          "state": {
            "_model_module": "@jupyter-widgets/base",
            "_model_module_version": "1.2.0",
            "_model_name": "LayoutModel",
            "_view_count": null,
            "_view_module": "@jupyter-widgets/base",
            "_view_module_version": "1.2.0",
            "_view_name": "LayoutView",
            "align_content": null,
            "align_items": null,
            "align_self": null,
            "border": null,
            "bottom": null,
            "display": null,
            "flex": null,
            "flex_flow": null,
            "grid_area": null,
            "grid_auto_columns": null,
            "grid_auto_flow": null,
            "grid_auto_rows": null,
            "grid_column": null,
            "grid_gap": null,
            "grid_row": null,
            "grid_template_areas": null,
            "grid_template_columns": null,
            "grid_template_rows": null,
            "height": null,
            "justify_content": null,
            "justify_items": null,
            "left": null,
            "margin": null,
            "max_height": null,
            "max_width": null,
            "min_height": null,
            "min_width": null,
            "object_fit": null,
            "object_position": null,
            "order": null,
            "overflow": null,
            "overflow_x": null,
            "overflow_y": null,
            "padding": null,
            "right": null,
            "top": null,
            "visibility": null,
            "width": null
          }
        },
        "6b3d3317dca848b18782888f56dba98a": {
          "model_module": "@jupyter-widgets/controls",
          "model_name": "HBoxModel",
          "model_module_version": "1.5.0",
          "state": {
            "_dom_classes": [],
            "_model_module": "@jupyter-widgets/controls",
            "_model_module_version": "1.5.0",
            "_model_name": "HBoxModel",
            "_view_count": null,
            "_view_module": "@jupyter-widgets/controls",
            "_view_module_version": "1.5.0",
            "_view_name": "HBoxView",
            "box_style": "",
            "children": [
              "IPY_MODEL_5984f67331624b00a26504048514a81c",
              "IPY_MODEL_c7d27b037a6f4a9da085528f7c9d71a4",
              "IPY_MODEL_08d80a715fc0415895c15b4d8872b17d"
            ],
            "layout": "IPY_MODEL_8edf8bbeb63f4bafb5f61419df201eaf"
          }
        },
        "6a6f27b3e9d24408bf115837006a823d": {
          "model_module": "@jupyter-widgets/controls",
          "model_name": "HBoxModel",
          "model_module_version": "1.5.0",
          "state": {
            "_dom_classes": [],
            "_model_module": "@jupyter-widgets/controls",
            "_model_module_version": "1.5.0",
            "_model_name": "HBoxModel",
            "_view_count": null,
            "_view_module": "@jupyter-widgets/controls",
            "_view_module_version": "1.5.0",
            "_view_name": "HBoxView",
            "box_style": "",
            "children": [
              "IPY_MODEL_a307a453693b47f1ac182488c26edbfa",
              "IPY_MODEL_a477fddf89f14ee298e2a93dbccb3648"
            ],
            "layout": "IPY_MODEL_89fc3ef9bc9d4be7bd1af9c90d49caad"
          }
        },
        "0ada549e131a478b9ce63596699981a4": {
          "model_module": "@jupyter-widgets/controls",
          "model_name": "LabelModel",
          "model_module_version": "1.5.0",
          "state": {
            "_dom_classes": [],
            "_model_module": "@jupyter-widgets/controls",
            "_model_module_version": "1.5.0",
            "_model_name": "LabelModel",
            "_view_count": null,
            "_view_module": "@jupyter-widgets/controls",
            "_view_module_version": "1.5.0",
            "_view_name": "LabelView",
            "description": "",
            "description_tooltip": null,
            "layout": "IPY_MODEL_367dbaf522f04e2dabbdc89bb24963d2",
            "placeholder": "​",
            "style": "IPY_MODEL_0e9f468b2801415fbea8adfdb21df904",
            "value": "Thanks for your feedback!"
          }
        },
        "d65230522fb94c81ab28d0314e9de300": {
          "model_module": "@jupyter-widgets/base",
          "model_name": "LayoutModel",
          "model_module_version": "1.2.0",
          "state": {
            "_model_module": "@jupyter-widgets/base",
            "_model_module_version": "1.2.0",
            "_model_name": "LayoutModel",
            "_view_count": null,
            "_view_module": "@jupyter-widgets/base",
            "_view_module_version": "1.2.0",
            "_view_name": "LayoutView",
            "align_content": null,
            "align_items": null,
            "align_self": null,
            "border": null,
            "bottom": null,
            "display": null,
            "flex": null,
            "flex_flow": null,
            "grid_area": null,
            "grid_auto_columns": null,
            "grid_auto_flow": null,
            "grid_auto_rows": null,
            "grid_column": null,
            "grid_gap": null,
            "grid_row": null,
            "grid_template_areas": null,
            "grid_template_columns": null,
            "grid_template_rows": null,
            "height": null,
            "justify_content": null,
            "justify_items": null,
            "left": null,
            "margin": null,
            "max_height": null,
            "max_width": null,
            "min_height": null,
            "min_width": null,
            "object_fit": null,
            "object_position": null,
            "order": null,
            "overflow": null,
            "overflow_x": null,
            "overflow_y": null,
            "padding": null,
            "right": null,
            "top": null,
            "visibility": null,
            "width": null
          }
        },
        "5984f67331624b00a26504048514a81c": {
          "model_module": "@jupyter-widgets/controls",
          "model_name": "ButtonModel",
          "model_module_version": "1.5.0",
          "state": {
            "_dom_classes": [
              "happy"
            ],
            "_model_module": "@jupyter-widgets/controls",
            "_model_module_version": "1.5.0",
            "_model_name": "ButtonModel",
            "_view_count": null,
            "_view_module": "@jupyter-widgets/controls",
            "_view_module_version": "1.5.0",
            "_view_name": "ButtonView",
            "button_style": "",
            "description": "🙂",
            "disabled": false,
            "icon": "",
            "layout": "IPY_MODEL_b533de53c4f24cf2af1e066632381120",
            "style": "IPY_MODEL_9232f963635f4928a8cba5cdbb40b733",
            "tooltip": "happy"
          }
        },
        "c7d27b037a6f4a9da085528f7c9d71a4": {
          "model_module": "@jupyter-widgets/controls",
          "model_name": "ButtonModel",
          "model_module_version": "1.5.0",
          "state": {
            "_dom_classes": [
              "medium"
            ],
            "_model_module": "@jupyter-widgets/controls",
            "_model_module_version": "1.5.0",
            "_model_name": "ButtonModel",
            "_view_count": null,
            "_view_module": "@jupyter-widgets/controls",
            "_view_module_version": "1.5.0",
            "_view_name": "ButtonView",
            "button_style": "",
            "description": "😐",
            "disabled": false,
            "icon": "",
            "layout": "IPY_MODEL_eb9499acd5f442879192390546c4f2eb",
            "style": "IPY_MODEL_2384afa678954484977a4223c99586d6",
            "tooltip": "medium"
          }
        },
        "08d80a715fc0415895c15b4d8872b17d": {
          "model_module": "@jupyter-widgets/controls",
          "model_name": "ButtonModel",
          "model_module_version": "1.5.0",
          "state": {
            "_dom_classes": [
              "sad"
            ],
            "_model_module": "@jupyter-widgets/controls",
            "_model_module_version": "1.5.0",
            "_model_name": "ButtonModel",
            "_view_count": null,
            "_view_module": "@jupyter-widgets/controls",
            "_view_module_version": "1.5.0",
            "_view_name": "ButtonView",
            "button_style": "",
            "description": "🙁",
            "disabled": false,
            "icon": "",
            "layout": "IPY_MODEL_2fc6f7dd2b8c42518a84f73df91c2d55",
            "style": "IPY_MODEL_c61cac927f904021908f09f375eb79b2",
            "tooltip": "sad"
          }
        },
        "8edf8bbeb63f4bafb5f61419df201eaf": {
          "model_module": "@jupyter-widgets/base",
          "model_name": "LayoutModel",
          "model_module_version": "1.2.0",
          "state": {
            "_model_module": "@jupyter-widgets/base",
            "_model_module_version": "1.2.0",
            "_model_name": "LayoutModel",
            "_view_count": null,
            "_view_module": "@jupyter-widgets/base",
            "_view_module_version": "1.2.0",
            "_view_name": "LayoutView",
            "align_content": null,
            "align_items": null,
            "align_self": null,
            "border": null,
            "bottom": null,
            "display": null,
            "flex": null,
            "flex_flow": null,
            "grid_area": null,
            "grid_auto_columns": null,
            "grid_auto_flow": null,
            "grid_auto_rows": null,
            "grid_column": null,
            "grid_gap": null,
            "grid_row": null,
            "grid_template_areas": null,
            "grid_template_columns": null,
            "grid_template_rows": null,
            "height": null,
            "justify_content": null,
            "justify_items": null,
            "left": null,
            "margin": null,
            "max_height": null,
            "max_width": null,
            "min_height": null,
            "min_width": null,
            "object_fit": null,
            "object_position": null,
            "order": null,
            "overflow": null,
            "overflow_x": null,
            "overflow_y": null,
            "padding": null,
            "right": null,
            "top": null,
            "visibility": null,
            "width": null
          }
        },
        "a307a453693b47f1ac182488c26edbfa": {
          "model_module": "@jupyter-widgets/controls",
          "model_name": "TextareaModel",
          "model_module_version": "1.5.0",
          "state": {
            "_dom_classes": [],
            "_model_module": "@jupyter-widgets/controls",
            "_model_module_version": "1.5.0",
            "_model_name": "TextareaModel",
            "_view_count": null,
            "_view_module": "@jupyter-widgets/controls",
            "_view_module_version": "1.5.0",
            "_view_name": "TextareaView",
            "continuous_update": true,
            "description": "",
            "description_tooltip": null,
            "disabled": false,
            "layout": "IPY_MODEL_83439ca2c65f4215a2c8682636dfffdc",
            "placeholder": "We want your feedback!",
            "rows": null,
            "style": "IPY_MODEL_f72bfb42e2c641d8b9335013d153e46c",
            "value": ""
          }
        },
        "a477fddf89f14ee298e2a93dbccb3648": {
          "model_module": "@jupyter-widgets/controls",
          "model_name": "ButtonModel",
          "model_module_version": "1.5.0",
          "state": {
            "_dom_classes": [],
            "_model_module": "@jupyter-widgets/controls",
            "_model_module_version": "1.5.0",
            "_model_name": "ButtonModel",
            "_view_count": null,
            "_view_module": "@jupyter-widgets/controls",
            "_view_module_version": "1.5.0",
            "_view_name": "ButtonView",
            "button_style": "",
            "description": "Submit",
            "disabled": false,
            "icon": "",
            "layout": "IPY_MODEL_e570cd7428ab4699999cea2559dc92aa",
            "style": "IPY_MODEL_e1541e23f4f842ba89956a631342f032",
            "tooltip": ""
          }
        },
        "89fc3ef9bc9d4be7bd1af9c90d49caad": {
          "model_module": "@jupyter-widgets/base",
          "model_name": "LayoutModel",
          "model_module_version": "1.2.0",
          "state": {
            "_model_module": "@jupyter-widgets/base",
            "_model_module_version": "1.2.0",
            "_model_name": "LayoutModel",
            "_view_count": null,
            "_view_module": "@jupyter-widgets/base",
            "_view_module_version": "1.2.0",
            "_view_name": "LayoutView",
            "align_content": null,
            "align_items": null,
            "align_self": null,
            "border": null,
            "bottom": null,
            "display": "none",
            "flex": null,
            "flex_flow": null,
            "grid_area": null,
            "grid_auto_columns": null,
            "grid_auto_flow": null,
            "grid_auto_rows": null,
            "grid_column": null,
            "grid_gap": null,
            "grid_row": null,
            "grid_template_areas": null,
            "grid_template_columns": null,
            "grid_template_rows": null,
            "height": null,
            "justify_content": null,
            "justify_items": null,
            "left": null,
            "margin": null,
            "max_height": null,
            "max_width": null,
            "min_height": null,
            "min_width": null,
            "object_fit": null,
            "object_position": null,
            "order": null,
            "overflow": null,
            "overflow_x": null,
            "overflow_y": null,
            "padding": null,
            "right": null,
            "top": null,
            "visibility": null,
            "width": null
          }
        },
        "367dbaf522f04e2dabbdc89bb24963d2": {
          "model_module": "@jupyter-widgets/base",
          "model_name": "LayoutModel",
          "model_module_version": "1.2.0",
          "state": {
            "_model_module": "@jupyter-widgets/base",
            "_model_module_version": "1.2.0",
            "_model_name": "LayoutModel",
            "_view_count": null,
            "_view_module": "@jupyter-widgets/base",
            "_view_module_version": "1.2.0",
            "_view_name": "LayoutView",
            "align_content": null,
            "align_items": null,
            "align_self": null,
            "border": null,
            "bottom": null,
            "display": "none",
            "flex": null,
            "flex_flow": null,
            "grid_area": null,
            "grid_auto_columns": null,
            "grid_auto_flow": null,
            "grid_auto_rows": null,
            "grid_column": null,
            "grid_gap": null,
            "grid_row": null,
            "grid_template_areas": null,
            "grid_template_columns": null,
            "grid_template_rows": null,
            "height": null,
            "justify_content": null,
            "justify_items": null,
            "left": null,
            "margin": null,
            "max_height": null,
            "max_width": null,
            "min_height": null,
            "min_width": null,
            "object_fit": null,
            "object_position": null,
            "order": null,
            "overflow": null,
            "overflow_x": null,
            "overflow_y": null,
            "padding": null,
            "right": null,
            "top": null,
            "visibility": null,
            "width": null
          }
        },
        "0e9f468b2801415fbea8adfdb21df904": {
          "model_module": "@jupyter-widgets/controls",
          "model_name": "DescriptionStyleModel",
          "model_module_version": "1.5.0",
          "state": {
            "_model_module": "@jupyter-widgets/controls",
            "_model_module_version": "1.5.0",
            "_model_name": "DescriptionStyleModel",
            "_view_count": null,
            "_view_module": "@jupyter-widgets/base",
            "_view_module_version": "1.2.0",
            "_view_name": "StyleView",
            "description_width": ""
          }
        },
        "b533de53c4f24cf2af1e066632381120": {
          "model_module": "@jupyter-widgets/base",
          "model_name": "LayoutModel",
          "model_module_version": "1.2.0",
          "state": {
            "_model_module": "@jupyter-widgets/base",
            "_model_module_version": "1.2.0",
            "_model_name": "LayoutModel",
            "_view_count": null,
            "_view_module": "@jupyter-widgets/base",
            "_view_module_version": "1.2.0",
            "_view_name": "LayoutView",
            "align_content": null,
            "align_items": null,
            "align_self": null,
            "border": null,
            "bottom": null,
            "display": null,
            "flex": null,
            "flex_flow": null,
            "grid_area": null,
            "grid_auto_columns": null,
            "grid_auto_flow": null,
            "grid_auto_rows": null,
            "grid_column": null,
            "grid_gap": null,
            "grid_row": null,
            "grid_template_areas": null,
            "grid_template_columns": null,
            "grid_template_rows": null,
            "height": "auto",
            "justify_content": null,
            "justify_items": null,
            "left": null,
            "margin": null,
            "max_height": null,
            "max_width": null,
            "min_height": null,
            "min_width": null,
            "object_fit": null,
            "object_position": null,
            "order": null,
            "overflow": null,
            "overflow_x": null,
            "overflow_y": null,
            "padding": "0.5em",
            "right": null,
            "top": null,
            "visibility": null,
            "width": "auto"
          }
        },
        "9232f963635f4928a8cba5cdbb40b733": {
          "model_module": "@jupyter-widgets/controls",
          "model_name": "ButtonStyleModel",
          "model_module_version": "1.5.0",
          "state": {
            "_model_module": "@jupyter-widgets/controls",
            "_model_module_version": "1.5.0",
            "_model_name": "ButtonStyleModel",
            "_view_count": null,
            "_view_module": "@jupyter-widgets/base",
            "_view_module_version": "1.2.0",
            "_view_name": "StyleView",
            "button_color": "#aaffaa",
            "font_weight": ""
          }
        },
        "eb9499acd5f442879192390546c4f2eb": {
          "model_module": "@jupyter-widgets/base",
          "model_name": "LayoutModel",
          "model_module_version": "1.2.0",
          "state": {
            "_model_module": "@jupyter-widgets/base",
            "_model_module_version": "1.2.0",
            "_model_name": "LayoutModel",
            "_view_count": null,
            "_view_module": "@jupyter-widgets/base",
            "_view_module_version": "1.2.0",
            "_view_name": "LayoutView",
            "align_content": null,
            "align_items": null,
            "align_self": null,
            "border": null,
            "bottom": null,
            "display": null,
            "flex": null,
            "flex_flow": null,
            "grid_area": null,
            "grid_auto_columns": null,
            "grid_auto_flow": null,
            "grid_auto_rows": null,
            "grid_column": null,
            "grid_gap": null,
            "grid_row": null,
            "grid_template_areas": null,
            "grid_template_columns": null,
            "grid_template_rows": null,
            "height": "auto",
            "justify_content": null,
            "justify_items": null,
            "left": null,
            "margin": null,
            "max_height": null,
            "max_width": null,
            "min_height": null,
            "min_width": null,
            "object_fit": null,
            "object_position": null,
            "order": null,
            "overflow": null,
            "overflow_x": null,
            "overflow_y": null,
            "padding": "0.5em",
            "right": null,
            "top": null,
            "visibility": null,
            "width": "auto"
          }
        },
        "2384afa678954484977a4223c99586d6": {
          "model_module": "@jupyter-widgets/controls",
          "model_name": "ButtonStyleModel",
          "model_module_version": "1.5.0",
          "state": {
            "_model_module": "@jupyter-widgets/controls",
            "_model_module_version": "1.5.0",
            "_model_name": "ButtonStyleModel",
            "_view_count": null,
            "_view_module": "@jupyter-widgets/base",
            "_view_module_version": "1.2.0",
            "_view_name": "StyleView",
            "button_color": "#dddd77",
            "font_weight": ""
          }
        },
        "2fc6f7dd2b8c42518a84f73df91c2d55": {
          "model_module": "@jupyter-widgets/base",
          "model_name": "LayoutModel",
          "model_module_version": "1.2.0",
          "state": {
            "_model_module": "@jupyter-widgets/base",
            "_model_module_version": "1.2.0",
            "_model_name": "LayoutModel",
            "_view_count": null,
            "_view_module": "@jupyter-widgets/base",
            "_view_module_version": "1.2.0",
            "_view_name": "LayoutView",
            "align_content": null,
            "align_items": null,
            "align_self": null,
            "border": null,
            "bottom": null,
            "display": null,
            "flex": null,
            "flex_flow": null,
            "grid_area": null,
            "grid_auto_columns": null,
            "grid_auto_flow": null,
            "grid_auto_rows": null,
            "grid_column": null,
            "grid_gap": null,
            "grid_row": null,
            "grid_template_areas": null,
            "grid_template_columns": null,
            "grid_template_rows": null,
            "height": "auto",
            "justify_content": null,
            "justify_items": null,
            "left": null,
            "margin": null,
            "max_height": null,
            "max_width": null,
            "min_height": null,
            "min_width": null,
            "object_fit": null,
            "object_position": null,
            "order": null,
            "overflow": null,
            "overflow_x": null,
            "overflow_y": null,
            "padding": "0.5em",
            "right": null,
            "top": null,
            "visibility": null,
            "width": "auto"
          }
        },
        "c61cac927f904021908f09f375eb79b2": {
          "model_module": "@jupyter-widgets/controls",
          "model_name": "ButtonStyleModel",
          "model_module_version": "1.5.0",
          "state": {
            "_model_module": "@jupyter-widgets/controls",
            "_model_module_version": "1.5.0",
            "_model_name": "ButtonStyleModel",
            "_view_count": null,
            "_view_module": "@jupyter-widgets/base",
            "_view_module_version": "1.2.0",
            "_view_name": "StyleView",
            "button_color": "#ffaaaa",
            "font_weight": ""
          }
        },
        "83439ca2c65f4215a2c8682636dfffdc": {
          "model_module": "@jupyter-widgets/base",
          "model_name": "LayoutModel",
          "model_module_version": "1.2.0",
          "state": {
            "_model_module": "@jupyter-widgets/base",
            "_model_module_version": "1.2.0",
            "_model_name": "LayoutModel",
            "_view_count": null,
            "_view_module": "@jupyter-widgets/base",
            "_view_module_version": "1.2.0",
            "_view_name": "LayoutView",
            "align_content": null,
            "align_items": null,
            "align_self": null,
            "border": null,
            "bottom": null,
            "display": null,
            "flex": null,
            "flex_flow": null,
            "grid_area": null,
            "grid_auto_columns": null,
            "grid_auto_flow": null,
            "grid_auto_rows": null,
            "grid_column": null,
            "grid_gap": null,
            "grid_row": null,
            "grid_template_areas": null,
            "grid_template_columns": null,
            "grid_template_rows": null,
            "height": "auto",
            "justify_content": null,
            "justify_items": null,
            "left": null,
            "margin": null,
            "max_height": null,
            "max_width": null,
            "min_height": null,
            "min_width": null,
            "object_fit": null,
            "object_position": null,
            "order": null,
            "overflow": null,
            "overflow_x": null,
            "overflow_y": null,
            "padding": null,
            "right": null,
            "top": null,
            "visibility": null,
            "width": "auto"
          }
        },
        "f72bfb42e2c641d8b9335013d153e46c": {
          "model_module": "@jupyter-widgets/controls",
          "model_name": "DescriptionStyleModel",
          "model_module_version": "1.5.0",
          "state": {
            "_model_module": "@jupyter-widgets/controls",
            "_model_module_version": "1.5.0",
            "_model_name": "DescriptionStyleModel",
            "_view_count": null,
            "_view_module": "@jupyter-widgets/base",
            "_view_module_version": "1.2.0",
            "_view_name": "StyleView",
            "description_width": ""
          }
        },
        "e570cd7428ab4699999cea2559dc92aa": {
          "model_module": "@jupyter-widgets/base",
          "model_name": "LayoutModel",
          "model_module_version": "1.2.0",
          "state": {
            "_model_module": "@jupyter-widgets/base",
            "_model_module_version": "1.2.0",
            "_model_name": "LayoutModel",
            "_view_count": null,
            "_view_module": "@jupyter-widgets/base",
            "_view_module_version": "1.2.0",
            "_view_name": "LayoutView",
            "align_content": null,
            "align_items": null,
            "align_self": null,
            "border": null,
            "bottom": null,
            "display": null,
            "flex": null,
            "flex_flow": null,
            "grid_area": null,
            "grid_auto_columns": null,
            "grid_auto_flow": null,
            "grid_auto_rows": null,
            "grid_column": null,
            "grid_gap": null,
            "grid_row": null,
            "grid_template_areas": null,
            "grid_template_columns": null,
            "grid_template_rows": null,
            "height": "auto",
            "justify_content": null,
            "justify_items": null,
            "left": null,
            "margin": null,
            "max_height": null,
            "max_width": null,
            "min_height": null,
            "min_width": null,
            "object_fit": null,
            "object_position": null,
            "order": null,
            "overflow": null,
            "overflow_x": null,
            "overflow_y": null,
            "padding": null,
            "right": null,
            "top": null,
            "visibility": null,
            "width": "auto"
          }
        },
        "e1541e23f4f842ba89956a631342f032": {
          "model_module": "@jupyter-widgets/controls",
          "model_name": "ButtonStyleModel",
          "model_module_version": "1.5.0",
          "state": {
            "_model_module": "@jupyter-widgets/controls",
            "_model_module_version": "1.5.0",
            "_model_name": "ButtonStyleModel",
            "_view_count": null,
            "_view_module": "@jupyter-widgets/base",
            "_view_module_version": "1.2.0",
            "_view_name": "StyleView",
            "button_color": null,
            "font_weight": ""
          }
        },
        "8df97e93a3cc4d688cb6fdd52cad8ac3": {
          "model_module": "@jupyter-widgets/controls",
          "model_name": "VBoxModel",
          "model_module_version": "1.5.0",
          "state": {
            "_dom_classes": [
              "widget-interact"
            ],
            "_model_module": "@jupyter-widgets/controls",
            "_model_module_version": "1.5.0",
            "_model_name": "VBoxModel",
            "_view_count": null,
            "_view_module": "@jupyter-widgets/controls",
            "_view_module_version": "1.5.0",
            "_view_name": "VBoxView",
            "box_style": "",
            "children": [
              "IPY_MODEL_3047c47d514a45b3b3c12f4ebf5aef02",
              "IPY_MODEL_7d493eb954b140ab81c9340faf4a21fb"
            ],
            "layout": "IPY_MODEL_09ba6ade6ccd41e89928e8a49cb899b3"
          }
        },
        "3047c47d514a45b3b3c12f4ebf5aef02": {
          "model_module": "@jupyter-widgets/controls",
          "model_name": "FloatSliderModel",
          "model_module_version": "1.5.0",
          "state": {
            "_dom_classes": [],
            "_model_module": "@jupyter-widgets/controls",
            "_model_module_version": "1.5.0",
            "_model_name": "FloatSliderModel",
            "_view_count": null,
            "_view_module": "@jupyter-widgets/controls",
            "_view_module_version": "1.5.0",
            "_view_name": "FloatSliderView",
            "continuous_update": true,
            "description": "theta_hat",
            "description_tooltip": null,
            "disabled": false,
            "layout": "IPY_MODEL_8a00e7b33fcb4f68ab59bf2316f7bb7a",
            "max": 2,
            "min": 0,
            "orientation": "horizontal",
            "readout": true,
            "readout_format": ".2f",
            "step": 0.1,
            "style": "IPY_MODEL_05f217272ac94f509b52b3fdfc36f8f1",
            "value": 1
          }
        },
        "7d493eb954b140ab81c9340faf4a21fb": {
          "model_module": "@jupyter-widgets/output",
          "model_name": "OutputModel",
          "model_module_version": "1.0.0",
          "state": {
            "_dom_classes": [],
            "_model_module": "@jupyter-widgets/output",
            "_model_module_version": "1.0.0",
            "_model_name": "OutputModel",
            "_view_count": null,
            "_view_module": "@jupyter-widgets/output",
            "_view_module_version": "1.0.0",
            "_view_name": "OutputView",
            "layout": "IPY_MODEL_d3759a4adc084e87b8ab74a042cc10f2",
            "msg_id": "",
            "outputs": [
              {
                "output_type": "display_data",
                "data": {
                  "text/plain": "<Figure size 800x600 with 1 Axes>",
                  "image/png": "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\n"
                },
                "metadata": {
                  "image/png": {
                    "width": 773,
                    "height": 575
                  }
                }
              }
            ]
          }
        },
        "09ba6ade6ccd41e89928e8a49cb899b3": {
          "model_module": "@jupyter-widgets/base",
          "model_name": "LayoutModel",
          "model_module_version": "1.2.0",
          "state": {
            "_model_module": "@jupyter-widgets/base",
            "_model_module_version": "1.2.0",
            "_model_name": "LayoutModel",
            "_view_count": null,
            "_view_module": "@jupyter-widgets/base",
            "_view_module_version": "1.2.0",
            "_view_name": "LayoutView",
            "align_content": null,
            "align_items": null,
            "align_self": null,
            "border": null,
            "bottom": null,
            "display": null,
            "flex": null,
            "flex_flow": null,
            "grid_area": null,
            "grid_auto_columns": null,
            "grid_auto_flow": null,
            "grid_auto_rows": null,
            "grid_column": null,
            "grid_gap": null,
            "grid_row": null,
            "grid_template_areas": null,
            "grid_template_columns": null,
            "grid_template_rows": null,
            "height": null,
            "justify_content": null,
            "justify_items": null,
            "left": null,
            "margin": null,
            "max_height": null,
            "max_width": null,
            "min_height": null,
            "min_width": null,
            "object_fit": null,
            "object_position": null,
            "order": null,
            "overflow": null,
            "overflow_x": null,
            "overflow_y": null,
            "padding": null,
            "right": null,
            "top": null,
            "visibility": null,
            "width": null
          }
        },
        "8a00e7b33fcb4f68ab59bf2316f7bb7a": {
          "model_module": "@jupyter-widgets/base",
          "model_name": "LayoutModel",
          "model_module_version": "1.2.0",
          "state": {
            "_model_module": "@jupyter-widgets/base",
            "_model_module_version": "1.2.0",
            "_model_name": "LayoutModel",
            "_view_count": null,
            "_view_module": "@jupyter-widgets/base",
            "_view_module_version": "1.2.0",
            "_view_name": "LayoutView",
            "align_content": null,
            "align_items": null,
            "align_self": null,
            "border": null,
            "bottom": null,
            "display": null,
            "flex": null,
            "flex_flow": null,
            "grid_area": null,
            "grid_auto_columns": null,
            "grid_auto_flow": null,
            "grid_auto_rows": null,
            "grid_column": null,
            "grid_gap": null,
            "grid_row": null,
            "grid_template_areas": null,
            "grid_template_columns": null,
            "grid_template_rows": null,
            "height": null,
            "justify_content": null,
            "justify_items": null,
            "left": null,
            "margin": null,
            "max_height": null,
            "max_width": null,
            "min_height": null,
            "min_width": null,
            "object_fit": null,
            "object_position": null,
            "order": null,
            "overflow": null,
            "overflow_x": null,
            "overflow_y": null,
            "padding": null,
            "right": null,
            "top": null,
            "visibility": null,
            "width": null
          }
        },
        "05f217272ac94f509b52b3fdfc36f8f1": {
          "model_module": "@jupyter-widgets/controls",
          "model_name": "SliderStyleModel",
          "model_module_version": "1.5.0",
          "state": {
            "_model_module": "@jupyter-widgets/controls",
            "_model_module_version": "1.5.0",
            "_model_name": "SliderStyleModel",
            "_view_count": null,
            "_view_module": "@jupyter-widgets/base",
            "_view_module_version": "1.2.0",
            "_view_name": "StyleView",
            "description_width": "",
            "handle_color": null
          }
        },
        "d3759a4adc084e87b8ab74a042cc10f2": {
          "model_module": "@jupyter-widgets/base",
          "model_name": "LayoutModel",
          "model_module_version": "1.2.0",
          "state": {
            "_model_module": "@jupyter-widgets/base",
            "_model_module_version": "1.2.0",
            "_model_name": "LayoutModel",
            "_view_count": null,
            "_view_module": "@jupyter-widgets/base",
            "_view_module_version": "1.2.0",
            "_view_name": "LayoutView",
            "align_content": null,
            "align_items": null,
            "align_self": null,
            "border": null,
            "bottom": null,
            "display": null,
            "flex": null,
            "flex_flow": null,
            "grid_area": null,
            "grid_auto_columns": null,
            "grid_auto_flow": null,
            "grid_auto_rows": null,
            "grid_column": null,
            "grid_gap": null,
            "grid_row": null,
            "grid_template_areas": null,
            "grid_template_columns": null,
            "grid_template_rows": null,
            "height": null,
            "justify_content": null,
            "justify_items": null,
            "left": null,
            "margin": null,
            "max_height": null,
            "max_width": null,
            "min_height": null,
            "min_width": null,
            "object_fit": null,
            "object_position": null,
            "order": null,
            "overflow": null,
            "overflow_x": null,
            "overflow_y": null,
            "padding": null,
            "right": null,
            "top": null,
            "visibility": null,
            "width": null
          }
        },
        "db18ab12781542399b0f4250a5406519": {
          "model_module": "@jupyter-widgets/controls",
          "model_name": "VBoxModel",
          "model_module_version": "1.5.0",
          "state": {
            "_dom_classes": [],
            "_model_module": "@jupyter-widgets/controls",
            "_model_module_version": "1.5.0",
            "_model_name": "VBoxModel",
            "_view_count": null,
            "_view_module": "@jupyter-widgets/controls",
            "_view_module_version": "1.5.0",
            "_view_name": "VBoxView",
            "box_style": "",
            "children": [
              "IPY_MODEL_e2247f978a794eee8927d61266355138"
            ],
            "layout": "IPY_MODEL_18ce5d014c1e480aa5ba3b80c185c46c"
          }
        },
        "e2247f978a794eee8927d61266355138": {
          "model_module": "@jupyter-widgets/controls",
          "model_name": "VBoxModel",
          "model_module_version": "1.5.0",
          "state": {
            "_dom_classes": [],
            "_model_module": "@jupyter-widgets/controls",
            "_model_module_version": "1.5.0",
            "_model_name": "VBoxModel",
            "_view_count": null,
            "_view_module": "@jupyter-widgets/controls",
            "_view_module_version": "1.5.0",
            "_view_name": "VBoxView",
            "box_style": "",
            "children": [
              "IPY_MODEL_8b96ea4a71bd4cc4a4badada39ed01d8",
              "IPY_MODEL_afa11c65c114407db649ec9bd59cc0ad",
              "IPY_MODEL_426b744043364bdb986848e9c19ccae8"
            ],
            "layout": "IPY_MODEL_4542aadbea3542d2b1c4db7a22ff0625"
          }
        },
        "18ce5d014c1e480aa5ba3b80c185c46c": {
          "model_module": "@jupyter-widgets/base",
          "model_name": "LayoutModel",
          "model_module_version": "1.2.0",
          "state": {
            "_model_module": "@jupyter-widgets/base",
            "_model_module_version": "1.2.0",
            "_model_name": "LayoutModel",
            "_view_count": null,
            "_view_module": "@jupyter-widgets/base",
            "_view_module_version": "1.2.0",
            "_view_name": "LayoutView",
            "align_content": null,
            "align_items": null,
            "align_self": null,
            "border": null,
            "bottom": null,
            "display": null,
            "flex": null,
            "flex_flow": null,
            "grid_area": null,
            "grid_auto_columns": null,
            "grid_auto_flow": null,
            "grid_auto_rows": null,
            "grid_column": null,
            "grid_gap": null,
            "grid_row": null,
            "grid_template_areas": null,
            "grid_template_columns": null,
            "grid_template_rows": null,
            "height": null,
            "justify_content": null,
            "justify_items": null,
            "left": null,
            "margin": null,
            "max_height": null,
            "max_width": null,
            "min_height": null,
            "min_width": null,
            "object_fit": null,
            "object_position": null,
            "order": null,
            "overflow": null,
            "overflow_x": null,
            "overflow_y": null,
            "padding": null,
            "right": null,
            "top": null,
            "visibility": null,
            "width": null
          }
        },
        "8b96ea4a71bd4cc4a4badada39ed01d8": {
          "model_module": "@jupyter-widgets/controls",
          "model_name": "HBoxModel",
          "model_module_version": "1.5.0",
          "state": {
            "_dom_classes": [],
            "_model_module": "@jupyter-widgets/controls",
            "_model_module_version": "1.5.0",
            "_model_name": "HBoxModel",
            "_view_count": null,
            "_view_module": "@jupyter-widgets/controls",
            "_view_module_version": "1.5.0",
            "_view_name": "HBoxView",
            "box_style": "",
            "children": [
              "IPY_MODEL_9235941630e74f79b82aade2e5d9b68c",
              "IPY_MODEL_9a5fb125eef64dffa99efbabc44d36a7",
              "IPY_MODEL_74a03e702e6f43a1805c582132a9d394"
            ],
            "layout": "IPY_MODEL_be0afda1e83c49d1b880ec534942efdc"
          }
        },
        "afa11c65c114407db649ec9bd59cc0ad": {
          "model_module": "@jupyter-widgets/controls",
          "model_name": "HBoxModel",
          "model_module_version": "1.5.0",
          "state": {
            "_dom_classes": [],
            "_model_module": "@jupyter-widgets/controls",
            "_model_module_version": "1.5.0",
            "_model_name": "HBoxModel",
            "_view_count": null,
            "_view_module": "@jupyter-widgets/controls",
            "_view_module_version": "1.5.0",
            "_view_name": "HBoxView",
            "box_style": "",
            "children": [
              "IPY_MODEL_47716f8ec08c4d8388a52870d35bb02b",
              "IPY_MODEL_0eae68935db14dcc8786949f9d53d0f2"
            ],
            "layout": "IPY_MODEL_b171f70254664c80b4435bea5188ca01"
          }
        },
        "426b744043364bdb986848e9c19ccae8": {
          "model_module": "@jupyter-widgets/controls",
          "model_name": "LabelModel",
          "model_module_version": "1.5.0",
          "state": {
            "_dom_classes": [],
            "_model_module": "@jupyter-widgets/controls",
            "_model_module_version": "1.5.0",
            "_model_name": "LabelModel",
            "_view_count": null,
            "_view_module": "@jupyter-widgets/controls",
            "_view_module_version": "1.5.0",
            "_view_name": "LabelView",
            "description": "",
            "description_tooltip": null,
            "layout": "IPY_MODEL_3f8a7c5fe0b9440cbd19b5fba2e64cc3",
            "placeholder": "​",
            "style": "IPY_MODEL_60c627192a274ecfa6a126a31a57dd4e",
            "value": "Thanks for your feedback!"
          }
        },
        "4542aadbea3542d2b1c4db7a22ff0625": {
          "model_module": "@jupyter-widgets/base",
          "model_name": "LayoutModel",
          "model_module_version": "1.2.0",
          "state": {
            "_model_module": "@jupyter-widgets/base",
            "_model_module_version": "1.2.0",
            "_model_name": "LayoutModel",
            "_view_count": null,
            "_view_module": "@jupyter-widgets/base",
            "_view_module_version": "1.2.0",
            "_view_name": "LayoutView",
            "align_content": null,
            "align_items": null,
            "align_self": null,
            "border": null,
            "bottom": null,
            "display": null,
            "flex": null,
            "flex_flow": null,
            "grid_area": null,
            "grid_auto_columns": null,
            "grid_auto_flow": null,
            "grid_auto_rows": null,
            "grid_column": null,
            "grid_gap": null,
            "grid_row": null,
            "grid_template_areas": null,
            "grid_template_columns": null,
            "grid_template_rows": null,
            "height": null,
            "justify_content": null,
            "justify_items": null,
            "left": null,
            "margin": null,
            "max_height": null,
            "max_width": null,
            "min_height": null,
            "min_width": null,
            "object_fit": null,
            "object_position": null,
            "order": null,
            "overflow": null,
            "overflow_x": null,
            "overflow_y": null,
            "padding": null,
            "right": null,
            "top": null,
            "visibility": null,
            "width": null
          }
        },
        "9235941630e74f79b82aade2e5d9b68c": {
          "model_module": "@jupyter-widgets/controls",
          "model_name": "ButtonModel",
          "model_module_version": "1.5.0",
          "state": {
            "_dom_classes": [
              "happy"
            ],
            "_model_module": "@jupyter-widgets/controls",
            "_model_module_version": "1.5.0",
            "_model_name": "ButtonModel",
            "_view_count": null,
            "_view_module": "@jupyter-widgets/controls",
            "_view_module_version": "1.5.0",
            "_view_name": "ButtonView",
            "button_style": "",
            "description": "🙂",
            "disabled": false,
            "icon": "",
            "layout": "IPY_MODEL_f0869301006845c69248463a2c9d751d",
            "style": "IPY_MODEL_ddae92cfe25a43e1ae96f2c831752a47",
            "tooltip": "happy"
          }
        },
        "9a5fb125eef64dffa99efbabc44d36a7": {
          "model_module": "@jupyter-widgets/controls",
          "model_name": "ButtonModel",
          "model_module_version": "1.5.0",
          "state": {
            "_dom_classes": [
              "medium"
            ],
            "_model_module": "@jupyter-widgets/controls",
            "_model_module_version": "1.5.0",
            "_model_name": "ButtonModel",
            "_view_count": null,
            "_view_module": "@jupyter-widgets/controls",
            "_view_module_version": "1.5.0",
            "_view_name": "ButtonView",
            "button_style": "",
            "description": "😐",
            "disabled": false,
            "icon": "",
            "layout": "IPY_MODEL_4a912828d4054b1d8aba98195a6f3387",
            "style": "IPY_MODEL_a6a95824029e4ff1b73f84ff5725be55",
            "tooltip": "medium"
          }
        },
        "74a03e702e6f43a1805c582132a9d394": {
          "model_module": "@jupyter-widgets/controls",
          "model_name": "ButtonModel",
          "model_module_version": "1.5.0",
          "state": {
            "_dom_classes": [
              "sad"
            ],
            "_model_module": "@jupyter-widgets/controls",
            "_model_module_version": "1.5.0",
            "_model_name": "ButtonModel",
            "_view_count": null,
            "_view_module": "@jupyter-widgets/controls",
            "_view_module_version": "1.5.0",
            "_view_name": "ButtonView",
            "button_style": "",
            "description": "🙁",
            "disabled": false,
            "icon": "",
            "layout": "IPY_MODEL_9f6f35047b384e21ab43974cf03349aa",
            "style": "IPY_MODEL_4c2a8ed1c8bb4e1ba2aef7ba44462eae",
            "tooltip": "sad"
          }
        },
        "be0afda1e83c49d1b880ec534942efdc": {
          "model_module": "@jupyter-widgets/base",
          "model_name": "LayoutModel",
          "model_module_version": "1.2.0",
          "state": {
            "_model_module": "@jupyter-widgets/base",
            "_model_module_version": "1.2.0",
            "_model_name": "LayoutModel",
            "_view_count": null,
            "_view_module": "@jupyter-widgets/base",
            "_view_module_version": "1.2.0",
            "_view_name": "LayoutView",
            "align_content": null,
            "align_items": null,
            "align_self": null,
            "border": null,
            "bottom": null,
            "display": null,
            "flex": null,
            "flex_flow": null,
            "grid_area": null,
            "grid_auto_columns": null,
            "grid_auto_flow": null,
            "grid_auto_rows": null,
            "grid_column": null,
            "grid_gap": null,
            "grid_row": null,
            "grid_template_areas": null,
            "grid_template_columns": null,
            "grid_template_rows": null,
            "height": null,
            "justify_content": null,
            "justify_items": null,
            "left": null,
            "margin": null,
            "max_height": null,
            "max_width": null,
            "min_height": null,
            "min_width": null,
            "object_fit": null,
            "object_position": null,
            "order": null,
            "overflow": null,
            "overflow_x": null,
            "overflow_y": null,
            "padding": null,
            "right": null,
            "top": null,
            "visibility": null,
            "width": null
          }
        },
        "47716f8ec08c4d8388a52870d35bb02b": {
          "model_module": "@jupyter-widgets/controls",
          "model_name": "TextareaModel",
          "model_module_version": "1.5.0",
          "state": {
            "_dom_classes": [],
            "_model_module": "@jupyter-widgets/controls",
            "_model_module_version": "1.5.0",
            "_model_name": "TextareaModel",
            "_view_count": null,
            "_view_module": "@jupyter-widgets/controls",
            "_view_module_version": "1.5.0",
            "_view_name": "TextareaView",
            "continuous_update": true,
            "description": "",
            "description_tooltip": null,
            "disabled": false,
            "layout": "IPY_MODEL_a2549279826f40fdbfd9af30de54705c",
            "placeholder": "We want your feedback!",
            "rows": null,
            "style": "IPY_MODEL_df03da9863174f1d8d622c2c53c7d747",
            "value": ""
          }
        },
        "0eae68935db14dcc8786949f9d53d0f2": {
          "model_module": "@jupyter-widgets/controls",
          "model_name": "ButtonModel",
          "model_module_version": "1.5.0",
          "state": {
            "_dom_classes": [],
            "_model_module": "@jupyter-widgets/controls",
            "_model_module_version": "1.5.0",
            "_model_name": "ButtonModel",
            "_view_count": null,
            "_view_module": "@jupyter-widgets/controls",
            "_view_module_version": "1.5.0",
            "_view_name": "ButtonView",
            "button_style": "",
            "description": "Submit",
            "disabled": false,
            "icon": "",
            "layout": "IPY_MODEL_3e2d127e89b44342a64e3a6bada987aa",
            "style": "IPY_MODEL_e3b8df566b244ffe9c903dd0c82d4856",
            "tooltip": ""
          }
        },
        "b171f70254664c80b4435bea5188ca01": {
          "model_module": "@jupyter-widgets/base",
          "model_name": "LayoutModel",
          "model_module_version": "1.2.0",
          "state": {
            "_model_module": "@jupyter-widgets/base",
            "_model_module_version": "1.2.0",
            "_model_name": "LayoutModel",
            "_view_count": null,
            "_view_module": "@jupyter-widgets/base",
            "_view_module_version": "1.2.0",
            "_view_name": "LayoutView",
            "align_content": null,
            "align_items": null,
            "align_self": null,
            "border": null,
            "bottom": null,
            "display": "none",
            "flex": null,
            "flex_flow": null,
            "grid_area": null,
            "grid_auto_columns": null,
            "grid_auto_flow": null,
            "grid_auto_rows": null,
            "grid_column": null,
            "grid_gap": null,
            "grid_row": null,
            "grid_template_areas": null,
            "grid_template_columns": null,
            "grid_template_rows": null,
            "height": null,
            "justify_content": null,
            "justify_items": null,
            "left": null,
            "margin": null,
            "max_height": null,
            "max_width": null,
            "min_height": null,
            "min_width": null,
            "object_fit": null,
            "object_position": null,
            "order": null,
            "overflow": null,
            "overflow_x": null,
            "overflow_y": null,
            "padding": null,
            "right": null,
            "top": null,
            "visibility": null,
            "width": null
          }
        },
        "3f8a7c5fe0b9440cbd19b5fba2e64cc3": {
          "model_module": "@jupyter-widgets/base",
          "model_name": "LayoutModel",
          "model_module_version": "1.2.0",
          "state": {
            "_model_module": "@jupyter-widgets/base",
            "_model_module_version": "1.2.0",
            "_model_name": "LayoutModel",
            "_view_count": null,
            "_view_module": "@jupyter-widgets/base",
            "_view_module_version": "1.2.0",
            "_view_name": "LayoutView",
            "align_content": null,
            "align_items": null,
            "align_self": null,
            "border": null,
            "bottom": null,
            "display": "none",
            "flex": null,
            "flex_flow": null,
            "grid_area": null,
            "grid_auto_columns": null,
            "grid_auto_flow": null,
            "grid_auto_rows": null,
            "grid_column": null,
            "grid_gap": null,
            "grid_row": null,
            "grid_template_areas": null,
            "grid_template_columns": null,
            "grid_template_rows": null,
            "height": null,
            "justify_content": null,
            "justify_items": null,
            "left": null,
            "margin": null,
            "max_height": null,
            "max_width": null,
            "min_height": null,
            "min_width": null,
            "object_fit": null,
            "object_position": null,
            "order": null,
            "overflow": null,
            "overflow_x": null,
            "overflow_y": null,
            "padding": null,
            "right": null,
            "top": null,
            "visibility": null,
            "width": null
          }
        },
        "60c627192a274ecfa6a126a31a57dd4e": {
          "model_module": "@jupyter-widgets/controls",
          "model_name": "DescriptionStyleModel",
          "model_module_version": "1.5.0",
          "state": {
            "_model_module": "@jupyter-widgets/controls",
            "_model_module_version": "1.5.0",
            "_model_name": "DescriptionStyleModel",
            "_view_count": null,
            "_view_module": "@jupyter-widgets/base",
            "_view_module_version": "1.2.0",
            "_view_name": "StyleView",
            "description_width": ""
          }
        },
        "f0869301006845c69248463a2c9d751d": {
          "model_module": "@jupyter-widgets/base",
          "model_name": "LayoutModel",
          "model_module_version": "1.2.0",
          "state": {
            "_model_module": "@jupyter-widgets/base",
            "_model_module_version": "1.2.0",
            "_model_name": "LayoutModel",
            "_view_count": null,
            "_view_module": "@jupyter-widgets/base",
            "_view_module_version": "1.2.0",
            "_view_name": "LayoutView",
            "align_content": null,
            "align_items": null,
            "align_self": null,
            "border": null,
            "bottom": null,
            "display": null,
            "flex": null,
            "flex_flow": null,
            "grid_area": null,
            "grid_auto_columns": null,
            "grid_auto_flow": null,
            "grid_auto_rows": null,
            "grid_column": null,
            "grid_gap": null,
            "grid_row": null,
            "grid_template_areas": null,
            "grid_template_columns": null,
            "grid_template_rows": null,
            "height": "auto",
            "justify_content": null,
            "justify_items": null,
            "left": null,
            "margin": null,
            "max_height": null,
            "max_width": null,
            "min_height": null,
            "min_width": null,
            "object_fit": null,
            "object_position": null,
            "order": null,
            "overflow": null,
            "overflow_x": null,
            "overflow_y": null,
            "padding": "0.5em",
            "right": null,
            "top": null,
            "visibility": null,
            "width": "auto"
          }
        },
        "ddae92cfe25a43e1ae96f2c831752a47": {
          "model_module": "@jupyter-widgets/controls",
          "model_name": "ButtonStyleModel",
          "model_module_version": "1.5.0",
          "state": {
            "_model_module": "@jupyter-widgets/controls",
            "_model_module_version": "1.5.0",
            "_model_name": "ButtonStyleModel",
            "_view_count": null,
            "_view_module": "@jupyter-widgets/base",
            "_view_module_version": "1.2.0",
            "_view_name": "StyleView",
            "button_color": "#aaffaa",
            "font_weight": ""
          }
        },
        "4a912828d4054b1d8aba98195a6f3387": {
          "model_module": "@jupyter-widgets/base",
          "model_name": "LayoutModel",
          "model_module_version": "1.2.0",
          "state": {
            "_model_module": "@jupyter-widgets/base",
            "_model_module_version": "1.2.0",
            "_model_name": "LayoutModel",
            "_view_count": null,
            "_view_module": "@jupyter-widgets/base",
            "_view_module_version": "1.2.0",
            "_view_name": "LayoutView",
            "align_content": null,
            "align_items": null,
            "align_self": null,
            "border": null,
            "bottom": null,
            "display": null,
            "flex": null,
            "flex_flow": null,
            "grid_area": null,
            "grid_auto_columns": null,
            "grid_auto_flow": null,
            "grid_auto_rows": null,
            "grid_column": null,
            "grid_gap": null,
            "grid_row": null,
            "grid_template_areas": null,
            "grid_template_columns": null,
            "grid_template_rows": null,
            "height": "auto",
            "justify_content": null,
            "justify_items": null,
            "left": null,
            "margin": null,
            "max_height": null,
            "max_width": null,
            "min_height": null,
            "min_width": null,
            "object_fit": null,
            "object_position": null,
            "order": null,
            "overflow": null,
            "overflow_x": null,
            "overflow_y": null,
            "padding": "0.5em",
            "right": null,
            "top": null,
            "visibility": null,
            "width": "auto"
          }
        },
        "a6a95824029e4ff1b73f84ff5725be55": {
          "model_module": "@jupyter-widgets/controls",
          "model_name": "ButtonStyleModel",
          "model_module_version": "1.5.0",
          "state": {
            "_model_module": "@jupyter-widgets/controls",
            "_model_module_version": "1.5.0",
            "_model_name": "ButtonStyleModel",
            "_view_count": null,
            "_view_module": "@jupyter-widgets/base",
            "_view_module_version": "1.2.0",
            "_view_name": "StyleView",
            "button_color": "#dddd77",
            "font_weight": ""
          }
        },
        "9f6f35047b384e21ab43974cf03349aa": {
          "model_module": "@jupyter-widgets/base",
          "model_name": "LayoutModel",
          "model_module_version": "1.2.0",
          "state": {
            "_model_module": "@jupyter-widgets/base",
            "_model_module_version": "1.2.0",
            "_model_name": "LayoutModel",
            "_view_count": null,
            "_view_module": "@jupyter-widgets/base",
            "_view_module_version": "1.2.0",
            "_view_name": "LayoutView",
            "align_content": null,
            "align_items": null,
            "align_self": null,
            "border": null,
            "bottom": null,
            "display": null,
            "flex": null,
            "flex_flow": null,
            "grid_area": null,
            "grid_auto_columns": null,
            "grid_auto_flow": null,
            "grid_auto_rows": null,
            "grid_column": null,
            "grid_gap": null,
            "grid_row": null,
            "grid_template_areas": null,
            "grid_template_columns": null,
            "grid_template_rows": null,
            "height": "auto",
            "justify_content": null,
            "justify_items": null,
            "left": null,
            "margin": null,
            "max_height": null,
            "max_width": null,
            "min_height": null,
            "min_width": null,
            "object_fit": null,
            "object_position": null,
            "order": null,
            "overflow": null,
            "overflow_x": null,
            "overflow_y": null,
            "padding": "0.5em",
            "right": null,
            "top": null,
            "visibility": null,
            "width": "auto"
          }
        },
        "4c2a8ed1c8bb4e1ba2aef7ba44462eae": {
          "model_module": "@jupyter-widgets/controls",
          "model_name": "ButtonStyleModel",
          "model_module_version": "1.5.0",
          "state": {
            "_model_module": "@jupyter-widgets/controls",
            "_model_module_version": "1.5.0",
            "_model_name": "ButtonStyleModel",
            "_view_count": null,
            "_view_module": "@jupyter-widgets/base",
            "_view_module_version": "1.2.0",
            "_view_name": "StyleView",
            "button_color": "#ffaaaa",
            "font_weight": ""
          }
        },
        "a2549279826f40fdbfd9af30de54705c": {
          "model_module": "@jupyter-widgets/base",
          "model_name": "LayoutModel",
          "model_module_version": "1.2.0",
          "state": {
            "_model_module": "@jupyter-widgets/base",
            "_model_module_version": "1.2.0",
            "_model_name": "LayoutModel",
            "_view_count": null,
            "_view_module": "@jupyter-widgets/base",
            "_view_module_version": "1.2.0",
            "_view_name": "LayoutView",
            "align_content": null,
            "align_items": null,
            "align_self": null,
            "border": null,
            "bottom": null,
            "display": null,
            "flex": null,
            "flex_flow": null,
            "grid_area": null,
            "grid_auto_columns": null,
            "grid_auto_flow": null,
            "grid_auto_rows": null,
            "grid_column": null,
            "grid_gap": null,
            "grid_row": null,
            "grid_template_areas": null,
            "grid_template_columns": null,
            "grid_template_rows": null,
            "height": "auto",
            "justify_content": null,
            "justify_items": null,
            "left": null,
            "margin": null,
            "max_height": null,
            "max_width": null,
            "min_height": null,
            "min_width": null,
            "object_fit": null,
            "object_position": null,
            "order": null,
            "overflow": null,
            "overflow_x": null,
            "overflow_y": null,
            "padding": null,
            "right": null,
            "top": null,
            "visibility": null,
            "width": "auto"
          }
        },
        "df03da9863174f1d8d622c2c53c7d747": {
          "model_module": "@jupyter-widgets/controls",
          "model_name": "DescriptionStyleModel",
          "model_module_version": "1.5.0",
          "state": {
            "_model_module": "@jupyter-widgets/controls",
            "_model_module_version": "1.5.0",
            "_model_name": "DescriptionStyleModel",
            "_view_count": null,
            "_view_module": "@jupyter-widgets/base",
            "_view_module_version": "1.2.0",
            "_view_name": "StyleView",
            "description_width": ""
          }
        },
        "3e2d127e89b44342a64e3a6bada987aa": {
          "model_module": "@jupyter-widgets/base",
          "model_name": "LayoutModel",
          "model_module_version": "1.2.0",
          "state": {
            "_model_module": "@jupyter-widgets/base",
            "_model_module_version": "1.2.0",
            "_model_name": "LayoutModel",
            "_view_count": null,
            "_view_module": "@jupyter-widgets/base",
            "_view_module_version": "1.2.0",
            "_view_name": "LayoutView",
            "align_content": null,
            "align_items": null,
            "align_self": null,
            "border": null,
            "bottom": null,
            "display": null,
            "flex": null,
            "flex_flow": null,
            "grid_area": null,
            "grid_auto_columns": null,
            "grid_auto_flow": null,
            "grid_auto_rows": null,
            "grid_column": null,
            "grid_gap": null,
            "grid_row": null,
            "grid_template_areas": null,
            "grid_template_columns": null,
            "grid_template_rows": null,
            "height": "auto",
            "justify_content": null,
            "justify_items": null,
            "left": null,
            "margin": null,
            "max_height": null,
            "max_width": null,
            "min_height": null,
            "min_width": null,
            "object_fit": null,
            "object_position": null,
            "order": null,
            "overflow": null,
            "overflow_x": null,
            "overflow_y": null,
            "padding": null,
            "right": null,
            "top": null,
            "visibility": null,
            "width": "auto"
          }
        },
        "e3b8df566b244ffe9c903dd0c82d4856": {
          "model_module": "@jupyter-widgets/controls",
          "model_name": "ButtonStyleModel",
          "model_module_version": "1.5.0",
          "state": {
            "_model_module": "@jupyter-widgets/controls",
            "_model_module_version": "1.5.0",
            "_model_name": "ButtonStyleModel",
            "_view_count": null,
            "_view_module": "@jupyter-widgets/base",
            "_view_module_version": "1.2.0",
            "_view_name": "StyleView",
            "button_color": null,
            "font_weight": ""
          }
        }
      }
    }
  },
  "nbformat": 4,
  "nbformat_minor": 0
}