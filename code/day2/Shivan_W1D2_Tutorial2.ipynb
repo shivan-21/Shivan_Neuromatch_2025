{
  "cells": [
    {
      "cell_type": "markdown",
      "metadata": {
        "execution": {},
        "id": "e6cZ0LfEi7Vg"
      },
      "source": [
        "# Tutorial 2: Linear regression with MLE\n",
        "\n",
        "**Week 1, Day 2: Model Fitting**\n",
        "\n",
        "**By Neuromatch Academy**\n",
        "\n",
        "**Content creators**: Pierre-Étienne Fiquet, Anqi Wu, Alex Hyafil  with help from Byron Galbraith\n",
        "\n",
        "**Content reviewers**: Lina Teichmann, Madineh Sarvestani, Patrick Mineault, Ella Batty, Michael Waskomlis\n",
        "\n",
        "**Production editors:** Spiros Chavlis"
      ]
    },
    {
      "cell_type": "markdown",
      "metadata": {
        "execution": {},
        "id": "sGRpKLsdi7Vh"
      },
      "source": [
        "---\n",
        "# Tutorial Objectives\n",
        "\n",
        "*Estimated timing of tutorial: 30 minutes*\n",
        "\n",
        "This is Tutorial 2 of a series on fitting models to data. We start with simple linear regression, using least squares optimization (Tutorial 1) and Maximum Likelihood Estimation (Tutorial 2). We will use bootstrapping to build confidence intervals around the inferred linear model parameters (Tutorial 3). We'll finish our exploration of regression models by generalizing to multiple linear regression and polynomial regression (Tutorial 4). We end by learning how to choose between these various models. We discuss the bias-variance trade-off (Tutorial 5) and Cross Validation for model selection (Tutorial 6).\n",
        "\n",
        "In this tutorial, we will use a different approach to fit linear models that incorporates the random 'noise' in our data.\n",
        "- Learn about probability distributions and probabilistic models\n",
        "- Learn how to calculate the likelihood of our model parameters\n",
        "- Learn how to implement the maximum likelihood estimator, to find the model parameter with the maximum likelihood\n",
        "\n"
      ]
    },
    {
      "cell_type": "code",
      "execution_count": null,
      "metadata": {
        "cellView": "form",
        "execution": {},
        "id": "UC5JYlkhi7Vi",
        "colab": {
          "base_uri": "https://localhost:8080/",
          "height": 518
        },
        "outputId": "947d88d3-12f1-4acb-bdb2-b3e6eb3bf2f8"
      },
      "outputs": [
        {
          "output_type": "stream",
          "name": "stdout",
          "text": [
            "If you want to download the slides: https://osf.io/download/2mkq4/\n"
          ]
        },
        {
          "output_type": "execute_result",
          "data": {
            "text/plain": [
              "<IPython.lib.display.IFrame at 0x7b0e56b2c350>"
            ],
            "text/html": [
              "\n",
              "        <iframe\n",
              "            width=\"854\"\n",
              "            height=\"480\"\n",
              "            src=\"https://mfr.ca-1.osf.io/render?url=https://osf.io/2mkq4/?direct%26mode=render%26action=download%26mode=render\"\n",
              "            frameborder=\"0\"\n",
              "            allowfullscreen\n",
              "            \n",
              "        ></iframe>\n",
              "        "
            ]
          },
          "metadata": {},
          "execution_count": 1
        }
      ],
      "source": [
        "# @title Tutorial slides\n",
        "# @markdown These are the slides for the videos in all tutorials today\n",
        "from IPython.display import IFrame\n",
        "link_id = \"2mkq4\"\n",
        "print(f\"If you want to download the slides: https://osf.io/download/{link_id}/\")\n",
        "IFrame(src=f\"https://mfr.ca-1.osf.io/render?url=https://osf.io/{link_id}/?direct%26mode=render%26action=download%26mode=render\", width=854, height=480)"
      ]
    },
    {
      "cell_type": "markdown",
      "metadata": {
        "execution": {},
        "id": "vKc5P81bi7Vj"
      },
      "source": [
        "---\n",
        "# Setup"
      ]
    },
    {
      "cell_type": "code",
      "execution_count": null,
      "metadata": {
        "cellView": "form",
        "execution": {},
        "id": "w5lAP3Pci7Vj",
        "colab": {
          "base_uri": "https://localhost:8080/"
        },
        "outputId": "d80547ff-f9e3-44f9-eb46-4cb5fe945012"
      },
      "outputs": [
        {
          "output_type": "stream",
          "name": "stdout",
          "text": [
            "  Preparing metadata (setup.py) ... \u001b[?25l\u001b[?25hdone\n",
            "  Preparing metadata (setup.py) ... \u001b[?25l\u001b[?25hdone\n",
            "\u001b[2K   \u001b[90m━━━━━━━━━━━━━━━━━━━━━━━━━━━━━━━━━━━━━━━━\u001b[0m \u001b[32m1.6/1.6 MB\u001b[0m \u001b[31m12.7 MB/s\u001b[0m eta \u001b[36m0:00:00\u001b[0m\n",
            "\u001b[?25h  Building wheel for vibecheck (setup.py) ... \u001b[?25l\u001b[?25hdone\n",
            "  Building wheel for datatops (setup.py) ... \u001b[?25l\u001b[?25hdone\n"
          ]
        }
      ],
      "source": [
        "# @title Install and import feedback gadget\n",
        "\n",
        "!pip3 install vibecheck datatops --quiet\n",
        "\n",
        "from vibecheck import DatatopsContentReviewContainer\n",
        "def content_review(notebook_section: str):\n",
        "    return DatatopsContentReviewContainer(\n",
        "        \"\",  # No text prompt\n",
        "        notebook_section,\n",
        "        {\n",
        "            \"url\": \"https://pmyvdlilci.execute-api.us-east-1.amazonaws.com/klab\",\n",
        "            \"name\": \"neuromatch_cn\",\n",
        "            \"user_key\": \"y1x3mpx5\",\n",
        "        },\n",
        "    ).render()\n",
        "\n",
        "\n",
        "feedback_prefix = \"W1D2_T2\""
      ]
    },
    {
      "cell_type": "code",
      "execution_count": null,
      "metadata": {
        "execution": {},
        "id": "wlF0OHJqi7Vj"
      },
      "outputs": [],
      "source": [
        "import numpy as np\n",
        "import matplotlib.pyplot as plt\n",
        "from scipy import stats"
      ]
    },
    {
      "cell_type": "code",
      "execution_count": null,
      "metadata": {
        "cellView": "form",
        "execution": {},
        "id": "H4zohiAMi7Vj"
      },
      "outputs": [],
      "source": [
        "# @title Figure Settings\n",
        "import logging\n",
        "logging.getLogger('matplotlib.font_manager').disabled = True\n",
        "\n",
        "import ipywidgets as widgets  # interactive display\n",
        "%config InlineBackend.figure_format = 'retina'\n",
        "plt.style.use(\"https://raw.githubusercontent.com/NeuromatchAcademy/course-content/main/nma.mplstyle\")"
      ]
    },
    {
      "cell_type": "code",
      "execution_count": null,
      "metadata": {
        "cellView": "form",
        "execution": {},
        "id": "I2nBjMFti7Vj"
      },
      "outputs": [],
      "source": [
        "# @title Plotting Functions\n",
        "def plot_density_image(x, y, theta, sigma=1, ax=None):\n",
        "  \"\"\" Plots probability distribution of y given x, theta, and sigma\n",
        "\n",
        "  Args:\n",
        "\n",
        "    x (ndarray): An array of shape (samples,) that contains the input values.\n",
        "    y (ndarray): An array of shape (samples,) that contains the corresponding\n",
        "      measurement values to the inputs.\n",
        "    theta (float): Slope parameter\n",
        "    sigma (float): standard deviation of Gaussian noise\n",
        "\n",
        "  \"\"\"\n",
        "\n",
        "  # plot the probability density of p(y|x,theta)\n",
        "  if ax is None:\n",
        "    fig, ax = plt.subplots()\n",
        "\n",
        "  xmin, xmax = np.floor(np.min(x)), np.ceil(np.max(x))\n",
        "  ymin, ymax = np.floor(np.min(y)), np.ceil(np.max(y))\n",
        "  xx = np.linspace(xmin, xmax, 50)\n",
        "  yy = np.linspace(ymin, ymax, 50)\n",
        "\n",
        "  surface = np.zeros((len(yy), len(xx)))\n",
        "  for i, x_i in enumerate(xx):\n",
        "    surface[:, i] = stats.norm(theta * x_i, sigma).pdf(yy)\n",
        "\n",
        "  ax.set(xlabel='x', ylabel='y')\n",
        "\n",
        "  return ax.imshow(surface, origin='lower', aspect='auto', vmin=0, vmax=None,\n",
        "            cmap=plt.get_cmap('Wistia'),\n",
        "            extent=[xmin, xmax, ymin, ymax])"
      ]
    },
    {
      "cell_type": "markdown",
      "metadata": {
        "execution": {},
        "id": "59gFml2ti7Vk"
      },
      "source": [
        "---\n",
        "# Section 1: Maximum Likelihood Estimation (MLE)\n"
      ]
    },
    {
      "cell_type": "code",
      "execution_count": null,
      "metadata": {
        "cellView": "form",
        "execution": {},
        "id": "FKyloQjPi7Vk",
        "colab": {
          "base_uri": "https://localhost:8080/",
          "height": 580,
          "referenced_widgets": [
            "d7745fb38d6348c194027726f37a5f91",
            "e2a724f0405a45a7a031620ce98c9606",
            "8d6c41a691d64bf09548965c2ee6b712",
            "ed1c6f84d9bf4138a13c91358b802963",
            "b6ae9d21033c4ec9a0b2e0df244b462e",
            "989a91614a79492f96c47f323b1d467f"
          ]
        },
        "outputId": "f1c0834f-cb2f-4037-c822-6973b9463095"
      },
      "outputs": [
        {
          "output_type": "display_data",
          "data": {
            "text/plain": [
              "Tab(children=(Output(), Output()), _titles={'0': 'Youtube', '1': 'Bilibili'})"
            ],
            "application/vnd.jupyter.widget-view+json": {
              "version_major": 2,
              "version_minor": 0,
              "model_id": "d7745fb38d6348c194027726f37a5f91"
            }
          },
          "metadata": {}
        }
      ],
      "source": [
        "# @title Video 1: Maximum Likelihood Estimation\n",
        "from ipywidgets import widgets\n",
        "from IPython.display import YouTubeVideo\n",
        "from IPython.display import IFrame\n",
        "from IPython.display import display\n",
        "\n",
        "\n",
        "class PlayVideo(IFrame):\n",
        "  def __init__(self, id, source, page=1, width=400, height=300, **kwargs):\n",
        "    self.id = id\n",
        "    if source == 'Bilibili':\n",
        "      src = f'https://player.bilibili.com/player.html?bvid={id}&page={page}'\n",
        "    elif source == 'Osf':\n",
        "      src = f'https://mfr.ca-1.osf.io/render?url=https://osf.io/download/{id}/?direct%26mode=render'\n",
        "    super(PlayVideo, self).__init__(src, width, height, **kwargs)\n",
        "\n",
        "\n",
        "def display_videos(video_ids, W=400, H=300, fs=1):\n",
        "  tab_contents = []\n",
        "  for i, video_id in enumerate(video_ids):\n",
        "    out = widgets.Output()\n",
        "    with out:\n",
        "      if video_ids[i][0] == 'Youtube':\n",
        "        video = YouTubeVideo(id=video_ids[i][1], width=W,\n",
        "                             height=H, fs=fs, rel=0)\n",
        "        print(f'Video available at https://youtube.com/watch?v={video.id}')\n",
        "      else:\n",
        "        video = PlayVideo(id=video_ids[i][1], source=video_ids[i][0], width=W,\n",
        "                          height=H, fs=fs, autoplay=False)\n",
        "        if video_ids[i][0] == 'Bilibili':\n",
        "          print(f'Video available at https://www.bilibili.com/video/{video.id}')\n",
        "        elif video_ids[i][0] == 'Osf':\n",
        "          print(f'Video available at https://osf.io/{video.id}')\n",
        "      display(video)\n",
        "    tab_contents.append(out)\n",
        "  return tab_contents\n",
        "\n",
        "\n",
        "video_ids = [('Youtube', '8mpNmzLKNfU'), ('Bilibili', 'BV1Mg4y1i7WH')]\n",
        "tab_contents = display_videos(video_ids, W=854, H=480)\n",
        "tabs = widgets.Tab()\n",
        "tabs.children = tab_contents\n",
        "for i in range(len(tab_contents)):\n",
        "  tabs.set_title(i, video_ids[i][0])\n",
        "display(tabs)"
      ]
    },
    {
      "cell_type": "code",
      "execution_count": null,
      "metadata": {
        "cellView": "form",
        "execution": {},
        "id": "69ipn7GJi7Vk",
        "colab": {
          "base_uri": "https://localhost:8080/",
          "height": 62,
          "referenced_widgets": [
            "ef1ce1ab5ab14de39e7bdba06bb33468",
            "b558f7db48bc48bbbdb65758fa511217",
            "df80ae864c1b49df8a9cd44b76b48a47",
            "a81d10cd6db145718bc9fa0c1e486809",
            "59e80cfa70884ff1aa89998a82df58ac",
            "40684b2b34c347fcae85aaa9703fdf3a",
            "98c1806d91264cfb9f04d50ec3637c23",
            "6e2f6a0396e1452a97603ca80674cafd",
            "8896e16b62454e1bae17e598e1c51d00",
            "4240edb870b14e8e8d1c1e13763e1462",
            "4ff6082f2ad94283aedd9da215105b34",
            "af367eef1974467da3922127632e138e",
            "d0e818d57b6f48e9840e386b4440cab4",
            "78c61f09126d4ea094550ad7f18f28ad",
            "3c3f130ffcdd49a5a0cd3878d701c384",
            "5ba85ac4f91940c6863da7e2a044fe26",
            "d15e7d8244c94253af54743a966e6745",
            "61d5006a53d5477cadbe46d900ead0bc",
            "313300fdcdb444fa84dee38223c3caac",
            "ce1d580f1bd445bbaca9225daf91adc8",
            "9f3f4db9ce234ecd9d913da9f1f693f6",
            "32576e7d6f784629b715fab82ea4a816",
            "b551aade9b794a2db2b8a8ccea031244",
            "eb2dfa7ca5f842a383b05f48d0477c99",
            "0bb1f2726cf94bfdac5ee5bd1f5fe660",
            "b90d43712e0a4ac29842d8543afc0bf6"
          ]
        },
        "outputId": "fd5fa4e6-4fc1-42d3-ea49-1245cb2725b6"
      },
      "outputs": [
        {
          "output_type": "display_data",
          "data": {
            "text/plain": [
              "VBox(children=(VBox(children=(HBox(children=(Button(description='🙂', layout=Layout(height='auto', padding='0.5…"
            ],
            "application/vnd.jupyter.widget-view+json": {
              "version_major": 2,
              "version_minor": 0,
              "model_id": "ef1ce1ab5ab14de39e7bdba06bb33468"
            }
          },
          "metadata": {}
        }
      ],
      "source": [
        "# @title Submit your feedback\n",
        "content_review(f\"{feedback_prefix}_Maximum_Likelihood_Estimation_Video\")"
      ]
    },
    {
      "cell_type": "markdown",
      "metadata": {
        "execution": {},
        "id": "rOoAZ4fQi7Vl"
      },
      "source": [
        "This video covers Maximum Likelihood Estimation (MLE) in the context of a 1D linear regression.\n"
      ]
    },
    {
      "cell_type": "markdown",
      "metadata": {
        "execution": {},
        "id": "9tBafV8Hi7Vl"
      },
      "source": [
        "## Section 1.1: Gaussian noise"
      ]
    },
    {
      "cell_type": "markdown",
      "metadata": {
        "execution": {},
        "id": "OEMWHjZPi7Vl"
      },
      "source": [
        "\n",
        "<details>\n",
        "<summary> <font color='blue'>Click here for text recap of relevant part of video </font></summary>\n",
        "\n",
        "In the previous tutorial we made the assumption that the data was drawn from a linear relationship with noise added, and found an effective approach for estimating model parameters based on minimizing the mean squared error.\n",
        "\n",
        "In that case we treated the noise as simply a nuisance, but what if we factored it directly into our model?\n",
        "\n",
        "Recall our linear model:\n",
        "\n",
        "\\begin{align}\n",
        "y = \\theta x + \\epsilon.\n",
        "\\end{align}\n",
        "\n",
        "The noise component $\\epsilon$ is often modeled as a random variable drawn from a Gaussian distribution (also called the normal distribution).\n",
        "\n",
        "The Gaussian distribution is described by its [probability density function](https://en.wikipedia.org/wiki/Probability_density_function) (pdf)\n",
        "\\begin{align}\n",
        "\\mathcal{N}(x; \\mu, \\sigma^2) = \\frac{1}{\\sqrt{2\\pi\\sigma^2}}e^{-\\frac{1}{2\\sigma^2}(x-\\mu)^2}\n",
        "\\end{align}\n",
        "\n",
        "and is dependent on two parameters: the mean $\\mu$ and the variance $\\sigma^2$. We often consider the noise signal to be Gaussian \"white noise\", with zero mean and unit variance:\n",
        "\n",
        "\\begin{align}\n",
        "\\epsilon \\sim \\mathcal{N}(0, 1).\n",
        "\\end{align}\n",
        "\n"
      ]
    },
    {
      "cell_type": "markdown",
      "metadata": {
        "execution": {},
        "id": "TTpm4HT1i7Vl"
      },
      "source": [
        "### Interactive Demo 1.1: Gaussian Distribution Explorer\n",
        "\n",
        "Use the explorer widget below to see how varying the $\\mu$ and $\\sigma$ parameters change the location and shape of the samples.\n",
        "\n",
        "\n",
        "1.   What effect does varying $\\mu$ have on the pdf?\n",
        "2.   What effect does varying $\\sigma$ have on the pdf?\n",
        "\n"
      ]
    },
    {
      "cell_type": "code",
      "execution_count": null,
      "metadata": {
        "cellView": "form",
        "execution": {},
        "id": "0_AALMn7i7Vl",
        "colab": {
          "base_uri": "https://localhost:8080/",
          "height": 656,
          "referenced_widgets": [
            "290543935c0341aabbca52c173b2dca8",
            "974a839c9e214bad898871da671fee7b",
            "9a922791649e46ada2e07b97c1d7d327",
            "acec0bb43d6544e98f73e02dd54fb530",
            "e2676f3317d247e4bac170155a693310",
            "b21fe1dccab7458d897462f10617c013",
            "d47a7cda9f094536bc4618783ce137d6",
            "fa4c1f527a904f0badeb3da01efbf07e",
            "04274e3d8ed3450bb843d3200fd548e3",
            "ded883f70f9143faa705559a5f5e1ecc"
          ]
        },
        "outputId": "04e2f2dc-fcdd-4536-ba4d-1105d332e781"
      },
      "outputs": [
        {
          "output_type": "display_data",
          "data": {
            "text/plain": [
              "interactive(children=(FloatSlider(value=0.0, description='mu', max=2.0, min=-2.0), FloatSlider(value=1.0, desc…"
            ],
            "application/vnd.jupyter.widget-view+json": {
              "version_major": 2,
              "version_minor": 0,
              "model_id": "290543935c0341aabbca52c173b2dca8"
            }
          },
          "metadata": {}
        }
      ],
      "source": [
        "# @markdown Make sure you execute this cell to enable the widget!\n",
        "\n",
        "@widgets.interact(mu=widgets.FloatSlider(0.0, min=-2.0, max=2.0),\n",
        "                  sigma=widgets.FloatSlider(1.0, min=0.5, max=2.0))\n",
        "def plot_normal_dist(mu=0, sigma=1):\n",
        "\n",
        "  # Generate pdf & samples from normal distribution with mu/sigma\n",
        "  rv = stats.norm(mu, sigma)\n",
        "  x = np.linspace(-5, 5, 100)\n",
        "  y = rv.pdf(x)\n",
        "  samples = rv.rvs(1000)\n",
        "\n",
        "  # Plot\n",
        "  fig, ax = plt.subplots()\n",
        "  ax.hist(samples, 20, density=True, color='g', histtype='stepfilled',\n",
        "          alpha=0.8, label='histogram')\n",
        "  ax.plot(x, y, color='orange', linewidth=3, label='pdf')\n",
        "  ax.vlines(mu, 0, rv.pdf(mu), color='y', linewidth=3, label='$\\mu$')\n",
        "  ax.vlines([mu-sigma, mu+sigma], 0, rv.pdf([mu-sigma, mu+sigma]), colors='red',\n",
        "            color='b', linewidth=3, label='$\\sigma$')\n",
        "  ax.set(xlabel='x', ylabel='probability density', xlim=[-5, 5], ylim=[0, 1.0])\n",
        "  ax.legend()\n",
        "  plt.show()"
      ]
    },
    {
      "cell_type": "markdown",
      "metadata": {
        "execution": {},
        "id": "tdzt16k4i7Vm"
      },
      "source": [
        "[*Click for solution*](https://github.com/NeuromatchAcademy/course-content/tree/main/tutorials/W1D2_ModelFitting/solutions/W1D2_Tutorial2_Solution_5f94b40f.py)\n",
        "\n"
      ]
    },
    {
      "cell_type": "code",
      "execution_count": null,
      "metadata": {
        "cellView": "form",
        "execution": {},
        "id": "DwZDGNwYi7Vm",
        "colab": {
          "base_uri": "https://localhost:8080/",
          "height": 62,
          "referenced_widgets": [
            "8d28e23fee304040b41a668e686017da",
            "28b1135e371e4195bc8aa8c4fd9f5d90",
            "9a48f93c99364285bc09daf51be74bcf",
            "3cabe27a1c704b64bc2fc8a22b5cf140",
            "5d88eba7401f4077b2265afa289f6897",
            "fbf484c1bb0b44d49449f6f833e7c959",
            "1cbdf6d07f7e4953b07e8d062626121d",
            "8d342f571ef6495086b5a7b8c4a679fd",
            "213d38a449ea409fbd2c5939a6694417",
            "37396a327f8842db8cdc9f8d8832c4f2",
            "bec45c590002449faa530284d0dd2252",
            "3eacbe2bac6e4571ba4fb6d1f04154b1",
            "754d68570f6945ebae3db80a0cc754a9",
            "f32471fa40c240c5875fa65674a584ae",
            "8146b6a086804933947c18d18c621823",
            "81b5e4a23fe14260becdcac5f2e93f99",
            "fd3f337d1613432cbead99fa1e637564",
            "8d44b0d09a5946928358c7ecae7c9c78",
            "df6fde9a88644b9391a42e33c5ce7876",
            "b8f9c8937ab94c25854fb40a8b8d6a0d",
            "dd024f9e702e4d38ab2f5e3412f2328f",
            "2e7b18c6ae054c7f8a27a0c931153c16",
            "a5eba15eb8d14ef8b5a482118ef7d110",
            "96cb38bf862b462fa6f605dd33e8f921",
            "d120c6ac740d44bd843b702593e5984d",
            "e4ae2febedc84fb19c9f8d30114bb44d"
          ]
        },
        "outputId": "0f728f4a-f60c-4484-e70d-5e05a0302b3f"
      },
      "outputs": [
        {
          "output_type": "display_data",
          "data": {
            "text/plain": [
              "VBox(children=(VBox(children=(HBox(children=(Button(description='🙂', layout=Layout(height='auto', padding='0.5…"
            ],
            "application/vnd.jupyter.widget-view+json": {
              "version_major": 2,
              "version_minor": 0,
              "model_id": "8d28e23fee304040b41a668e686017da"
            }
          },
          "metadata": {}
        }
      ],
      "source": [
        "# @title Submit your feedback\n",
        "content_review(f\"{feedback_prefix}_Gaussian_Distribution_Explorer_Interactive_Demo_and_Discussion\")"
      ]
    },
    {
      "cell_type": "markdown",
      "metadata": {
        "execution": {},
        "id": "Zz_4HLhEi7Vm"
      },
      "source": [
        "## Section 1.2: Probabilistic Models\n",
        "\n",
        "*Estimated timing to here from start of tutorial: 11 min*\n",
        "\n",
        "Now that we have a model of our noise component $\\epsilon$ as random variable, how do we incorporate this back into our original linear model from before? Consider again our simplified model $y = \\theta x + \\epsilon$ where the noise has zero mean and unit variance $\\epsilon \\sim \\mathcal{N}(0, 1)$. We can now also treat $y$ as a random variable drawn from a Gaussian distribution where $\\mu = \\theta x$ and $\\sigma^2 = 1$:\n",
        "\n",
        "\\begin{equation}\n",
        "y \\sim \\mathcal{N}(\\theta x, 1)\n",
        "\\end{equation}\n",
        "\n",
        "which is to say that the probability of observing $y$ given $x$ and parameter $\\theta$ is\n",
        "\n",
        "\\begin{equation}\n",
        "p(y|x,\\theta) = \\frac{1}{\\sqrt{2\\pi}}e^{-\\frac{1}{2}(y-\\theta x)^2}\n",
        "\\end{equation}\n",
        "\n",
        "\n",
        "Note that in this and the following sections, we will focus on a single data point (a single pairing of $x$ and $y$). We have dropped the subscript $i$ just for simplicity (that is, we use $x$ for a single data point, instead of $x_i$).\n",
        "\n",
        "Now, let's revisit our original sample dataset where the true underlying model has $\\theta = 1.2$."
      ]
    },
    {
      "cell_type": "code",
      "execution_count": null,
      "metadata": {
        "cellView": "form",
        "execution": {},
        "id": "TppcmOUri7Vq"
      },
      "outputs": [],
      "source": [
        "# @markdown Execute this cell to generate some simulated data\n",
        "\n",
        "# setting a fixed seed to our random number generator ensures we will always\n",
        "# get the same psuedorandom number sequence\n",
        "\n",
        "np.random.seed(121)\n",
        "theta = 1.2\n",
        "n_samples = 30\n",
        "x = 10 * np.random.rand(n_samples) # sample from a uniform distribution over [0,10)\n",
        "noise = np.random.randn(n_samples) # sample from a standard normal distribution\n",
        "y = theta * x + noise"
      ]
    },
    {
      "cell_type": "markdown",
      "metadata": {
        "execution": {},
        "id": "9zfM9PuZi7Vq"
      },
      "source": [
        "This time we can plot the density of $p(y|x,\\theta=1.2)$ and see how $p(y)$ changes for different values of $x$."
      ]
    },
    {
      "cell_type": "code",
      "execution_count": null,
      "metadata": {
        "cellView": "form",
        "execution": {},
        "id": "6mhGUAwOi7Vq",
        "colab": {
          "base_uri": "https://localhost:8080/",
          "height": 492
        },
        "outputId": "72d65955-a8c1-4bfc-cc8c-bebe647ff341"
      },
      "outputs": [
        {
          "output_type": "display_data",
          "data": {
            "text/plain": [
              "<Figure size 1000x500 with 3 Axes>"
            ],
            "image/png": "[encoded data removed]"
          },
          "metadata": {
            "image/png": {
              "width": 974,
              "height": 475
            }
          }
        }
      ],
      "source": [
        "# @markdown Execute this cell to visualize p(y|x, theta=1.2)\n",
        "\n",
        "fig, (ax1, ax2) = plt.subplots(ncols=2, figsize=(10, 5))\n",
        "\n",
        "# Invokes helper function to generate density image plots from data and parameters\n",
        "im = plot_density_image(x, y, 1.2, ax=ax1)\n",
        "plt.colorbar(im, ax=ax1)\n",
        "ax1.axvline(8, color='k')\n",
        "ax1.set(title=r'p(y | x, $\\theta$=1.2)')\n",
        "\n",
        "# Plot pdf for given x\n",
        "ylim = ax1.get_ylim()\n",
        "yy = np.linspace(ylim[0], ylim[1], 50)\n",
        "ax2.plot(yy, stats.norm(theta * 8, 1).pdf(yy), color='orange', linewidth=2)\n",
        "ax2.set(\n",
        "    title=r'p(y|x=8, $\\theta$=1.2)',\n",
        "    xlabel='y',\n",
        "    ylabel='probability density')\n",
        "plt.show()"
      ]
    },
    {
      "cell_type": "markdown",
      "metadata": {
        "execution": {},
        "id": "9nrD_ECii7Vr"
      },
      "source": [
        "## Section 1.3: Likelihood Estimation\n",
        "\n",
        "*Estimated timing to here from start of tutorial: 15 min*\n",
        "\n",
        "Now that we have our probabilistic model, we turn back to our original challenge of finding a good estimate for $\\theta$ that fits our data. Given the inherent uncertainty when dealing in probabilities, we talk about the [likelihood](https://en.wikipedia.org/wiki/Likelihood_function) that some estimate $\\hat{\\theta}$ fits our data. The likelihood function $\\mathcal{L}(\\theta)$ is equal to the probability density function parameterized by that $\\theta$:\n",
        "\n",
        "\\begin{equation}\n",
        "\\mathcal{L}(\\theta|x,y) = p(y|x,\\theta) = \\frac{1}{\\sqrt{2\\pi\\sigma^2}}e^{-\\frac{1}{2\\sigma^2}(y-\\theta x)^2}\n",
        "\\end{equation}"
      ]
    },
    {
      "cell_type": "markdown",
      "metadata": {
        "execution": {},
        "id": "6W5wn4yGi7Vr"
      },
      "source": [
        "### Coding Exercise 1.3: Likelihood Function\n",
        "\n",
        "In this exercise you will implement the likelihood function $\\mathcal{L}(\\theta|x, y)$ for our linear model where $\\sigma = 1$.\n",
        "\n",
        "After implementing this function, we can produce probabilities that our estimate $\\hat{\\theta}$ generated the provided observations. We will try with one of the samples from our dataset.\n",
        "\n",
        "TIP: Use `np.exp` and `np.sqrt` for the exponential and square root functions, respectively."
      ]
    },
    {
      "cell_type": "code",
      "execution_count": null,
      "metadata": {
        "execution": {},
        "id": "Rqh-d8yWi7Vr",
        "colab": {
          "base_uri": "https://localhost:8080/"
        },
        "outputId": "87c638bc-1661-41f4-eda7-bf6f73e384af"
      },
      "outputs": [
        {
          "output_type": "stream",
          "name": "stdout",
          "text": [
            "0.11344443599846923\n",
            "0.34918201435300555\n",
            "\n",
            "check for a bunch\n",
            "0.003403765655283199\n",
            "0.20254666324479081\n",
            "0.22201601000559518\n",
            "0.3545388290209912\n",
            "0.1861117236197807\n",
            "0.07088764231451382\n",
            "0.35413155509497096\n",
            "0.3703169542603044\n",
            "0.38883720251320075\n",
            "0.3966364849884319\n"
          ]
        }
      ],
      "source": [
        "def likelihood(theta_hat, x, y):\n",
        "  \"\"\"The likelihood function for a linear model with noise sampled from a\n",
        "    Gaussian distribution with zero mean and unit variance.\n",
        "\n",
        "  Args:\n",
        "    theta_hat (float): An estimate of the slope parameter.\n",
        "    x (ndarray): An array of shape (samples,) that contains the input values.\n",
        "    y (ndarray): An array of shape (samples,) that contains the corresponding\n",
        "      measurement values to the inputs.\n",
        "\n",
        "  Returns:\n",
        "    ndarray: the likelihood values for the theta_hat estimate\n",
        "  \"\"\"\n",
        "  sigma = 1\n",
        "  ##############################################################################\n",
        "  ## TODO for students: implement the likelihood function\n",
        "  # Fill out function and remove\n",
        "  # print(\"Student exercise: implement the likelihood function\")\n",
        "  ##############################################################################\n",
        "\n",
        "  # Compute Gaussian likelihood\n",
        "  exp_term = np.exp(-(y - theta_hat * x)**2 / (2 * sigma**2))\n",
        "  pdf = (1/(np.sqrt(2*np.pi*sigma**2)))*exp_term\n",
        "\n",
        "  return pdf\n",
        "\n",
        "\n",
        "print(likelihood(1.0, x[1], y[1]))\n",
        "print(likelihood(1.18, x[3], y[3]))\n",
        "print()\n",
        "print('check for a bunch')\n",
        "for i in range(10):\n",
        "  print(likelihood(1.2, x[i], y[i]))"
      ]
    },
    {
      "cell_type": "markdown",
      "metadata": {
        "execution": {},
        "id": "j0Iin3hBi7Vr"
      },
      "source": [
        "Sample output\n",
        "\n",
        "```\n",
        "0.11344443599846923\n",
        "```"
      ]
    },
    {
      "cell_type": "markdown",
      "metadata": {
        "cellView": "both",
        "execution": {},
        "id": "I1E6KFyKi7Vr"
      },
      "source": [
        "[*Click for solution*](https://github.com/NeuromatchAcademy/course-content/tree/main/tutorials/W1D2_ModelFitting/solutions/W1D2_Tutorial2_Solution_328a0c30.py)\n",
        "\n"
      ]
    },
    {
      "cell_type": "code",
      "execution_count": null,
      "metadata": {
        "cellView": "form",
        "execution": {},
        "id": "T1GpgPwwi7Vr"
      },
      "outputs": [],
      "source": [
        "# @title Submit your feedback\n",
        "content_review(f\"{feedback_prefix}_Likelihood_function_Exercise\")"
      ]
    },
    {
      "cell_type": "markdown",
      "metadata": {
        "execution": {},
        "id": "RxS2Le_pi7Vr"
      },
      "source": [
        "We should see that $\\mathcal{L}(\\theta=1.0|x=2.1,y=3.7) \\approx 0.11$. So far so good, but how does this tell us how this estimate is better than any others?\n",
        "\n",
        "When dealing with a set of data points, as we are with our dataset, we are concerned with their joint probability -- the likelihood that all data points are explained by our parameterization. Since we have assumed that the noise affects each output independently, we can factorize the likelihood, and write:\n",
        "\n",
        "\\begin{equation}\n",
        "\\mathcal{L}(\\theta|\\mathbf{x}, \\mathbf{y}) = \\prod_{i=1}^N \\mathcal{L}(\\theta|x_i,y_i),\n",
        "\\end{equation}\n",
        "\n",
        "where we have $N$ data points $\\mathbf{x} = [x_1,...,x_N]$ and $\\mathbf{y} = [y_1,...,y_N]$.\n",
        "\n",
        "In practice, such a product can be numerically unstable. Indeed, multiplying small values together can lead to [arithmetic underflow](https://en.wikipedia.org/wiki/Arithmetic_underflow), the situation in which the digital representation of a floating point number reaches its limit. This problem can be circumvented by taking the logarithm of the likelihood because the logarithm transforms products into sums:\n",
        "\n",
        "\\begin{equation}\n",
        "\\log\\mathcal{L}(\\theta|\\mathbf{x}, \\mathbf{y}) = \\sum_{i=1}^N \\log\\mathcal{L}(\\theta|x_i,y_i)\n",
        "\\end{equation}\n",
        "\n",
        "We can take the sum of the log of the output of our `likelihood` method applied to the full dataset to get a better idea of how different $\\hat{\\theta}$ compare. We can also plot the different distribution densities over our dataset and see how they line up qualitatively."
      ]
    },
    {
      "cell_type": "code",
      "execution_count": null,
      "metadata": {
        "cellView": "form",
        "execution": {},
        "id": "OwMZfEfci7Vr",
        "colab": {
          "base_uri": "https://localhost:8080/",
          "height": 492
        },
        "outputId": "d8f0a20e-79d9-4958-8600-a4d180383796"
      },
      "outputs": [
        {
          "output_type": "display_data",
          "data": {
            "text/plain": [
              "<Figure size 1500x500 with 4 Axes>"
            ],
            "image/png": "[encoded data removed]"
          },
          "metadata": {
            "image/png": {
              "width": 1466,
              "height": 475
            }
          }
        }
      ],
      "source": [
        "# @markdown Execute this cell to visualize different distribution densities\n",
        "theta_hats = [0.5, 1.0, 2.2]\n",
        "fig, axes = plt.subplots(ncols=3, figsize=(15, 5))\n",
        "for theta_hat, ax in zip(theta_hats, axes):\n",
        "  ll = np.sum(np.log(likelihood(theta_hat, x, y)))  # log likelihood\n",
        "  im = plot_density_image(x, y, theta_hat, ax=ax)\n",
        "  ax.scatter(x, y)\n",
        "  ax.set(title=fr'$\\hat{{\\theta}}$ = {theta_hat}, log likelihood: {ll:.2f}')\n",
        "plt.colorbar(im, ax=ax)\n",
        "plt.show()"
      ]
    },
    {
      "cell_type": "markdown",
      "metadata": {
        "execution": {},
        "id": "tkEnGRNUi7Vr"
      },
      "source": [
        "Using the log likelihood calculation, we see that $\\mathcal{L}(\\theta=1.0) > \\mathcal{L}(\\theta=0.5) > \\mathcal{L}(\\theta=2.2)$.\n",
        "\n",
        "This is great: now we have a way to compare estimators based on likelihood. But like with the MSE approach, we want an analytic solution to find the best estimator. In this case, we want to find the estimator that maximizes the likelihood.\n"
      ]
    },
    {
      "cell_type": "markdown",
      "metadata": {
        "execution": {},
        "id": "vsgUKJEpi7Vr"
      },
      "source": [
        "## Section 1.4: Finding the Maximum Likelihood Estimator\n",
        "\n",
        "*Estimated timing to here from start of tutorial: 23 min*\n",
        "\n",
        "<details>\n",
        "<summary> <font color='blue'>Click here for text recap of relevant part of video </font></summary>\n",
        "\n",
        "We want to find the parameter value $\\hat\\theta$ that makes our data set most likely:\n",
        "\n",
        "\\begin{align}\n",
        "\\hat{\\theta}_{\\textrm{MLE}} = \\underset{\\theta}{\\operatorname{argmax}} \\mathcal{L}(\\theta|X,Y)\n",
        "\\end{align}\n",
        "\n",
        "We discussed how taking the logarithm of the likelihood helps with numerical stability, the good thing is that it does so without changing the parameter value that maximizes the likelihood. Indeed, the $\\log()$ function is *monotonically increasing*, which means that it preserves the order of its inputs. So we have:\n",
        "\n",
        "\\begin{align}\n",
        "\\hat{\\theta}_{\\textrm{MLE}} = \\underset{\\theta}{\\operatorname{argmax}} \\sum_{i=1}^m \\textrm{log} \\mathcal{L}(\\theta|x_i,y_i)\n",
        "\\end{align}\n",
        "\n",
        "Now substituting our specific likelihood function and taking its logarithm, we get:\n",
        "\\begin{align}\n",
        "\\hat{\\theta}_{\\textrm{MLE}} = \\underset{\\theta}{\\operatorname{argmax}} [-\\frac{N}{2} \\operatorname{log} 2\\pi\\sigma^2 - \\frac{1}{2\\sigma^2}\\sum_{i=1}^N (y_i-\\theta x_i)^2].\n",
        "\\end{align}\n",
        "\n",
        "Note that maximizing the log likelihood is the same as minimizing the negative log likelihood (in practice optimization routines are developed to solve minimization not maximization problems). Because of the convexity of this objective function, we can take the derivative of our negative log likelihhood, set it to 0, and solve - just like our solution to minimizing MSE.\n",
        "\n",
        "\\begin{align}\n",
        "\\frac{\\partial\\operatorname{log}\\mathcal{L}(\\theta|x,y)}{\\partial\\theta}=\\frac{1}{\\sigma^2}\\sum_{i=1}^N(y_i-\\theta x_i)x_i = 0\n",
        "\\end{align}\n",
        "\n",
        "This looks remarkably like the equation we had to solve for the optimal MSE estimator, and, in fact, we arrive to the exact same solution!\n",
        "\n",
        "\\begin{align}\n",
        "\\hat{\\theta}_{\\textrm{MLE}} = \\hat{\\theta}_{\\textrm{MSE}} = \\frac{\\sum_{i=1}^N x_i y_i}{\\sum_{i=1}^N x_i^2}\n",
        "\\end{align}"
      ]
    },
    {
      "cell_type": "code",
      "execution_count": null,
      "metadata": {
        "execution": {},
        "id": "0np9wGMAi7Vr"
      },
      "outputs": [],
      "source": [
        "# Compute theta_hat_MLE\n",
        "theta_hat_mle = (x @ y) / (x @ x) # apparently, @ is for dot product | same as the mse method"
      ]
    },
    {
      "cell_type": "code",
      "execution_count": null,
      "metadata": {
        "cellView": "form",
        "execution": {},
        "id": "rpYeFErai7Vr",
        "colab": {
          "base_uri": "https://localhost:8080/",
          "height": 592
        },
        "outputId": "3910f1c1-fcfb-499b-ec8f-4a59e60a8502"
      },
      "outputs": [
        {
          "output_type": "display_data",
          "data": {
            "text/plain": [
              "<Figure size 800x600 with 2 Axes>"
            ],
            "image/png": "[encoded data removed]"
          },
          "metadata": {
            "image/png": {
              "width": 744,
              "height": 575
            }
          }
        }
      ],
      "source": [
        "# @markdown Execute this cell to visualize density with theta_hat_mle\n",
        "\n",
        "# Plot the resulting distribution density\n",
        "fig, ax = plt.subplots()\n",
        "ll = np.sum(np.log(likelihood(theta_hat_mle, x, y))) # log likelihood\n",
        "im = plot_density_image(x, y, theta_hat_mle, ax=ax)\n",
        "plt.colorbar(im, ax=ax)\n",
        "ax.scatter(x, y)\n",
        "ax.set(title=fr'$\\hat{{\\theta}}$ = {theta_hat_mle:.2f}, log likelihood: {ll:.2f}')\n",
        "plt.show()"
      ]
    },
    {
      "cell_type": "markdown",
      "metadata": {
        "execution": {},
        "id": "kvgHBlBFi7Vr"
      },
      "source": [
        "---\n",
        "# Summary\n",
        "\n",
        "*Estimated timing of tutorial: 30 minutes*\n",
        "\n",
        "\n",
        "Likelihood vs probability:\n",
        "\n",
        "  - $\\mathcal{L}(\\theta|x, y) = p(y|x, \\theta)$\n",
        "  - $p(y|x, \\theta) \\rightarrow$ \"probability of observing the response $y$ given parameter $\\theta$ and input $x$\"\n",
        "  - $\\mathcal{L}(\\theta|x, y) \\rightarrow$ \"likelihood model that parameters $\\theta$ produced response $y$ from input $x$\"\n",
        "\n",
        "Log-likelihood maximization:\n",
        "\n",
        "  - We take the $\\log$ of the likelihood function for computational convenience\n",
        "  - The parameters $\\theta$ that maximize $\\log\\mathcal{L}(\\theta|x, y)$ are the model parameters that maximize the probability of observing the data.\n",
        "\n",
        "**Key point**: the log-likelihood is a flexible cost function, and is often used to find model parameters that best fit the data."
      ]
    },
    {
      "cell_type": "markdown",
      "metadata": {
        "execution": {},
        "id": "3svbHOy6i7Vr"
      },
      "source": [
        "\n",
        "---\n",
        "# Notation\n",
        "\n",
        "\\begin{align}\n",
        "x &\\quad \\text{input, independent variable}\\\\\n",
        "y &\\quad \\text{response measurement, dependent variable}\\\\\n",
        "\\mathbf{x} &\\quad \\text{vector of input values}\\\\\n",
        "\\mathbf{y} &\\quad \\text{vector of measurements}\\\\\n",
        "\\epsilon &\\quad \\text{measurement error, noise contribution}\\\\\n",
        "\\epsilon \\sim \\mathcal{N}(\\mu, \\sigma^2) &\\quad \\text{random variable } \\epsilon \\text{ is distributed according to a Gaussian distribution, with mean } \\mu \\text{ and variance } \\sigma^2\\\\\n",
        "\\mu &\\quad \\text{mean}\\\\\n",
        "\\sigma^2 &\\quad \\text{variance}\\\\\n",
        "\\sigma &\\quad \\text{standard deviation}\\\\\n",
        "\\theta &\\quad \\text{parameter}\\\\\n",
        "\\hat{\\theta} &\\quad \\text{estimate of parameter}\\\\\n",
        "\\mathcal{L}(\\theta|x, y) &\\quad \\text{likelihood of that parameter } \\theta \\text{ producing response } y \\text{ from input } x \\\\\n",
        "p(y|x, \\theta) &\\quad \\text{probability of observing the response } y \\text{ given input } x \\text{ and parameter } \\theta \\\\\n",
        "\\end{align}"
      ]
    },
    {
      "cell_type": "markdown",
      "metadata": {
        "execution": {},
        "id": "JW4pYW1Ui7Vs"
      },
      "source": [
        "---\n",
        "# Bonus\n",
        "\n",
        "We can also see $\\mathrm{p}(\\mathrm{y} | \\mathrm{x}, \\theta)$ as a function of $x$. This is the stimulus likelihood function, and it is useful in case we want to decode the input $x$ from observed responses $y$. This is what is relevant from the point of view of a neuron that does not have access to the outside world and tries to infer what's out there from the responses of other neurons!"
      ]
    },
    {
      "cell_type": "code",
      "source": [],
      "metadata": {
        "id": "W7QvHg9Xmrtc"
      },
      "execution_count": null,
      "outputs": []
    }
  ],
  "metadata": {
    "celltoolbar": "Slideshow",
    "colab": {
      "provenance": [],
      "toc_visible": true
    },
    "kernel": {
      "display_name": "Python 3",
      "language": "python",
      "name": "python3"
    },
    "kernelspec": {
      "display_name": "Python 3",
      "language": "python",
      "name": "python3"
    },
    "language_info": {
      "codemirror_mode": {
        "name": "ipython",
        "version": 3
      },
      "file_extension": ".py",
      "mimetype": "text/x-python",
      "name": "python",
      "nbconvert_exporter": "python",
      "pygments_lexer": "ipython3",
      "version": "3.9.21"
    },
    "widgets": {
      "application/vnd.jupyter.widget-state+json": {
        "d7745fb38d6348c194027726f37a5f91": {
          "model_module": "@jupyter-widgets/controls",
          "model_name": "TabModel",
          "model_module_version": "1.5.0",
          "state": {
            "_dom_classes": [],
            "_model_module": "@jupyter-widgets/controls",
            "_model_module_version": "1.5.0",
            "_model_name": "TabModel",
            "_titles": {
              "0": "Youtube",
              "1": "Bilibili"
            },
            "_view_count": null,
            "_view_module": "@jupyter-widgets/controls",
            "_view_module_version": "1.5.0",
            "_view_name": "TabView",
            "box_style": "",
            "children": [
              "IPY_MODEL_e2a724f0405a45a7a031620ce98c9606",
              "IPY_MODEL_8d6c41a691d64bf09548965c2ee6b712"
            ],
            "layout": "IPY_MODEL_ed1c6f84d9bf4138a13c91358b802963",
            "selected_index": 0
          }
        },
        "e2a724f0405a45a7a031620ce98c9606": {
          "model_module": "@jupyter-widgets/output",
          "model_name": "OutputModel",
          "model_module_version": "1.0.0",
          "state": {
            "_dom_classes": [],
            "_model_module": "@jupyter-widgets/output",
            "_model_module_version": "1.0.0",
            "_model_name": "OutputModel",
            "_view_count": null,
            "_view_module": "@jupyter-widgets/output",
            "_view_module_version": "1.0.0",
            "_view_name": "OutputView",
            "layout": "IPY_MODEL_b6ae9d21033c4ec9a0b2e0df244b462e",
            "msg_id": "",
            "outputs": [
              {
                "output_type": "stream",
                "name": "stdout",
                "text": [
                  "Video available at https://youtube.com/watch?v=8mpNmzLKNfU\n"
                ]
              },
              {
                "output_type": "display_data",
                "data": {
                  "text/plain": "<IPython.lib.display.YouTubeVideo at 0x7b0e2102c3d0>",
                  "text/html": "\n        <iframe\n            width=\"854\"\n            height=\"480\"\n            src=\"https://www.youtube.com/embed/8mpNmzLKNfU?fs=1&rel=0\"\n            frameborder=\"0\"\n            allowfullscreen\n            \n        ></iframe>\n        ",
                  "image/jpeg": "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\n"
                },
                "metadata": {}
              }
            ]
          }
        },
        "8d6c41a691d64bf09548965c2ee6b712": {
          "model_module": "@jupyter-widgets/output",
          "model_name": "OutputModel",
          "model_module_version": "1.0.0",
          "state": {
            "_dom_classes": [],
            "_model_module": "@jupyter-widgets/output",
            "_model_module_version": "1.0.0",
            "_model_name": "OutputModel",
            "_view_count": null,
            "_view_module": "@jupyter-widgets/output",
            "_view_module_version": "1.0.0",
            "_view_name": "OutputView",
            "layout": "IPY_MODEL_989a91614a79492f96c47f323b1d467f",
            "msg_id": "",
            "outputs": [
              {
                "output_type": "stream",
                "name": "stdout",
                "text": [
                  "Video available at https://www.bilibili.com/video/BV1Mg4y1i7WH\n"
                ]
              },
              {
                "output_type": "display_data",
                "data": {
                  "text/plain": "<__main__.PlayVideo at 0x7b0e22773f90>",
                  "text/html": "\n        <iframe\n            width=\"854\"\n            height=\"480\"\n            src=\"https://player.bilibili.com/player.html?bvid=BV1Mg4y1i7WH&page=1?fs=1&autoplay=False\"\n            frameborder=\"0\"\n            allowfullscreen\n            \n        ></iframe>\n        "
                },
                "metadata": {}
              }
            ]
          }
        },
        "ed1c6f84d9bf4138a13c91358b802963": {
          "model_module": "@jupyter-widgets/base",
          "model_name": "LayoutModel",
          "model_module_version": "1.2.0",
          "state": {
            "_model_module": "@jupyter-widgets/base",
            "_model_module_version": "1.2.0",
            "_model_name": "LayoutModel",
            "_view_count": null,
            "_view_module": "@jupyter-widgets/base",
            "_view_module_version": "1.2.0",
            "_view_name": "LayoutView",
            "align_content": null,
            "align_items": null,
            "align_self": null,
            "border": null,
            "bottom": null,
            "display": null,
            "flex": null,
            "flex_flow": null,
            "grid_area": null,
            "grid_auto_columns": null,
            "grid_auto_flow": null,
            "grid_auto_rows": null,
            "grid_column": null,
            "grid_gap": null,
            "grid_row": null,
            "grid_template_areas": null,
            "grid_template_columns": null,
            "grid_template_rows": null,
            "height": null,
            "justify_content": null,
            "justify_items": null,
            "left": null,
            "margin": null,
            "max_height": null,
            "max_width": null,
            "min_height": null,
            "min_width": null,
            "object_fit": null,
            "object_position": null,
            "order": null,
            "overflow": null,
            "overflow_x": null,
            "overflow_y": null,
            "padding": null,
            "right": null,
            "top": null,
            "visibility": null,
            "width": null
          }
        },
        "b6ae9d21033c4ec9a0b2e0df244b462e": {
          "model_module": "@jupyter-widgets/base",
          "model_name": "LayoutModel",
          "model_module_version": "1.2.0",
          "state": {
            "_model_module": "@jupyter-widgets/base",
            "_model_module_version": "1.2.0",
            "_model_name": "LayoutModel",
            "_view_count": null,
            "_view_module": "@jupyter-widgets/base",
            "_view_module_version": "1.2.0",
            "_view_name": "LayoutView",
            "align_content": null,
            "align_items": null,
            "align_self": null,
            "border": null,
            "bottom": null,
            "display": null,
            "flex": null,
            "flex_flow": null,
            "grid_area": null,
            "grid_auto_columns": null,
            "grid_auto_flow": null,
            "grid_auto_rows": null,
            "grid_column": null,
            "grid_gap": null,
            "grid_row": null,
            "grid_template_areas": null,
            "grid_template_columns": null,
            "grid_template_rows": null,
            "height": null,
            "justify_content": null,
            "justify_items": null,
            "left": null,
            "margin": null,
            "max_height": null,
            "max_width": null,
            "min_height": null,
            "min_width": null,
            "object_fit": null,
            "object_position": null,
            "order": null,
            "overflow": null,
            "overflow_x": null,
            "overflow_y": null,
            "padding": null,
            "right": null,
            "top": null,
            "visibility": null,
            "width": null
          }
        },
        "989a91614a79492f96c47f323b1d467f": {
          "model_module": "@jupyter-widgets/base",
          "model_name": "LayoutModel",
          "model_module_version": "1.2.0",
          "state": {
            "_model_module": "@jupyter-widgets/base",
            "_model_module_version": "1.2.0",
            "_model_name": "LayoutModel",
            "_view_count": null,
            "_view_module": "@jupyter-widgets/base",
            "_view_module_version": "1.2.0",
            "_view_name": "LayoutView",
            "align_content": null,
            "align_items": null,
            "align_self": null,
            "border": null,
            "bottom": null,
            "display": null,
            "flex": null,
            "flex_flow": null,
            "grid_area": null,
            "grid_auto_columns": null,
            "grid_auto_flow": null,
            "grid_auto_rows": null,
            "grid_column": null,
            "grid_gap": null,
            "grid_row": null,
            "grid_template_areas": null,
            "grid_template_columns": null,
            "grid_template_rows": null,
            "height": null,
            "justify_content": null,
            "justify_items": null,
            "left": null,
            "margin": null,
            "max_height": null,
            "max_width": null,
            "min_height": null,
            "min_width": null,
            "object_fit": null,
            "object_position": null,
            "order": null,
            "overflow": null,
            "overflow_x": null,
            "overflow_y": null,
            "padding": null,
            "right": null,
            "top": null,
            "visibility": null,
            "width": null
          }
        },
        "ef1ce1ab5ab14de39e7bdba06bb33468": {
          "model_module": "@jupyter-widgets/controls",
          "model_name": "VBoxModel",
          "model_module_version": "1.5.0",
          "state": {
            "_dom_classes": [],
            "_model_module": "@jupyter-widgets/controls",
            "_model_module_version": "1.5.0",
            "_model_name": "VBoxModel",
            "_view_count": null,
            "_view_module": "@jupyter-widgets/controls",
            "_view_module_version": "1.5.0",
            "_view_name": "VBoxView",
            "box_style": "",
            "children": [
              "IPY_MODEL_b558f7db48bc48bbbdb65758fa511217"
            ],
            "layout": "IPY_MODEL_df80ae864c1b49df8a9cd44b76b48a47"
          }
        },
        "b558f7db48bc48bbbdb65758fa511217": {
          "model_module": "@jupyter-widgets/controls",
          "model_name": "VBoxModel",
          "model_module_version": "1.5.0",
          "state": {
            "_dom_classes": [],
            "_model_module": "@jupyter-widgets/controls",
            "_model_module_version": "1.5.0",
            "_model_name": "VBoxModel",
            "_view_count": null,
            "_view_module": "@jupyter-widgets/controls",
            "_view_module_version": "1.5.0",
            "_view_name": "VBoxView",
            "box_style": "",
            "children": [
              "IPY_MODEL_a81d10cd6db145718bc9fa0c1e486809",
              "IPY_MODEL_59e80cfa70884ff1aa89998a82df58ac",
              "IPY_MODEL_40684b2b34c347fcae85aaa9703fdf3a"
            ],
            "layout": "IPY_MODEL_98c1806d91264cfb9f04d50ec3637c23"
          }
        },
        "df80ae864c1b49df8a9cd44b76b48a47": {
          "model_module": "@jupyter-widgets/base",
          "model_name": "LayoutModel",
          "model_module_version": "1.2.0",
          "state": {
            "_model_module": "@jupyter-widgets/base",
            "_model_module_version": "1.2.0",
            "_model_name": "LayoutModel",
            "_view_count": null,
            "_view_module": "@jupyter-widgets/base",
            "_view_module_version": "1.2.0",
            "_view_name": "LayoutView",
            "align_content": null,
            "align_items": null,
            "align_self": null,
            "border": null,
            "bottom": null,
            "display": null,
            "flex": null,
            "flex_flow": null,
            "grid_area": null,
            "grid_auto_columns": null,
            "grid_auto_flow": null,
            "grid_auto_rows": null,
            "grid_column": null,
            "grid_gap": null,
            "grid_row": null,
            "grid_template_areas": null,
            "grid_template_columns": null,
            "grid_template_rows": null,
            "height": null,
            "justify_content": null,
            "justify_items": null,
            "left": null,
            "margin": null,
            "max_height": null,
            "max_width": null,
            "min_height": null,
            "min_width": null,
            "object_fit": null,
            "object_position": null,
            "order": null,
            "overflow": null,
            "overflow_x": null,
            "overflow_y": null,
            "padding": null,
            "right": null,
            "top": null,
            "visibility": null,
            "width": null
          }
        },
        "a81d10cd6db145718bc9fa0c1e486809": {
          "model_module": "@jupyter-widgets/controls",
          "model_name": "HBoxModel",
          "model_module_version": "1.5.0",
          "state": {
            "_dom_classes": [],
            "_model_module": "@jupyter-widgets/controls",
            "_model_module_version": "1.5.0",
            "_model_name": "HBoxModel",
            "_view_count": null,
            "_view_module": "@jupyter-widgets/controls",
            "_view_module_version": "1.5.0",
            "_view_name": "HBoxView",
            "box_style": "",
            "children": [
              "IPY_MODEL_6e2f6a0396e1452a97603ca80674cafd",
              "IPY_MODEL_8896e16b62454e1bae17e598e1c51d00",
              "IPY_MODEL_4240edb870b14e8e8d1c1e13763e1462"
            ],
            "layout": "IPY_MODEL_4ff6082f2ad94283aedd9da215105b34"
          }
        },
        "59e80cfa70884ff1aa89998a82df58ac": {
          "model_module": "@jupyter-widgets/controls",
          "model_name": "HBoxModel",
          "model_module_version": "1.5.0",
          "state": {
            "_dom_classes": [],
            "_model_module": "@jupyter-widgets/controls",
            "_model_module_version": "1.5.0",
            "_model_name": "HBoxModel",
            "_view_count": null,
            "_view_module": "@jupyter-widgets/controls",
            "_view_module_version": "1.5.0",
            "_view_name": "HBoxView",
            "box_style": "",
            "children": [
              "IPY_MODEL_af367eef1974467da3922127632e138e",
              "IPY_MODEL_d0e818d57b6f48e9840e386b4440cab4"
            ],
            "layout": "IPY_MODEL_78c61f09126d4ea094550ad7f18f28ad"
          }
        },
        "40684b2b34c347fcae85aaa9703fdf3a": {
          "model_module": "@jupyter-widgets/controls",
          "model_name": "LabelModel",
          "model_module_version": "1.5.0",
          "state": {
            "_dom_classes": [],
            "_model_module": "@jupyter-widgets/controls",
            "_model_module_version": "1.5.0",
            "_model_name": "LabelModel",
            "_view_count": null,
            "_view_module": "@jupyter-widgets/controls",
            "_view_module_version": "1.5.0",
            "_view_name": "LabelView",
            "description": "",
            "description_tooltip": null,
            "layout": "IPY_MODEL_3c3f130ffcdd49a5a0cd3878d701c384",
            "placeholder": "​",
            "style": "IPY_MODEL_5ba85ac4f91940c6863da7e2a044fe26",
            "value": "Thanks for your feedback!"
          }
        },
        "98c1806d91264cfb9f04d50ec3637c23": {
          "model_module": "@jupyter-widgets/base",
          "model_name": "LayoutModel",
          "model_module_version": "1.2.0",
          "state": {
            "_model_module": "@jupyter-widgets/base",
            "_model_module_version": "1.2.0",
            "_model_name": "LayoutModel",
            "_view_count": null,
            "_view_module": "@jupyter-widgets/base",
            "_view_module_version": "1.2.0",
            "_view_name": "LayoutView",
            "align_content": null,
            "align_items": null,
            "align_self": null,
            "border": null,
            "bottom": null,
            "display": null,
            "flex": null,
            "flex_flow": null,
            "grid_area": null,
            "grid_auto_columns": null,
            "grid_auto_flow": null,
            "grid_auto_rows": null,
            "grid_column": null,
            "grid_gap": null,
            "grid_row": null,
            "grid_template_areas": null,
            "grid_template_columns": null,
            "grid_template_rows": null,
            "height": null,
            "justify_content": null,
            "justify_items": null,
            "left": null,
            "margin": null,
            "max_height": null,
            "max_width": null,
            "min_height": null,
            "min_width": null,
            "object_fit": null,
            "object_position": null,
            "order": null,
            "overflow": null,
            "overflow_x": null,
            "overflow_y": null,
            "padding": null,
            "right": null,
            "top": null,
            "visibility": null,
            "width": null
          }
        },
        "6e2f6a0396e1452a97603ca80674cafd": {
          "model_module": "@jupyter-widgets/controls",
          "model_name": "ButtonModel",
          "model_module_version": "1.5.0",
          "state": {
            "_dom_classes": [
              "happy"
            ],
            "_model_module": "@jupyter-widgets/controls",
            "_model_module_version": "1.5.0",
            "_model_name": "ButtonModel",
            "_view_count": null,
            "_view_module": "@jupyter-widgets/controls",
            "_view_module_version": "1.5.0",
            "_view_name": "ButtonView",
            "button_style": "",
            "description": "🙂",
            "disabled": false,
            "icon": "",
            "layout": "IPY_MODEL_d15e7d8244c94253af54743a966e6745",
            "style": "IPY_MODEL_61d5006a53d5477cadbe46d900ead0bc",
            "tooltip": "happy"
          }
        },
        "8896e16b62454e1bae17e598e1c51d00": {
          "model_module": "@jupyter-widgets/controls",
          "model_name": "ButtonModel",
          "model_module_version": "1.5.0",
          "state": {
            "_dom_classes": [
              "medium"
            ],
            "_model_module": "@jupyter-widgets/controls",
            "_model_module_version": "1.5.0",
            "_model_name": "ButtonModel",
            "_view_count": null,
            "_view_module": "@jupyter-widgets/controls",
            "_view_module_version": "1.5.0",
            "_view_name": "ButtonView",
            "button_style": "",
            "description": "😐",
            "disabled": false,
            "icon": "",
            "layout": "IPY_MODEL_313300fdcdb444fa84dee38223c3caac",
            "style": "IPY_MODEL_ce1d580f1bd445bbaca9225daf91adc8",
            "tooltip": "medium"
          }
        },
        "4240edb870b14e8e8d1c1e13763e1462": {
          "model_module": "@jupyter-widgets/controls",
          "model_name": "ButtonModel",
          "model_module_version": "1.5.0",
          "state": {
            "_dom_classes": [
              "sad"
            ],
            "_model_module": "@jupyter-widgets/controls",
            "_model_module_version": "1.5.0",
            "_model_name": "ButtonModel",
            "_view_count": null,
            "_view_module": "@jupyter-widgets/controls",
            "_view_module_version": "1.5.0",
            "_view_name": "ButtonView",
            "button_style": "",
            "description": "🙁",
            "disabled": false,
            "icon": "",
            "layout": "IPY_MODEL_9f3f4db9ce234ecd9d913da9f1f693f6",
            "style": "IPY_MODEL_32576e7d6f784629b715fab82ea4a816",
            "tooltip": "sad"
          }
        },
        "4ff6082f2ad94283aedd9da215105b34": {
          "model_module": "@jupyter-widgets/base",
          "model_name": "LayoutModel",
          "model_module_version": "1.2.0",
          "state": {
            "_model_module": "@jupyter-widgets/base",
            "_model_module_version": "1.2.0",
            "_model_name": "LayoutModel",
            "_view_count": null,
            "_view_module": "@jupyter-widgets/base",
            "_view_module_version": "1.2.0",
            "_view_name": "LayoutView",
            "align_content": null,
            "align_items": null,
            "align_self": null,
            "border": null,
            "bottom": null,
            "display": null,
            "flex": null,
            "flex_flow": null,
            "grid_area": null,
            "grid_auto_columns": null,
            "grid_auto_flow": null,
            "grid_auto_rows": null,
            "grid_column": null,
            "grid_gap": null,
            "grid_row": null,
            "grid_template_areas": null,
            "grid_template_columns": null,
            "grid_template_rows": null,
            "height": null,
            "justify_content": null,
            "justify_items": null,
            "left": null,
            "margin": null,
            "max_height": null,
            "max_width": null,
            "min_height": null,
            "min_width": null,
            "object_fit": null,
            "object_position": null,
            "order": null,
            "overflow": null,
            "overflow_x": null,
            "overflow_y": null,
            "padding": null,
            "right": null,
            "top": null,
            "visibility": null,
            "width": null
          }
        },
        "af367eef1974467da3922127632e138e": {
          "model_module": "@jupyter-widgets/controls",
          "model_name": "TextareaModel",
          "model_module_version": "1.5.0",
          "state": {
            "_dom_classes": [],
            "_model_module": "@jupyter-widgets/controls",
            "_model_module_version": "1.5.0",
            "_model_name": "TextareaModel",
            "_view_count": null,
            "_view_module": "@jupyter-widgets/controls",
            "_view_module_version": "1.5.0",
            "_view_name": "TextareaView",
            "continuous_update": true,
            "description": "",
            "description_tooltip": null,
            "disabled": false,
            "layout": "IPY_MODEL_b551aade9b794a2db2b8a8ccea031244",
            "placeholder": "We want your feedback!",
            "rows": null,
            "style": "IPY_MODEL_eb2dfa7ca5f842a383b05f48d0477c99",
            "value": ""
          }
        },
        "d0e818d57b6f48e9840e386b4440cab4": {
          "model_module": "@jupyter-widgets/controls",
          "model_name": "ButtonModel",
          "model_module_version": "1.5.0",
          "state": {
            "_dom_classes": [],
            "_model_module": "@jupyter-widgets/controls",
            "_model_module_version": "1.5.0",
            "_model_name": "ButtonModel",
            "_view_count": null,
            "_view_module": "@jupyter-widgets/controls",
            "_view_module_version": "1.5.0",
            "_view_name": "ButtonView",
            "button_style": "",
            "description": "Submit",
            "disabled": false,
            "icon": "",
            "layout": "IPY_MODEL_0bb1f2726cf94bfdac5ee5bd1f5fe660",
            "style": "IPY_MODEL_b90d43712e0a4ac29842d8543afc0bf6",
            "tooltip": ""
          }
        },
        "78c61f09126d4ea094550ad7f18f28ad": {
          "model_module": "@jupyter-widgets/base",
          "model_name": "LayoutModel",
          "model_module_version": "1.2.0",
          "state": {
            "_model_module": "@jupyter-widgets/base",
            "_model_module_version": "1.2.0",
            "_model_name": "LayoutModel",
            "_view_count": null,
            "_view_module": "@jupyter-widgets/base",
            "_view_module_version": "1.2.0",
            "_view_name": "LayoutView",
            "align_content": null,
            "align_items": null,
            "align_self": null,
            "border": null,
            "bottom": null,
            "display": "none",
            "flex": null,
            "flex_flow": null,
            "grid_area": null,
            "grid_auto_columns": null,
            "grid_auto_flow": null,
            "grid_auto_rows": null,
            "grid_column": null,
            "grid_gap": null,
            "grid_row": null,
            "grid_template_areas": null,
            "grid_template_columns": null,
            "grid_template_rows": null,
            "height": null,
            "justify_content": null,
            "justify_items": null,
            "left": null,
            "margin": null,
            "max_height": null,
            "max_width": null,
            "min_height": null,
            "min_width": null,
            "object_fit": null,
            "object_position": null,
            "order": null,
            "overflow": null,
            "overflow_x": null,
            "overflow_y": null,
            "padding": null,
            "right": null,
            "top": null,
            "visibility": null,
            "width": null
          }
        },
        "3c3f130ffcdd49a5a0cd3878d701c384": {
          "model_module": "@jupyter-widgets/base",
          "model_name": "LayoutModel",
          "model_module_version": "1.2.0",
          "state": {
            "_model_module": "@jupyter-widgets/base",
            "_model_module_version": "1.2.0",
            "_model_name": "LayoutModel",
            "_view_count": null,
            "_view_module": "@jupyter-widgets/base",
            "_view_module_version": "1.2.0",
            "_view_name": "LayoutView",
            "align_content": null,
            "align_items": null,
            "align_self": null,
            "border": null,
            "bottom": null,
            "display": "none",
            "flex": null,
            "flex_flow": null,
            "grid_area": null,
            "grid_auto_columns": null,
            "grid_auto_flow": null,
            "grid_auto_rows": null,
            "grid_column": null,
            "grid_gap": null,
            "grid_row": null,
            "grid_template_areas": null,
            "grid_template_columns": null,
            "grid_template_rows": null,
            "height": null,
            "justify_content": null,
            "justify_items": null,
            "left": null,
            "margin": null,
            "max_height": null,
            "max_width": null,
            "min_height": null,
            "min_width": null,
            "object_fit": null,
            "object_position": null,
            "order": null,
            "overflow": null,
            "overflow_x": null,
            "overflow_y": null,
            "padding": null,
            "right": null,
            "top": null,
            "visibility": null,
            "width": null
          }
        },
        "5ba85ac4f91940c6863da7e2a044fe26": {
          "model_module": "@jupyter-widgets/controls",
          "model_name": "DescriptionStyleModel",
          "model_module_version": "1.5.0",
          "state": {
            "_model_module": "@jupyter-widgets/controls",
            "_model_module_version": "1.5.0",
            "_model_name": "DescriptionStyleModel",
            "_view_count": null,
            "_view_module": "@jupyter-widgets/base",
            "_view_module_version": "1.2.0",
            "_view_name": "StyleView",
            "description_width": ""
          }
        },
        "d15e7d8244c94253af54743a966e6745": {
          "model_module": "@jupyter-widgets/base",
          "model_name": "LayoutModel",
          "model_module_version": "1.2.0",
          "state": {
            "_model_module": "@jupyter-widgets/base",
            "_model_module_version": "1.2.0",
            "_model_name": "LayoutModel",
            "_view_count": null,
            "_view_module": "@jupyter-widgets/base",
            "_view_module_version": "1.2.0",
            "_view_name": "LayoutView",
            "align_content": null,
            "align_items": null,
            "align_self": null,
            "border": null,
            "bottom": null,
            "display": null,
            "flex": null,
            "flex_flow": null,
            "grid_area": null,
            "grid_auto_columns": null,
            "grid_auto_flow": null,
            "grid_auto_rows": null,
            "grid_column": null,
            "grid_gap": null,
            "grid_row": null,
            "grid_template_areas": null,
            "grid_template_columns": null,
            "grid_template_rows": null,
            "height": "auto",
            "justify_content": null,
            "justify_items": null,
            "left": null,
            "margin": null,
            "max_height": null,
            "max_width": null,
            "min_height": null,
            "min_width": null,
            "object_fit": null,
            "object_position": null,
            "order": null,
            "overflow": null,
            "overflow_x": null,
            "overflow_y": null,
            "padding": "0.5em",
            "right": null,
            "top": null,
            "visibility": null,
            "width": "auto"
          }
        },
        "61d5006a53d5477cadbe46d900ead0bc": {
          "model_module": "@jupyter-widgets/controls",
          "model_name": "ButtonStyleModel",
          "model_module_version": "1.5.0",
          "state": {
            "_model_module": "@jupyter-widgets/controls",
            "_model_module_version": "1.5.0",
            "_model_name": "ButtonStyleModel",
            "_view_count": null,
            "_view_module": "@jupyter-widgets/base",
            "_view_module_version": "1.2.0",
            "_view_name": "StyleView",
            "button_color": "#aaffaa",
            "font_weight": ""
          }
        },
        "313300fdcdb444fa84dee38223c3caac": {
          "model_module": "@jupyter-widgets/base",
          "model_name": "LayoutModel",
          "model_module_version": "1.2.0",
          "state": {
            "_model_module": "@jupyter-widgets/base",
            "_model_module_version": "1.2.0",
            "_model_name": "LayoutModel",
            "_view_count": null,
            "_view_module": "@jupyter-widgets/base",
            "_view_module_version": "1.2.0",
            "_view_name": "LayoutView",
            "align_content": null,
            "align_items": null,
            "align_self": null,
            "border": null,
            "bottom": null,
            "display": null,
            "flex": null,
            "flex_flow": null,
            "grid_area": null,
            "grid_auto_columns": null,
            "grid_auto_flow": null,
            "grid_auto_rows": null,
            "grid_column": null,
            "grid_gap": null,
            "grid_row": null,
            "grid_template_areas": null,
            "grid_template_columns": null,
            "grid_template_rows": null,
            "height": "auto",
            "justify_content": null,
            "justify_items": null,
            "left": null,
            "margin": null,
            "max_height": null,
            "max_width": null,
            "min_height": null,
            "min_width": null,
            "object_fit": null,
            "object_position": null,
            "order": null,
            "overflow": null,
            "overflow_x": null,
            "overflow_y": null,
            "padding": "0.5em",
            "right": null,
            "top": null,
            "visibility": null,
            "width": "auto"
          }
        },
        "ce1d580f1bd445bbaca9225daf91adc8": {
          "model_module": "@jupyter-widgets/controls",
          "model_name": "ButtonStyleModel",
          "model_module_version": "1.5.0",
          "state": {
            "_model_module": "@jupyter-widgets/controls",
            "_model_module_version": "1.5.0",
            "_model_name": "ButtonStyleModel",
            "_view_count": null,
            "_view_module": "@jupyter-widgets/base",
            "_view_module_version": "1.2.0",
            "_view_name": "StyleView",
            "button_color": "#dddd77",
            "font_weight": ""
          }
        },
        "9f3f4db9ce234ecd9d913da9f1f693f6": {
          "model_module": "@jupyter-widgets/base",
          "model_name": "LayoutModel",
          "model_module_version": "1.2.0",
          "state": {
            "_model_module": "@jupyter-widgets/base",
            "_model_module_version": "1.2.0",
            "_model_name": "LayoutModel",
            "_view_count": null,
            "_view_module": "@jupyter-widgets/base",
            "_view_module_version": "1.2.0",
            "_view_name": "LayoutView",
            "align_content": null,
            "align_items": null,
            "align_self": null,
            "border": null,
            "bottom": null,
            "display": null,
            "flex": null,
            "flex_flow": null,
            "grid_area": null,
            "grid_auto_columns": null,
            "grid_auto_flow": null,
            "grid_auto_rows": null,
            "grid_column": null,
            "grid_gap": null,
            "grid_row": null,
            "grid_template_areas": null,
            "grid_template_columns": null,
            "grid_template_rows": null,
            "height": "auto",
            "justify_content": null,
            "justify_items": null,
            "left": null,
            "margin": null,
            "max_height": null,
            "max_width": null,
            "min_height": null,
            "min_width": null,
            "object_fit": null,
            "object_position": null,
            "order": null,
            "overflow": null,
            "overflow_x": null,
            "overflow_y": null,
            "padding": "0.5em",
            "right": null,
            "top": null,
            "visibility": null,
            "width": "auto"
          }
        },
        "32576e7d6f784629b715fab82ea4a816": {
          "model_module": "@jupyter-widgets/controls",
          "model_name": "ButtonStyleModel",
          "model_module_version": "1.5.0",
          "state": {
            "_model_module": "@jupyter-widgets/controls",
            "_model_module_version": "1.5.0",
            "_model_name": "ButtonStyleModel",
            "_view_count": null,
            "_view_module": "@jupyter-widgets/base",
            "_view_module_version": "1.2.0",
            "_view_name": "StyleView",
            "button_color": "#ffaaaa",
            "font_weight": ""
          }
        },
        "b551aade9b794a2db2b8a8ccea031244": {
          "model_module": "@jupyter-widgets/base",
          "model_name": "LayoutModel",
          "model_module_version": "1.2.0",
          "state": {
            "_model_module": "@jupyter-widgets/base",
            "_model_module_version": "1.2.0",
            "_model_name": "LayoutModel",
            "_view_count": null,
            "_view_module": "@jupyter-widgets/base",
            "_view_module_version": "1.2.0",
            "_view_name": "LayoutView",
            "align_content": null,
            "align_items": null,
            "align_self": null,
            "border": null,
            "bottom": null,
            "display": null,
            "flex": null,
            "flex_flow": null,
            "grid_area": null,
            "grid_auto_columns": null,
            "grid_auto_flow": null,
            "grid_auto_rows": null,
            "grid_column": null,
            "grid_gap": null,
            "grid_row": null,
            "grid_template_areas": null,
            "grid_template_columns": null,
            "grid_template_rows": null,
            "height": "auto",
            "justify_content": null,
            "justify_items": null,
            "left": null,
            "margin": null,
            "max_height": null,
            "max_width": null,
            "min_height": null,
            "min_width": null,
            "object_fit": null,
            "object_position": null,
            "order": null,
            "overflow": null,
            "overflow_x": null,
            "overflow_y": null,
            "padding": null,
            "right": null,
            "top": null,
            "visibility": null,
            "width": "auto"
          }
        },
        "eb2dfa7ca5f842a383b05f48d0477c99": {
          "model_module": "@jupyter-widgets/controls",
          "model_name": "DescriptionStyleModel",
          "model_module_version": "1.5.0",
          "state": {
            "_model_module": "@jupyter-widgets/controls",
            "_model_module_version": "1.5.0",
            "_model_name": "DescriptionStyleModel",
            "_view_count": null,
            "_view_module": "@jupyter-widgets/base",
            "_view_module_version": "1.2.0",
            "_view_name": "StyleView",
            "description_width": ""
          }
        },
        "0bb1f2726cf94bfdac5ee5bd1f5fe660": {
          "model_module": "@jupyter-widgets/base",
          "model_name": "LayoutModel",
          "model_module_version": "1.2.0",
          "state": {
            "_model_module": "@jupyter-widgets/base",
            "_model_module_version": "1.2.0",
            "_model_name": "LayoutModel",
            "_view_count": null,
            "_view_module": "@jupyter-widgets/base",
            "_view_module_version": "1.2.0",
            "_view_name": "LayoutView",
            "align_content": null,
            "align_items": null,
            "align_self": null,
            "border": null,
            "bottom": null,
            "display": null,
            "flex": null,
            "flex_flow": null,
            "grid_area": null,
            "grid_auto_columns": null,
            "grid_auto_flow": null,
            "grid_auto_rows": null,
            "grid_column": null,
            "grid_gap": null,
            "grid_row": null,
            "grid_template_areas": null,
            "grid_template_columns": null,
            "grid_template_rows": null,
            "height": "auto",
            "justify_content": null,
            "justify_items": null,
            "left": null,
            "margin": null,
            "max_height": null,
            "max_width": null,
            "min_height": null,
            "min_width": null,
            "object_fit": null,
            "object_position": null,
            "order": null,
            "overflow": null,
            "overflow_x": null,
            "overflow_y": null,
            "padding": null,
            "right": null,
            "top": null,
            "visibility": null,
            "width": "auto"
          }
        },
        "b90d43712e0a4ac29842d8543afc0bf6": {
          "model_module": "@jupyter-widgets/controls",
          "model_name": "ButtonStyleModel",
          "model_module_version": "1.5.0",
          "state": {
            "_model_module": "@jupyter-widgets/controls",
            "_model_module_version": "1.5.0",
            "_model_name": "ButtonStyleModel",
            "_view_count": null,
            "_view_module": "@jupyter-widgets/base",
            "_view_module_version": "1.2.0",
            "_view_name": "StyleView",
            "button_color": null,
            "font_weight": ""
          }
        },
        "290543935c0341aabbca52c173b2dca8": {
          "model_module": "@jupyter-widgets/controls",
          "model_name": "VBoxModel",
          "model_module_version": "1.5.0",
          "state": {
            "_dom_classes": [
              "widget-interact"
            ],
            "_model_module": "@jupyter-widgets/controls",
            "_model_module_version": "1.5.0",
            "_model_name": "VBoxModel",
            "_view_count": null,
            "_view_module": "@jupyter-widgets/controls",
            "_view_module_version": "1.5.0",
            "_view_name": "VBoxView",
            "box_style": "",
            "children": [
              "IPY_MODEL_974a839c9e214bad898871da671fee7b",
              "IPY_MODEL_9a922791649e46ada2e07b97c1d7d327",
              "IPY_MODEL_acec0bb43d6544e98f73e02dd54fb530"
            ],
            "layout": "IPY_MODEL_e2676f3317d247e4bac170155a693310"
          }
        },
        "974a839c9e214bad898871da671fee7b": {
          "model_module": "@jupyter-widgets/controls",
          "model_name": "FloatSliderModel",
          "model_module_version": "1.5.0",
          "state": {
            "_dom_classes": [],
            "_model_module": "@jupyter-widgets/controls",
            "_model_module_version": "1.5.0",
            "_model_name": "FloatSliderModel",
            "_view_count": null,
            "_view_module": "@jupyter-widgets/controls",
            "_view_module_version": "1.5.0",
            "_view_name": "FloatSliderView",
            "continuous_update": true,
            "description": "mu",
            "description_tooltip": null,
            "disabled": false,
            "layout": "IPY_MODEL_b21fe1dccab7458d897462f10617c013",
            "max": 2,
            "min": -2,
            "orientation": "horizontal",
            "readout": true,
            "readout_format": ".2f",
            "step": 0.1,
            "style": "IPY_MODEL_d47a7cda9f094536bc4618783ce137d6",
            "value": 0
          }
        },
        "9a922791649e46ada2e07b97c1d7d327": {
          "model_module": "@jupyter-widgets/controls",
          "model_name": "FloatSliderModel",
          "model_module_version": "1.5.0",
          "state": {
            "_dom_classes": [],
            "_model_module": "@jupyter-widgets/controls",
            "_model_module_version": "1.5.0",
            "_model_name": "FloatSliderModel",
            "_view_count": null,
            "_view_module": "@jupyter-widgets/controls",
            "_view_module_version": "1.5.0",
            "_view_name": "FloatSliderView",
            "continuous_update": true,
            "description": "sigma",
            "description_tooltip": null,
            "disabled": false,
            "layout": "IPY_MODEL_fa4c1f527a904f0badeb3da01efbf07e",
            "max": 2,
            "min": 0.5,
            "orientation": "horizontal",
            "readout": true,
            "readout_format": ".2f",
            "step": 0.1,
            "style": "IPY_MODEL_04274e3d8ed3450bb843d3200fd548e3",
            "value": 1
          }
        },
        "acec0bb43d6544e98f73e02dd54fb530": {
          "model_module": "@jupyter-widgets/output",
          "model_name": "OutputModel",
          "model_module_version": "1.0.0",
          "state": {
            "_dom_classes": [],
            "_model_module": "@jupyter-widgets/output",
            "_model_module_version": "1.0.0",
            "_model_name": "OutputModel",
            "_view_count": null,
            "_view_module": "@jupyter-widgets/output",
            "_view_module_version": "1.0.0",
            "_view_name": "OutputView",
            "layout": "IPY_MODEL_ded883f70f9143faa705559a5f5e1ecc",
            "msg_id": "",
            "outputs": [
              {
                "output_type": "display_data",
                "data": {
                  "text/plain": "<Figure size 800x600 with 1 Axes>",
                  "image/png": "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\n"
                },
                "metadata": {
                  "image/png": {
                    "width": 775,
                    "height": 575
                  }
                }
              }
            ]
          }
        },
        "e2676f3317d247e4bac170155a693310": {
          "model_module": "@jupyter-widgets/base",
          "model_name": "LayoutModel",
          "model_module_version": "1.2.0",
          "state": {
            "_model_module": "@jupyter-widgets/base",
            "_model_module_version": "1.2.0",
            "_model_name": "LayoutModel",
            "_view_count": null,
            "_view_module": "@jupyter-widgets/base",
            "_view_module_version": "1.2.0",
            "_view_name": "LayoutView",
            "align_content": null,
            "align_items": null,
            "align_self": null,
            "border": null,
            "bottom": null,
            "display": null,
            "flex": null,
            "flex_flow": null,
            "grid_area": null,
            "grid_auto_columns": null,
            "grid_auto_flow": null,
            "grid_auto_rows": null,
            "grid_column": null,
            "grid_gap": null,
            "grid_row": null,
            "grid_template_areas": null,
            "grid_template_columns": null,
            "grid_template_rows": null,
            "height": null,
            "justify_content": null,
            "justify_items": null,
            "left": null,
            "margin": null,
            "max_height": null,
            "max_width": null,
            "min_height": null,
            "min_width": null,
            "object_fit": null,
            "object_position": null,
            "order": null,
            "overflow": null,
            "overflow_x": null,
            "overflow_y": null,
            "padding": null,
            "right": null,
            "top": null,
            "visibility": null,
            "width": null
          }
        },
        "b21fe1dccab7458d897462f10617c013": {
          "model_module": "@jupyter-widgets/base",
          "model_name": "LayoutModel",
          "model_module_version": "1.2.0",
          "state": {
            "_model_module": "@jupyter-widgets/base",
            "_model_module_version": "1.2.0",
            "_model_name": "LayoutModel",
            "_view_count": null,
            "_view_module": "@jupyter-widgets/base",
            "_view_module_version": "1.2.0",
            "_view_name": "LayoutView",
            "align_content": null,
            "align_items": null,
            "align_self": null,
            "border": null,
            "bottom": null,
            "display": null,
            "flex": null,
            "flex_flow": null,
            "grid_area": null,
            "grid_auto_columns": null,
            "grid_auto_flow": null,
            "grid_auto_rows": null,
            "grid_column": null,
            "grid_gap": null,
            "grid_row": null,
            "grid_template_areas": null,
            "grid_template_columns": null,
            "grid_template_rows": null,
            "height": null,
            "justify_content": null,
            "justify_items": null,
            "left": null,
            "margin": null,
            "max_height": null,
            "max_width": null,
            "min_height": null,
            "min_width": null,
            "object_fit": null,
            "object_position": null,
            "order": null,
            "overflow": null,
            "overflow_x": null,
            "overflow_y": null,
            "padding": null,
            "right": null,
            "top": null,
            "visibility": null,
            "width": null
          }
        },
        "d47a7cda9f094536bc4618783ce137d6": {
          "model_module": "@jupyter-widgets/controls",
          "model_name": "SliderStyleModel",
          "model_module_version": "1.5.0",
          "state": {
            "_model_module": "@jupyter-widgets/controls",
            "_model_module_version": "1.5.0",
            "_model_name": "SliderStyleModel",
            "_view_count": null,
            "_view_module": "@jupyter-widgets/base",
            "_view_module_version": "1.2.0",
            "_view_name": "StyleView",
            "description_width": "",
            "handle_color": null
          }
        },
        "fa4c1f527a904f0badeb3da01efbf07e": {
          "model_module": "@jupyter-widgets/base",
          "model_name": "LayoutModel",
          "model_module_version": "1.2.0",
          "state": {
            "_model_module": "@jupyter-widgets/base",
            "_model_module_version": "1.2.0",
            "_model_name": "LayoutModel",
            "_view_count": null,
            "_view_module": "@jupyter-widgets/base",
            "_view_module_version": "1.2.0",
            "_view_name": "LayoutView",
            "align_content": null,
            "align_items": null,
            "align_self": null,
            "border": null,
            "bottom": null,
            "display": null,
            "flex": null,
            "flex_flow": null,
            "grid_area": null,
            "grid_auto_columns": null,
            "grid_auto_flow": null,
            "grid_auto_rows": null,
            "grid_column": null,
            "grid_gap": null,
            "grid_row": null,
            "grid_template_areas": null,
            "grid_template_columns": null,
            "grid_template_rows": null,
            "height": null,
            "justify_content": null,
            "justify_items": null,
            "left": null,
            "margin": null,
            "max_height": null,
            "max_width": null,
            "min_height": null,
            "min_width": null,
            "object_fit": null,
            "object_position": null,
            "order": null,
            "overflow": null,
            "overflow_x": null,
            "overflow_y": null,
            "padding": null,
            "right": null,
            "top": null,
            "visibility": null,
            "width": null
          }
        },
        "04274e3d8ed3450bb843d3200fd548e3": {
          "model_module": "@jupyter-widgets/controls",
          "model_name": "SliderStyleModel",
          "model_module_version": "1.5.0",
          "state": {
            "_model_module": "@jupyter-widgets/controls",
            "_model_module_version": "1.5.0",
            "_model_name": "SliderStyleModel",
            "_view_count": null,
            "_view_module": "@jupyter-widgets/base",
            "_view_module_version": "1.2.0",
            "_view_name": "StyleView",
            "description_width": "",
            "handle_color": null
          }
        },
        "ded883f70f9143faa705559a5f5e1ecc": {
          "model_module": "@jupyter-widgets/base",
          "model_name": "LayoutModel",
          "model_module_version": "1.2.0",
          "state": {
            "_model_module": "@jupyter-widgets/base",
            "_model_module_version": "1.2.0",
            "_model_name": "LayoutModel",
            "_view_count": null,
            "_view_module": "@jupyter-widgets/base",
            "_view_module_version": "1.2.0",
            "_view_name": "LayoutView",
            "align_content": null,
            "align_items": null,
            "align_self": null,
            "border": null,
            "bottom": null,
            "display": null,
            "flex": null,
            "flex_flow": null,
            "grid_area": null,
            "grid_auto_columns": null,
            "grid_auto_flow": null,
            "grid_auto_rows": null,
            "grid_column": null,
            "grid_gap": null,
            "grid_row": null,
            "grid_template_areas": null,
            "grid_template_columns": null,
            "grid_template_rows": null,
            "height": null,
            "justify_content": null,
            "justify_items": null,
            "left": null,
            "margin": null,
            "max_height": null,
            "max_width": null,
            "min_height": null,
            "min_width": null,
            "object_fit": null,
            "object_position": null,
            "order": null,
            "overflow": null,
            "overflow_x": null,
            "overflow_y": null,
            "padding": null,
            "right": null,
            "top": null,
            "visibility": null,
            "width": null
          }
        },
        "8d28e23fee304040b41a668e686017da": {
          "model_module": "@jupyter-widgets/controls",
          "model_name": "VBoxModel",
          "model_module_version": "1.5.0",
          "state": {
            "_dom_classes": [],
            "_model_module": "@jupyter-widgets/controls",
            "_model_module_version": "1.5.0",
            "_model_name": "VBoxModel",
            "_view_count": null,
            "_view_module": "@jupyter-widgets/controls",
            "_view_module_version": "1.5.0",
            "_view_name": "VBoxView",
            "box_style": "",
            "children": [
              "IPY_MODEL_28b1135e371e4195bc8aa8c4fd9f5d90"
            ],
            "layout": "IPY_MODEL_9a48f93c99364285bc09daf51be74bcf"
          }
        },
        "28b1135e371e4195bc8aa8c4fd9f5d90": {
          "model_module": "@jupyter-widgets/controls",
          "model_name": "VBoxModel",
          "model_module_version": "1.5.0",
          "state": {
            "_dom_classes": [],
            "_model_module": "@jupyter-widgets/controls",
            "_model_module_version": "1.5.0",
            "_model_name": "VBoxModel",
            "_view_count": null,
            "_view_module": "@jupyter-widgets/controls",
            "_view_module_version": "1.5.0",
            "_view_name": "VBoxView",
            "box_style": "",
            "children": [
              "IPY_MODEL_3cabe27a1c704b64bc2fc8a22b5cf140",
              "IPY_MODEL_5d88eba7401f4077b2265afa289f6897",
              "IPY_MODEL_fbf484c1bb0b44d49449f6f833e7c959"
            ],
            "layout": "IPY_MODEL_1cbdf6d07f7e4953b07e8d062626121d"
          }
        },
        "9a48f93c99364285bc09daf51be74bcf": {
          "model_module": "@jupyter-widgets/base",
          "model_name": "LayoutModel",
          "model_module_version": "1.2.0",
          "state": {
            "_model_module": "@jupyter-widgets/base",
            "_model_module_version": "1.2.0",
            "_model_name": "LayoutModel",
            "_view_count": null,
            "_view_module": "@jupyter-widgets/base",
            "_view_module_version": "1.2.0",
            "_view_name": "LayoutView",
            "align_content": null,
            "align_items": null,
            "align_self": null,
            "border": null,
            "bottom": null,
            "display": null,
            "flex": null,
            "flex_flow": null,
            "grid_area": null,
            "grid_auto_columns": null,
            "grid_auto_flow": null,
            "grid_auto_rows": null,
            "grid_column": null,
            "grid_gap": null,
            "grid_row": null,
            "grid_template_areas": null,
            "grid_template_columns": null,
            "grid_template_rows": null,
            "height": null,
            "justify_content": null,
            "justify_items": null,
            "left": null,
            "margin": null,
            "max_height": null,
            "max_width": null,
            "min_height": null,
            "min_width": null,
            "object_fit": null,
            "object_position": null,
            "order": null,
            "overflow": null,
            "overflow_x": null,
            "overflow_y": null,
            "padding": null,
            "right": null,
            "top": null,
            "visibility": null,
            "width": null
          }
        },
        "3cabe27a1c704b64bc2fc8a22b5cf140": {
          "model_module": "@jupyter-widgets/controls",
          "model_name": "HBoxModel",
          "model_module_version": "1.5.0",
          "state": {
            "_dom_classes": [],
            "_model_module": "@jupyter-widgets/controls",
            "_model_module_version": "1.5.0",
            "_model_name": "HBoxModel",
            "_view_count": null,
            "_view_module": "@jupyter-widgets/controls",
            "_view_module_version": "1.5.0",
            "_view_name": "HBoxView",
            "box_style": "",
            "children": [
              "IPY_MODEL_8d342f571ef6495086b5a7b8c4a679fd",
              "IPY_MODEL_213d38a449ea409fbd2c5939a6694417",
              "IPY_MODEL_37396a327f8842db8cdc9f8d8832c4f2"
            ],
            "layout": "IPY_MODEL_bec45c590002449faa530284d0dd2252"
          }
        },
        "5d88eba7401f4077b2265afa289f6897": {
          "model_module": "@jupyter-widgets/controls",
          "model_name": "HBoxModel",
          "model_module_version": "1.5.0",
          "state": {
            "_dom_classes": [],
            "_model_module": "@jupyter-widgets/controls",
            "_model_module_version": "1.5.0",
            "_model_name": "HBoxModel",
            "_view_count": null,
            "_view_module": "@jupyter-widgets/controls",
            "_view_module_version": "1.5.0",
            "_view_name": "HBoxView",
            "box_style": "",
            "children": [
              "IPY_MODEL_3eacbe2bac6e4571ba4fb6d1f04154b1",
              "IPY_MODEL_754d68570f6945ebae3db80a0cc754a9"
            ],
            "layout": "IPY_MODEL_f32471fa40c240c5875fa65674a584ae"
          }
        },
        "fbf484c1bb0b44d49449f6f833e7c959": {
          "model_module": "@jupyter-widgets/controls",
          "model_name": "LabelModel",
          "model_module_version": "1.5.0",
          "state": {
            "_dom_classes": [],
            "_model_module": "@jupyter-widgets/controls",
            "_model_module_version": "1.5.0",
            "_model_name": "LabelModel",
            "_view_count": null,
            "_view_module": "@jupyter-widgets/controls",
            "_view_module_version": "1.5.0",
            "_view_name": "LabelView",
            "description": "",
            "description_tooltip": null,
            "layout": "IPY_MODEL_8146b6a086804933947c18d18c621823",
            "placeholder": "​",
            "style": "IPY_MODEL_81b5e4a23fe14260becdcac5f2e93f99",
            "value": "Thanks for your feedback!"
          }
        },
        "1cbdf6d07f7e4953b07e8d062626121d": {
          "model_module": "@jupyter-widgets/base",
          "model_name": "LayoutModel",
          "model_module_version": "1.2.0",
          "state": {
            "_model_module": "@jupyter-widgets/base",
            "_model_module_version": "1.2.0",
            "_model_name": "LayoutModel",
            "_view_count": null,
            "_view_module": "@jupyter-widgets/base",
            "_view_module_version": "1.2.0",
            "_view_name": "LayoutView",
            "align_content": null,
            "align_items": null,
            "align_self": null,
            "border": null,
            "bottom": null,
            "display": null,
            "flex": null,
            "flex_flow": null,
            "grid_area": null,
            "grid_auto_columns": null,
            "grid_auto_flow": null,
            "grid_auto_rows": null,
            "grid_column": null,
            "grid_gap": null,
            "grid_row": null,
            "grid_template_areas": null,
            "grid_template_columns": null,
            "grid_template_rows": null,
            "height": null,
            "justify_content": null,
            "justify_items": null,
            "left": null,
            "margin": null,
            "max_height": null,
            "max_width": null,
            "min_height": null,
            "min_width": null,
            "object_fit": null,
            "object_position": null,
            "order": null,
            "overflow": null,
            "overflow_x": null,
            "overflow_y": null,
            "padding": null,
            "right": null,
            "top": null,
            "visibility": null,
            "width": null
          }
        },
        "8d342f571ef6495086b5a7b8c4a679fd": {
          "model_module": "@jupyter-widgets/controls",
          "model_name": "ButtonModel",
          "model_module_version": "1.5.0",
          "state": {
            "_dom_classes": [
              "happy"
            ],
            "_model_module": "@jupyter-widgets/controls",
            "_model_module_version": "1.5.0",
            "_model_name": "ButtonModel",
            "_view_count": null,
            "_view_module": "@jupyter-widgets/controls",
            "_view_module_version": "1.5.0",
            "_view_name": "ButtonView",
            "button_style": "",
            "description": "🙂",
            "disabled": false,
            "icon": "",
            "layout": "IPY_MODEL_fd3f337d1613432cbead99fa1e637564",
            "style": "IPY_MODEL_8d44b0d09a5946928358c7ecae7c9c78",
            "tooltip": "happy"
          }
        },
        "213d38a449ea409fbd2c5939a6694417": {
          "model_module": "@jupyter-widgets/controls",
          "model_name": "ButtonModel",
          "model_module_version": "1.5.0",
          "state": {
            "_dom_classes": [
              "medium"
            ],
            "_model_module": "@jupyter-widgets/controls",
            "_model_module_version": "1.5.0",
            "_model_name": "ButtonModel",
            "_view_count": null,
            "_view_module": "@jupyter-widgets/controls",
            "_view_module_version": "1.5.0",
            "_view_name": "ButtonView",
            "button_style": "",
            "description": "😐",
            "disabled": false,
            "icon": "",
            "layout": "IPY_MODEL_df6fde9a88644b9391a42e33c5ce7876",
            "style": "IPY_MODEL_b8f9c8937ab94c25854fb40a8b8d6a0d",
            "tooltip": "medium"
          }
        },
        "37396a327f8842db8cdc9f8d8832c4f2": {
          "model_module": "@jupyter-widgets/controls",
          "model_name": "ButtonModel",
          "model_module_version": "1.5.0",
          "state": {
            "_dom_classes": [
              "sad"
            ],
            "_model_module": "@jupyter-widgets/controls",
            "_model_module_version": "1.5.0",
            "_model_name": "ButtonModel",
            "_view_count": null,
            "_view_module": "@jupyter-widgets/controls",
            "_view_module_version": "1.5.0",
            "_view_name": "ButtonView",
            "button_style": "",
            "description": "🙁",
            "disabled": false,
            "icon": "",
            "layout": "IPY_MODEL_dd024f9e702e4d38ab2f5e3412f2328f",
            "style": "IPY_MODEL_2e7b18c6ae054c7f8a27a0c931153c16",
            "tooltip": "sad"
          }
        },
        "bec45c590002449faa530284d0dd2252": {
          "model_module": "@jupyter-widgets/base",
          "model_name": "LayoutModel",
          "model_module_version": "1.2.0",
          "state": {
            "_model_module": "@jupyter-widgets/base",
            "_model_module_version": "1.2.0",
            "_model_name": "LayoutModel",
            "_view_count": null,
            "_view_module": "@jupyter-widgets/base",
            "_view_module_version": "1.2.0",
            "_view_name": "LayoutView",
            "align_content": null,
            "align_items": null,
            "align_self": null,
            "border": null,
            "bottom": null,
            "display": null,
            "flex": null,
            "flex_flow": null,
            "grid_area": null,
            "grid_auto_columns": null,
            "grid_auto_flow": null,
            "grid_auto_rows": null,
            "grid_column": null,
            "grid_gap": null,
            "grid_row": null,
            "grid_template_areas": null,
            "grid_template_columns": null,
            "grid_template_rows": null,
            "height": null,
            "justify_content": null,
            "justify_items": null,
            "left": null,
            "margin": null,
            "max_height": null,
            "max_width": null,
            "min_height": null,
            "min_width": null,
            "object_fit": null,
            "object_position": null,
            "order": null,
            "overflow": null,
            "overflow_x": null,
            "overflow_y": null,
            "padding": null,
            "right": null,
            "top": null,
            "visibility": null,
            "width": null
          }
        },
        "3eacbe2bac6e4571ba4fb6d1f04154b1": {
          "model_module": "@jupyter-widgets/controls",
          "model_name": "TextareaModel",
          "model_module_version": "1.5.0",
          "state": {
            "_dom_classes": [],
            "_model_module": "@jupyter-widgets/controls",
            "_model_module_version": "1.5.0",
            "_model_name": "TextareaModel",
            "_view_count": null,
            "_view_module": "@jupyter-widgets/controls",
            "_view_module_version": "1.5.0",
            "_view_name": "TextareaView",
            "continuous_update": true,
            "description": "",
            "description_tooltip": null,
            "disabled": false,
            "layout": "IPY_MODEL_a5eba15eb8d14ef8b5a482118ef7d110",
            "placeholder": "We want your feedback!",
            "rows": null,
            "style": "IPY_MODEL_96cb38bf862b462fa6f605dd33e8f921",
            "value": ""
          }
        },
        "754d68570f6945ebae3db80a0cc754a9": {
          "model_module": "@jupyter-widgets/controls",
          "model_name": "ButtonModel",
          "model_module_version": "1.5.0",
          "state": {
            "_dom_classes": [],
            "_model_module": "@jupyter-widgets/controls",
            "_model_module_version": "1.5.0",
            "_model_name": "ButtonModel",
            "_view_count": null,
            "_view_module": "@jupyter-widgets/controls",
            "_view_module_version": "1.5.0",
            "_view_name": "ButtonView",
            "button_style": "",
            "description": "Submit",
            "disabled": false,
            "icon": "",
            "layout": "IPY_MODEL_d120c6ac740d44bd843b702593e5984d",
            "style": "IPY_MODEL_e4ae2febedc84fb19c9f8d30114bb44d",
            "tooltip": ""
          }
        },
        "f32471fa40c240c5875fa65674a584ae": {
          "model_module": "@jupyter-widgets/base",
          "model_name": "LayoutModel",
          "model_module_version": "1.2.0",
          "state": {
            "_model_module": "@jupyter-widgets/base",
            "_model_module_version": "1.2.0",
            "_model_name": "LayoutModel",
            "_view_count": null,
            "_view_module": "@jupyter-widgets/base",
            "_view_module_version": "1.2.0",
            "_view_name": "LayoutView",
            "align_content": null,
            "align_items": null,
            "align_self": null,
            "border": null,
            "bottom": null,
            "display": "none",
            "flex": null,
            "flex_flow": null,
            "grid_area": null,
            "grid_auto_columns": null,
            "grid_auto_flow": null,
            "grid_auto_rows": null,
            "grid_column": null,
            "grid_gap": null,
            "grid_row": null,
            "grid_template_areas": null,
            "grid_template_columns": null,
            "grid_template_rows": null,
            "height": null,
            "justify_content": null,
            "justify_items": null,
            "left": null,
            "margin": null,
            "max_height": null,
            "max_width": null,
            "min_height": null,
            "min_width": null,
            "object_fit": null,
            "object_position": null,
            "order": null,
            "overflow": null,
            "overflow_x": null,
            "overflow_y": null,
            "padding": null,
            "right": null,
            "top": null,
            "visibility": null,
            "width": null
          }
        },
        "8146b6a086804933947c18d18c621823": {
          "model_module": "@jupyter-widgets/base",
          "model_name": "LayoutModel",
          "model_module_version": "1.2.0",
          "state": {
            "_model_module": "@jupyter-widgets/base",
            "_model_module_version": "1.2.0",
            "_model_name": "LayoutModel",
            "_view_count": null,
            "_view_module": "@jupyter-widgets/base",
            "_view_module_version": "1.2.0",
            "_view_name": "LayoutView",
            "align_content": null,
            "align_items": null,
            "align_self": null,
            "border": null,
            "bottom": null,
            "display": "none",
            "flex": null,
            "flex_flow": null,
            "grid_area": null,
            "grid_auto_columns": null,
            "grid_auto_flow": null,
            "grid_auto_rows": null,
            "grid_column": null,
            "grid_gap": null,
            "grid_row": null,
            "grid_template_areas": null,
            "grid_template_columns": null,
            "grid_template_rows": null,
            "height": null,
            "justify_content": null,
            "justify_items": null,
            "left": null,
            "margin": null,
            "max_height": null,
            "max_width": null,
            "min_height": null,
            "min_width": null,
            "object_fit": null,
            "object_position": null,
            "order": null,
            "overflow": null,
            "overflow_x": null,
            "overflow_y": null,
            "padding": null,
            "right": null,
            "top": null,
            "visibility": null,
            "width": null
          }
        },
        "81b5e4a23fe14260becdcac5f2e93f99": {
          "model_module": "@jupyter-widgets/controls",
          "model_name": "DescriptionStyleModel",
          "model_module_version": "1.5.0",
          "state": {
            "_model_module": "@jupyter-widgets/controls",
            "_model_module_version": "1.5.0",
            "_model_name": "DescriptionStyleModel",
            "_view_count": null,
            "_view_module": "@jupyter-widgets/base",
            "_view_module_version": "1.2.0",
            "_view_name": "StyleView",
            "description_width": ""
          }
        },
        "fd3f337d1613432cbead99fa1e637564": {
          "model_module": "@jupyter-widgets/base",
          "model_name": "LayoutModel",
          "model_module_version": "1.2.0",
          "state": {
            "_model_module": "@jupyter-widgets/base",
            "_model_module_version": "1.2.0",
            "_model_name": "LayoutModel",
            "_view_count": null,
            "_view_module": "@jupyter-widgets/base",
            "_view_module_version": "1.2.0",
            "_view_name": "LayoutView",
            "align_content": null,
            "align_items": null,
            "align_self": null,
            "border": null,
            "bottom": null,
            "display": null,
            "flex": null,
            "flex_flow": null,
            "grid_area": null,
            "grid_auto_columns": null,
            "grid_auto_flow": null,
            "grid_auto_rows": null,
            "grid_column": null,
            "grid_gap": null,
            "grid_row": null,
            "grid_template_areas": null,
            "grid_template_columns": null,
            "grid_template_rows": null,
            "height": "auto",
            "justify_content": null,
            "justify_items": null,
            "left": null,
            "margin": null,
            "max_height": null,
            "max_width": null,
            "min_height": null,
            "min_width": null,
            "object_fit": null,
            "object_position": null,
            "order": null,
            "overflow": null,
            "overflow_x": null,
            "overflow_y": null,
            "padding": "0.5em",
            "right": null,
            "top": null,
            "visibility": null,
            "width": "auto"
          }
        },
        "8d44b0d09a5946928358c7ecae7c9c78": {
          "model_module": "@jupyter-widgets/controls",
          "model_name": "ButtonStyleModel",
          "model_module_version": "1.5.0",
          "state": {
            "_model_module": "@jupyter-widgets/controls",
            "_model_module_version": "1.5.0",
            "_model_name": "ButtonStyleModel",
            "_view_count": null,
            "_view_module": "@jupyter-widgets/base",
            "_view_module_version": "1.2.0",
            "_view_name": "StyleView",
            "button_color": "#aaffaa",
            "font_weight": ""
          }
        },
        "df6fde9a88644b9391a42e33c5ce7876": {
          "model_module": "@jupyter-widgets/base",
          "model_name": "LayoutModel",
          "model_module_version": "1.2.0",
          "state": {
            "_model_module": "@jupyter-widgets/base",
            "_model_module_version": "1.2.0",
            "_model_name": "LayoutModel",
            "_view_count": null,
            "_view_module": "@jupyter-widgets/base",
            "_view_module_version": "1.2.0",
            "_view_name": "LayoutView",
            "align_content": null,
            "align_items": null,
            "align_self": null,
            "border": null,
            "bottom": null,
            "display": null,
            "flex": null,
            "flex_flow": null,
            "grid_area": null,
            "grid_auto_columns": null,
            "grid_auto_flow": null,
            "grid_auto_rows": null,
            "grid_column": null,
            "grid_gap": null,
            "grid_row": null,
            "grid_template_areas": null,
            "grid_template_columns": null,
            "grid_template_rows": null,
            "height": "auto",
            "justify_content": null,
            "justify_items": null,
            "left": null,
            "margin": null,
            "max_height": null,
            "max_width": null,
            "min_height": null,
            "min_width": null,
            "object_fit": null,
            "object_position": null,
            "order": null,
            "overflow": null,
            "overflow_x": null,
            "overflow_y": null,
            "padding": "0.5em",
            "right": null,
            "top": null,
            "visibility": null,
            "width": "auto"
          }
        },
        "b8f9c8937ab94c25854fb40a8b8d6a0d": {
          "model_module": "@jupyter-widgets/controls",
          "model_name": "ButtonStyleModel",
          "model_module_version": "1.5.0",
          "state": {
            "_model_module": "@jupyter-widgets/controls",
            "_model_module_version": "1.5.0",
            "_model_name": "ButtonStyleModel",
            "_view_count": null,
            "_view_module": "@jupyter-widgets/base",
            "_view_module_version": "1.2.0",
            "_view_name": "StyleView",
            "button_color": "#dddd77",
            "font_weight": ""
          }
        },
        "dd024f9e702e4d38ab2f5e3412f2328f": {
          "model_module": "@jupyter-widgets/base",
          "model_name": "LayoutModel",
          "model_module_version": "1.2.0",
          "state": {
            "_model_module": "@jupyter-widgets/base",
            "_model_module_version": "1.2.0",
            "_model_name": "LayoutModel",
            "_view_count": null,
            "_view_module": "@jupyter-widgets/base",
            "_view_module_version": "1.2.0",
            "_view_name": "LayoutView",
            "align_content": null,
            "align_items": null,
            "align_self": null,
            "border": null,
            "bottom": null,
            "display": null,
            "flex": null,
            "flex_flow": null,
            "grid_area": null,
            "grid_auto_columns": null,
            "grid_auto_flow": null,
            "grid_auto_rows": null,
            "grid_column": null,
            "grid_gap": null,
            "grid_row": null,
            "grid_template_areas": null,
            "grid_template_columns": null,
            "grid_template_rows": null,
            "height": "auto",
            "justify_content": null,
            "justify_items": null,
            "left": null,
            "margin": null,
            "max_height": null,
            "max_width": null,
            "min_height": null,
            "min_width": null,
            "object_fit": null,
            "object_position": null,
            "order": null,
            "overflow": null,
            "overflow_x": null,
            "overflow_y": null,
            "padding": "0.5em",
            "right": null,
            "top": null,
            "visibility": null,
            "width": "auto"
          }
        },
        "2e7b18c6ae054c7f8a27a0c931153c16": {
          "model_module": "@jupyter-widgets/controls",
          "model_name": "ButtonStyleModel",
          "model_module_version": "1.5.0",
          "state": {
            "_model_module": "@jupyter-widgets/controls",
            "_model_module_version": "1.5.0",
            "_model_name": "ButtonStyleModel",
            "_view_count": null,
            "_view_module": "@jupyter-widgets/base",
            "_view_module_version": "1.2.0",
            "_view_name": "StyleView",
            "button_color": "#ffaaaa",
            "font_weight": ""
          }
        },
        "a5eba15eb8d14ef8b5a482118ef7d110": {
          "model_module": "@jupyter-widgets/base",
          "model_name": "LayoutModel",
          "model_module_version": "1.2.0",
          "state": {
            "_model_module": "@jupyter-widgets/base",
            "_model_module_version": "1.2.0",
            "_model_name": "LayoutModel",
            "_view_count": null,
            "_view_module": "@jupyter-widgets/base",
            "_view_module_version": "1.2.0",
            "_view_name": "LayoutView",
            "align_content": null,
            "align_items": null,
            "align_self": null,
            "border": null,
            "bottom": null,
            "display": null,
            "flex": null,
            "flex_flow": null,
            "grid_area": null,
            "grid_auto_columns": null,
            "grid_auto_flow": null,
            "grid_auto_rows": null,
            "grid_column": null,
            "grid_gap": null,
            "grid_row": null,
            "grid_template_areas": null,
            "grid_template_columns": null,
            "grid_template_rows": null,
            "height": "auto",
            "justify_content": null,
            "justify_items": null,
            "left": null,
            "margin": null,
            "max_height": null,
            "max_width": null,
            "min_height": null,
            "min_width": null,
            "object_fit": null,
            "object_position": null,
            "order": null,
            "overflow": null,
            "overflow_x": null,
            "overflow_y": null,
            "padding": null,
            "right": null,
            "top": null,
            "visibility": null,
            "width": "auto"
          }
        },
        "96cb38bf862b462fa6f605dd33e8f921": {
          "model_module": "@jupyter-widgets/controls",
          "model_name": "DescriptionStyleModel",
          "model_module_version": "1.5.0",
          "state": {
            "_model_module": "@jupyter-widgets/controls",
            "_model_module_version": "1.5.0",
            "_model_name": "DescriptionStyleModel",
            "_view_count": null,
            "_view_module": "@jupyter-widgets/base",
            "_view_module_version": "1.2.0",
            "_view_name": "StyleView",
            "description_width": ""
          }
        },
        "d120c6ac740d44bd843b702593e5984d": {
          "model_module": "@jupyter-widgets/base",
          "model_name": "LayoutModel",
          "model_module_version": "1.2.0",
          "state": {
            "_model_module": "@jupyter-widgets/base",
            "_model_module_version": "1.2.0",
            "_model_name": "LayoutModel",
            "_view_count": null,
            "_view_module": "@jupyter-widgets/base",
            "_view_module_version": "1.2.0",
            "_view_name": "LayoutView",
            "align_content": null,
            "align_items": null,
            "align_self": null,
            "border": null,
            "bottom": null,
            "display": null,
            "flex": null,
            "flex_flow": null,
            "grid_area": null,
            "grid_auto_columns": null,
            "grid_auto_flow": null,
            "grid_auto_rows": null,
            "grid_column": null,
            "grid_gap": null,
            "grid_row": null,
            "grid_template_areas": null,
            "grid_template_columns": null,
            "grid_template_rows": null,
            "height": "auto",
            "justify_content": null,
            "justify_items": null,
            "left": null,
            "margin": null,
            "max_height": null,
            "max_width": null,
            "min_height": null,
            "min_width": null,
            "object_fit": null,
            "object_position": null,
            "order": null,
            "overflow": null,
            "overflow_x": null,
            "overflow_y": null,
            "padding": null,
            "right": null,
            "top": null,
            "visibility": null,
            "width": "auto"
          }
        },
        "e4ae2febedc84fb19c9f8d30114bb44d": {
          "model_module": "@jupyter-widgets/controls",
          "model_name": "ButtonStyleModel",
          "model_module_version": "1.5.0",
          "state": {
            "_model_module": "@jupyter-widgets/controls",
            "_model_module_version": "1.5.0",
            "_model_name": "ButtonStyleModel",
            "_view_count": null,
            "_view_module": "@jupyter-widgets/base",
            "_view_module_version": "1.2.0",
            "_view_name": "StyleView",
            "button_color": null,
            "font_weight": ""
          }
        }
      }
    }
  },
  "nbformat": 4,
  "nbformat_minor": 0
}